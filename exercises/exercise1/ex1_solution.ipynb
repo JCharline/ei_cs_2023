{
 "cells": [
  {
   "cell_type": "markdown",
   "metadata": {},
   "source": [
    "# Exercise 1: a first illustration of Real-World Data (RWD) analysis"
   ]
  },
  {
   "cell_type": "markdown",
   "metadata": {},
   "source": [
    "In this first exercise we introduce some basic categories of RWD and we illustrate some of the challenges related to their preprocessing for research.\n",
    "\n",
    "We initialize the notebook by importing the following libraries:"
   ]
  },
  {
   "cell_type": "code",
   "execution_count": 1,
   "metadata": {
    "tags": []
   },
   "outputs": [],
   "source": [
    "import pandas as pd\n",
    "import numpy as np\n",
    "\n",
    "# Visualization library\n",
    "import altair as alt\n",
    "alt.data_transformers.enable('default', max_rows=None)\n",
    "\n",
    "# Dates management\n",
    "import datetime\n",
    "\n",
    "# For the computation of Kaplan-Meier estimates and log-rank tests\n",
    "import lifelines"
   ]
  },
  {
   "cell_type": "markdown",
   "metadata": {},
   "source": [
    "# Table of content"
   ]
  },
  {
   "cell_type": "markdown",
   "metadata": {},
   "source": [
    "1. [Data Exploration](#data_exploration)  \n",
    "    1.1 [Patients' identities and demographic data](#patient_ids)  \n",
    "    1.2 [Administrative data related to patients' pathways](#visits)  \n",
    "    1.3 [Claim data related to patients' conditions (diagnosis)](#cond)  \n",
    "    1.4 [Structured medication data](#med)  \n",
    "2. [Preprocessing](#preprocessing)  \n",
    "    2.1 [First attempt of visualizing survival curves](#first_kaplan)  \n",
    "    2.2 [Pre-processing patients' identities and demographic data](#prepro_patient)  \n",
    "    2.3 [Pre-processing administrative data related to patients' pathways](#prepro_visits)  \n",
    "    2.4 [Pre-processing claim data](#prepro_cond)  \n",
    "3. [Statistical analysis](#stat)  \n",
    "    3.1 [First objective : Are the drugs efficient on the overall population ?](#stat_first_kaplan)  \n",
    "    3.2 [Second objective : Sub-population analysis](#stat_second_kaplan)\n",
    "4. [Takeaways](#takeaways) \n",
    "5. [References](#references)  "
   ]
  },
  {
   "cell_type": "markdown",
   "metadata": {},
   "source": [
    "<a id=\"data_exploration\"></a>\n",
    "# 1. Data Exploration"
   ]
  },
  {
   "cell_type": "markdown",
   "metadata": {},
   "source": [
    "The dataset is available in the */data* folder. The database structure is freely inspired from the AP-HP Clinical Data Warehouse (CDW).\n",
    "\n",
    "Let's assume that data were extracted from the CDW on **December 1st, 2025**."
   ]
  },
  {
   "cell_type": "markdown",
   "metadata": {},
   "source": [
    "<a id=\"patient_ids\"></a>\n",
    "## 1.1 Patients' identities and demographic data"
   ]
  },
  {
   "cell_type": "markdown",
   "metadata": {},
   "source": [
    "- Open the *data/df_person.pkl* file using the `pandas.read_pickle()` function.\n",
    "- Explore the type of each feature of the `df_person` DataFrame with the `.info()` function.\n",
    "- Check out the first rows of the DataFrame using the `.head()` function."
   ]
  },
  {
   "cell_type": "code",
   "execution_count": 2,
   "metadata": {
    "tags": []
   },
   "outputs": [
    {
     "name": "stdout",
     "output_type": "stream",
     "text": [
      "<class 'pandas.core.frame.DataFrame'>\n",
      "Int64Index: 57000 entries, 0 to 1749\n",
      "Data columns (total 5 columns):\n",
      " #   Column               Non-Null Count  Dtype         \n",
      "---  ------               --------------  -----         \n",
      " 0   person_id            57000 non-null  int64         \n",
      " 1   birth_datetime       51249 non-null  datetime64[ns]\n",
      " 2   death_datetime       26194 non-null  datetime64[ns]\n",
      " 3   gender_source_value  57000 non-null  object        \n",
      " 4   cdm_source           57000 non-null  object        \n",
      "dtypes: datetime64[ns](2), int64(1), object(2)\n",
      "memory usage: 2.6+ MB\n"
     ]
    },
    {
     "data": {
      "text/html": [
       "<div>\n",
       "<style scoped>\n",
       "    .dataframe tbody tr th:only-of-type {\n",
       "        vertical-align: middle;\n",
       "    }\n",
       "\n",
       "    .dataframe tbody tr th {\n",
       "        vertical-align: top;\n",
       "    }\n",
       "\n",
       "    .dataframe thead th {\n",
       "        text-align: right;\n",
       "    }\n",
       "</style>\n",
       "<table border=\"1\" class=\"dataframe\">\n",
       "  <thead>\n",
       "    <tr style=\"text-align: right;\">\n",
       "      <th></th>\n",
       "      <th>person_id</th>\n",
       "      <th>birth_datetime</th>\n",
       "      <th>death_datetime</th>\n",
       "      <th>gender_source_value</th>\n",
       "      <th>cdm_source</th>\n",
       "    </tr>\n",
       "  </thead>\n",
       "  <tbody>\n",
       "    <tr>\n",
       "      <th>0</th>\n",
       "      <td>85902261</td>\n",
       "      <td>2012-04-06</td>\n",
       "      <td>2025-10-14</td>\n",
       "      <td>f</td>\n",
       "      <td>EHR 1</td>\n",
       "    </tr>\n",
       "    <tr>\n",
       "      <th>1</th>\n",
       "      <td>80206244</td>\n",
       "      <td>2014-05-09</td>\n",
       "      <td>NaT</td>\n",
       "      <td>f</td>\n",
       "      <td>EHR 1</td>\n",
       "    </tr>\n",
       "    <tr>\n",
       "      <th>2</th>\n",
       "      <td>83994765</td>\n",
       "      <td>2006-08-22</td>\n",
       "      <td>NaT</td>\n",
       "      <td>f</td>\n",
       "      <td>EHR 1</td>\n",
       "    </tr>\n",
       "    <tr>\n",
       "      <th>3</th>\n",
       "      <td>89192524</td>\n",
       "      <td>2018-09-18</td>\n",
       "      <td>NaT</td>\n",
       "      <td>f</td>\n",
       "      <td>EHR 1</td>\n",
       "    </tr>\n",
       "    <tr>\n",
       "      <th>4</th>\n",
       "      <td>81459188</td>\n",
       "      <td>2014-08-20</td>\n",
       "      <td>NaT</td>\n",
       "      <td>f</td>\n",
       "      <td>EHR 1</td>\n",
       "    </tr>\n",
       "  </tbody>\n",
       "</table>\n",
       "</div>"
      ],
      "text/plain": [
       "   person_id birth_datetime death_datetime gender_source_value cdm_source\n",
       "0   85902261     2012-04-06     2025-10-14                   f      EHR 1\n",
       "1   80206244     2014-05-09            NaT                   f      EHR 1\n",
       "2   83994765     2006-08-22            NaT                   f      EHR 1\n",
       "3   89192524     2018-09-18            NaT                   f      EHR 1\n",
       "4   81459188     2014-08-20            NaT                   f      EHR 1"
      ]
     },
     "execution_count": 2,
     "metadata": {},
     "output_type": "execute_result"
    }
   ],
   "source": [
    "df_person = pd.read_pickle('data/df_person.pkl')\n",
    "df_person.info()\n",
    "df_person.head()"
   ]
  },
  {
   "cell_type": "markdown",
   "metadata": {},
   "source": [
    "How many patient_ids do we have in this database ?\n",
    "\n",
    "TIP : You can use the `DataFrame.col_name.unique()` function on one of the columns"
   ]
  },
  {
   "cell_type": "code",
   "execution_count": 3,
   "metadata": {
    "tags": []
   },
   "outputs": [
    {
     "name": "stdout",
     "output_type": "stream",
     "text": [
      "We have 57000 unique patient ids in this dataset.\n"
     ]
    }
   ],
   "source": [
    "print(f\"We have {df_person.person_id.nunique()} unique patient ids in this dataset.\")"
   ]
  },
  {
   "cell_type": "markdown",
   "metadata": {},
   "source": [
    "<a id=\"visits\"></a>\n",
    "## 1.2 Administrative data related to patients' pathways"
   ]
  },
  {
   "cell_type": "markdown",
   "metadata": {},
   "source": [
    "Explore the `df_visit` DataFrame that gathers administrative data about patient's hospitalizations."
   ]
  },
  {
   "cell_type": "code",
   "execution_count": 4,
   "metadata": {
    "tags": []
   },
   "outputs": [
    {
     "name": "stdout",
     "output_type": "stream",
     "text": [
      "<class 'pandas.core.frame.DataFrame'>\n",
      "Int64Index: 57000 entries, 0 to 1749\n",
      "Data columns (total 6 columns):\n",
      " #   Column                Non-Null Count  Dtype         \n",
      "---  ------                --------------  -----         \n",
      " 0   visit_occurrence_id   57000 non-null  int64         \n",
      " 1   care_site_id          57000 non-null  object        \n",
      " 2   visit_start_datetime  57000 non-null  datetime64[ns]\n",
      " 3   visit_end_datetime    56599 non-null  datetime64[ns]\n",
      " 4   person_id             57000 non-null  int64         \n",
      " 5   visit_source_value    57000 non-null  object        \n",
      "dtypes: datetime64[ns](2), int64(2), object(2)\n",
      "memory usage: 3.0+ MB\n"
     ]
    },
    {
     "data": {
      "text/html": [
       "<div>\n",
       "<style scoped>\n",
       "    .dataframe tbody tr th:only-of-type {\n",
       "        vertical-align: middle;\n",
       "    }\n",
       "\n",
       "    .dataframe tbody tr th {\n",
       "        vertical-align: top;\n",
       "    }\n",
       "\n",
       "    .dataframe thead th {\n",
       "        text-align: right;\n",
       "    }\n",
       "</style>\n",
       "<table border=\"1\" class=\"dataframe\">\n",
       "  <thead>\n",
       "    <tr style=\"text-align: right;\">\n",
       "      <th></th>\n",
       "      <th>visit_occurrence_id</th>\n",
       "      <th>care_site_id</th>\n",
       "      <th>visit_start_datetime</th>\n",
       "      <th>visit_end_datetime</th>\n",
       "      <th>person_id</th>\n",
       "      <th>visit_source_value</th>\n",
       "    </tr>\n",
       "  </thead>\n",
       "  <tbody>\n",
       "    <tr>\n",
       "      <th>0</th>\n",
       "      <td>87039763</td>\n",
       "      <td>Hopital M.Bres</td>\n",
       "      <td>2024-12-24</td>\n",
       "      <td>2025-01-10</td>\n",
       "      <td>85935943</td>\n",
       "      <td>Hospitalisés</td>\n",
       "    </tr>\n",
       "    <tr>\n",
       "      <th>1</th>\n",
       "      <td>83184379</td>\n",
       "      <td>Centre F.Sinoussi</td>\n",
       "      <td>2025-09-01</td>\n",
       "      <td>2025-09-21</td>\n",
       "      <td>87104656</td>\n",
       "      <td>Hospitalisés</td>\n",
       "    </tr>\n",
       "    <tr>\n",
       "      <th>2</th>\n",
       "      <td>87368296</td>\n",
       "      <td>Hopital M.Bres</td>\n",
       "      <td>2023-01-08</td>\n",
       "      <td>2023-01-08</td>\n",
       "      <td>80785788</td>\n",
       "      <td>Hospitalisés</td>\n",
       "    </tr>\n",
       "    <tr>\n",
       "      <th>3</th>\n",
       "      <td>84290710</td>\n",
       "      <td>Hopital M.Bres</td>\n",
       "      <td>2024-11-27</td>\n",
       "      <td>2024-12-13</td>\n",
       "      <td>82815332</td>\n",
       "      <td>Hospitalisés</td>\n",
       "    </tr>\n",
       "    <tr>\n",
       "      <th>4</th>\n",
       "      <td>87357364</td>\n",
       "      <td>Centre F.Sinoussi</td>\n",
       "      <td>2025-07-29</td>\n",
       "      <td>2025-08-07</td>\n",
       "      <td>80509718</td>\n",
       "      <td>Hospitalisés</td>\n",
       "    </tr>\n",
       "  </tbody>\n",
       "</table>\n",
       "</div>"
      ],
      "text/plain": [
       "   visit_occurrence_id       care_site_id visit_start_datetime  \\\n",
       "0             87039763     Hopital M.Bres           2024-12-24   \n",
       "1             83184379  Centre F.Sinoussi           2025-09-01   \n",
       "2             87368296     Hopital M.Bres           2023-01-08   \n",
       "3             84290710     Hopital M.Bres           2024-11-27   \n",
       "4             87357364  Centre F.Sinoussi           2025-07-29   \n",
       "\n",
       "  visit_end_datetime  person_id visit_source_value  \n",
       "0         2025-01-10   85935943       Hospitalisés  \n",
       "1         2025-09-21   87104656       Hospitalisés  \n",
       "2         2023-01-08   80785788       Hospitalisés  \n",
       "3         2024-12-13   82815332       Hospitalisés  \n",
       "4         2025-08-07   80509718       Hospitalisés  "
      ]
     },
     "execution_count": 4,
     "metadata": {},
     "output_type": "execute_result"
    }
   ],
   "source": [
    "df_visit = pd.read_pickle('data/df_visit.pkl')\n",
    "df_visit.info()\n",
    "df_visit.head()"
   ]
  },
  {
   "cell_type": "markdown",
   "metadata": {},
   "source": [
    "Compute the number of visits recorded by care site.\n",
    "\n",
    "TIP : You can use the `DataFrame.col_name.value_counts()`function on the right column"
   ]
  },
  {
   "cell_type": "code",
   "execution_count": 5,
   "metadata": {
    "tags": []
   },
   "outputs": [
    {
     "data": {
      "text/plain": [
       "GHU A.Fleming         14390\n",
       "Clinique L.Pasteur    14349\n",
       "Centre F.Sinoussi     14147\n",
       "Hopital M.Bres        14114\n",
       "Name: care_site_id, dtype: int64"
      ]
     },
     "execution_count": 5,
     "metadata": {},
     "output_type": "execute_result"
    }
   ],
   "source": [
    "df_visit.care_site_id.value_counts()"
   ]
  },
  {
   "cell_type": "markdown",
   "metadata": {},
   "source": [
    "<a id=\"cond\"></a>\n",
    "## 1.3 Claim data related to patients' conditions (diagnosis)"
   ]
  },
  {
   "cell_type": "markdown",
   "metadata": {},
   "source": [
    "Explore the `df_condition` DataFrame that gathers claim data used by hospital managers for reimbursement purposes.\n",
    "\n",
    "Meeting with experts has allowed us to identify the ICD-10 codes corresponding to the flu virus :\n",
    "- J09\n",
    "- J10\n",
    "- J11\n",
    "\n",
    "You can check out on the following website the meaning of those codes : https://www.aideaucodage.fr/cim"
   ]
  },
  {
   "cell_type": "code",
   "execution_count": 6,
   "metadata": {
    "tags": []
   },
   "outputs": [
    {
     "name": "stdout",
     "output_type": "stream",
     "text": [
      "<class 'pandas.core.frame.DataFrame'>\n",
      "Int64Index: 57000 entries, 0 to 1749\n",
      "Data columns (total 4 columns):\n",
      " #   Column                   Non-Null Count  Dtype \n",
      "---  ------                   --------------  ----- \n",
      " 0   visit_occurrence_id      57000 non-null  int64 \n",
      " 1   person_id                57000 non-null  int64 \n",
      " 2   condition_occurrence_id  57000 non-null  int64 \n",
      " 3   condition_source_value   57000 non-null  object\n",
      "dtypes: int64(3), object(1)\n",
      "memory usage: 2.2+ MB\n"
     ]
    },
    {
     "data": {
      "text/html": [
       "<div>\n",
       "<style scoped>\n",
       "    .dataframe tbody tr th:only-of-type {\n",
       "        vertical-align: middle;\n",
       "    }\n",
       "\n",
       "    .dataframe tbody tr th {\n",
       "        vertical-align: top;\n",
       "    }\n",
       "\n",
       "    .dataframe thead th {\n",
       "        text-align: right;\n",
       "    }\n",
       "</style>\n",
       "<table border=\"1\" class=\"dataframe\">\n",
       "  <thead>\n",
       "    <tr style=\"text-align: right;\">\n",
       "      <th></th>\n",
       "      <th>visit_occurrence_id</th>\n",
       "      <th>person_id</th>\n",
       "      <th>condition_occurrence_id</th>\n",
       "      <th>condition_source_value</th>\n",
       "    </tr>\n",
       "  </thead>\n",
       "  <tbody>\n",
       "    <tr>\n",
       "      <th>0</th>\n",
       "      <td>87039763</td>\n",
       "      <td>85935943</td>\n",
       "      <td>86006023</td>\n",
       "      <td>J10</td>\n",
       "    </tr>\n",
       "    <tr>\n",
       "      <th>1</th>\n",
       "      <td>83184379</td>\n",
       "      <td>87104656</td>\n",
       "      <td>87765316</td>\n",
       "      <td>J11</td>\n",
       "    </tr>\n",
       "    <tr>\n",
       "      <th>2</th>\n",
       "      <td>87368296</td>\n",
       "      <td>80785788</td>\n",
       "      <td>89665004</td>\n",
       "      <td>J09</td>\n",
       "    </tr>\n",
       "    <tr>\n",
       "      <th>3</th>\n",
       "      <td>84290710</td>\n",
       "      <td>82815332</td>\n",
       "      <td>84026043</td>\n",
       "      <td>J10</td>\n",
       "    </tr>\n",
       "    <tr>\n",
       "      <th>4</th>\n",
       "      <td>87357364</td>\n",
       "      <td>80509718</td>\n",
       "      <td>86346709</td>\n",
       "      <td>J10</td>\n",
       "    </tr>\n",
       "  </tbody>\n",
       "</table>\n",
       "</div>"
      ],
      "text/plain": [
       "   visit_occurrence_id  person_id  condition_occurrence_id  \\\n",
       "0             87039763   85935943                 86006023   \n",
       "1             83184379   87104656                 87765316   \n",
       "2             87368296   80785788                 89665004   \n",
       "3             84290710   82815332                 84026043   \n",
       "4             87357364   80509718                 86346709   \n",
       "\n",
       "  condition_source_value  \n",
       "0                    J10  \n",
       "1                    J11  \n",
       "2                    J09  \n",
       "3                    J10  \n",
       "4                    J10  "
      ]
     },
     "execution_count": 6,
     "metadata": {},
     "output_type": "execute_result"
    }
   ],
   "source": [
    "df_condition = pd.read_pickle('data/df_condition.pkl')\n",
    "df_condition.info()\n",
    "df_condition.head()"
   ]
  },
  {
   "cell_type": "markdown",
   "metadata": {},
   "source": [
    "How many ICD-10 codes can you identify in this dataset ?  \n",
    "\n",
    "TIP : You can use the `DataFrame.col_name.unique()` function."
   ]
  },
  {
   "cell_type": "code",
   "execution_count": 7,
   "metadata": {
    "tags": []
   },
   "outputs": [
    {
     "name": "stdout",
     "output_type": "stream",
     "text": [
      "The available ICD-10 codes are the following : ['J10' 'J11' 'J09' 'B019' 'V9544' 'U0715']\n"
     ]
    }
   ],
   "source": [
    "print(f\"The available ICD-10 codes are the following : {df_condition.condition_source_value.unique()}\")"
   ]
  },
  {
   "cell_type": "markdown",
   "metadata": {},
   "source": [
    "<a id=\"med\"></a>\n",
    "## 1.4 Structured medication data"
   ]
  },
  {
   "cell_type": "markdown",
   "metadata": {},
   "source": [
    "Explore the `df_med` DataFrame gathering structured data in regards to medication administration during hospital stays."
   ]
  },
  {
   "cell_type": "code",
   "execution_count": 8,
   "metadata": {
    "tags": []
   },
   "outputs": [
    {
     "name": "stdout",
     "output_type": "stream",
     "text": [
      "<class 'pandas.core.frame.DataFrame'>\n",
      "Int64Index: 38000 entries, 0 to 3499\n",
      "Data columns (total 4 columns):\n",
      " #   Column               Non-Null Count  Dtype \n",
      "---  ------               --------------  ----- \n",
      " 0   visit_occurrence_id  38000 non-null  object\n",
      " 1   drug_exposure_id     38000 non-null  object\n",
      " 2   drug_source_value    38000 non-null  object\n",
      " 3   cdm_source           38000 non-null  object\n",
      "dtypes: object(4)\n",
      "memory usage: 1.4+ MB\n"
     ]
    },
    {
     "data": {
      "text/html": [
       "<div>\n",
       "<style scoped>\n",
       "    .dataframe tbody tr th:only-of-type {\n",
       "        vertical-align: middle;\n",
       "    }\n",
       "\n",
       "    .dataframe tbody tr th {\n",
       "        vertical-align: top;\n",
       "    }\n",
       "\n",
       "    .dataframe thead th {\n",
       "        text-align: right;\n",
       "    }\n",
       "</style>\n",
       "<table border=\"1\" class=\"dataframe\">\n",
       "  <thead>\n",
       "    <tr style=\"text-align: right;\">\n",
       "      <th></th>\n",
       "      <th>visit_occurrence_id</th>\n",
       "      <th>drug_exposure_id</th>\n",
       "      <th>drug_source_value</th>\n",
       "      <th>cdm_source</th>\n",
       "    </tr>\n",
       "  </thead>\n",
       "  <tbody>\n",
       "    <tr>\n",
       "      <th>0</th>\n",
       "      <td>83508825</td>\n",
       "      <td>81635492</td>\n",
       "      <td>drugA</td>\n",
       "      <td>EHR med</td>\n",
       "    </tr>\n",
       "    <tr>\n",
       "      <th>1</th>\n",
       "      <td>84793089</td>\n",
       "      <td>81981242</td>\n",
       "      <td>drugA</td>\n",
       "      <td>EHR med</td>\n",
       "    </tr>\n",
       "    <tr>\n",
       "      <th>2</th>\n",
       "      <td>81363581</td>\n",
       "      <td>81049850</td>\n",
       "      <td>drugA</td>\n",
       "      <td>EHR med</td>\n",
       "    </tr>\n",
       "    <tr>\n",
       "      <th>3</th>\n",
       "      <td>84194047</td>\n",
       "      <td>89471075</td>\n",
       "      <td>drugA</td>\n",
       "      <td>EHR med</td>\n",
       "    </tr>\n",
       "    <tr>\n",
       "      <th>4</th>\n",
       "      <td>86390630</td>\n",
       "      <td>88647388</td>\n",
       "      <td>drugA</td>\n",
       "      <td>EHR med</td>\n",
       "    </tr>\n",
       "  </tbody>\n",
       "</table>\n",
       "</div>"
      ],
      "text/plain": [
       "  visit_occurrence_id drug_exposure_id drug_source_value cdm_source\n",
       "0            83508825         81635492             drugA    EHR med\n",
       "1            84793089         81981242             drugA    EHR med\n",
       "2            81363581         81049850             drugA    EHR med\n",
       "3            84194047         89471075             drugA    EHR med\n",
       "4            86390630         88647388             drugA    EHR med"
      ]
     },
     "execution_count": 8,
     "metadata": {},
     "output_type": "execute_result"
    }
   ],
   "source": [
    "df_med = pd.read_pickle('data/df_med.pkl')\n",
    "df_med.info()\n",
    "df_med.head()"
   ]
  },
  {
   "cell_type": "markdown",
   "metadata": {},
   "source": [
    "<a id=\"preprocessing\"></a>\n",
    "# 2. Preprocessing"
   ]
  },
  {
   "cell_type": "markdown",
   "metadata": {},
   "source": [
    "Now that we know what categories of data are available, let's process them!\n",
    "\n",
    "We have defined two helper functions in the *viz.py* script that leverage the [*lifelines*](https://lifelines.readthedocs.io/en/latest/) library to plot Kaplan-Meier estimates and compute log-rank tests relatively to our objectives :  \n",
    "1. Evaluate the overall impact of drug A and B\n",
    "2. Stratify our analysis on age and gender"
   ]
  },
  {
   "cell_type": "code",
   "execution_count": 9,
   "metadata": {
    "tags": []
   },
   "outputs": [],
   "source": [
    "#Import the helper functions\n",
    "import sys\n",
    "sys.path.append(\"../\")\n",
    "from viz import plot_primary_kaplan, plot_secondary_kaplan"
   ]
  },
  {
   "cell_type": "markdown",
   "metadata": {},
   "source": [
    "<a id=\"first_kaplan\"></a>\n",
    "## 2.1 First attempt of visualizing survival curves"
   ]
  },
  {
   "cell_type": "markdown",
   "metadata": {},
   "source": [
    "Let's try to compute straightforwardly the Kaplan-Meier estimates!  \n",
    "\n",
    "First define the end date of the study, as needed to censor data, using the [*datetime*](https://pypi.org/project/DateTime/) package.\n",
    "\n",
    "Here, we choose the censor date as the December 1st, 2025 because our data was extracted on the December 1st, 2025."
   ]
  },
  {
   "cell_type": "code",
   "execution_count": 10,
   "metadata": {
    "tags": []
   },
   "outputs": [],
   "source": [
    "t_end_of_study = datetime.date(2025,12,1)"
   ]
  },
  {
   "cell_type": "markdown",
   "metadata": {},
   "source": [
    "Print the docstrings of the `plot_primary_kaplan` function, and use them to plot the first Kaplan-Meier estimates for the whole population regarding the drug administration.\n",
    "\n",
    "TIP : To print the documentation of a function, you can call the `__doc__`attribute of the function."
   ]
  },
  {
   "cell_type": "code",
   "execution_count": 11,
   "metadata": {
    "tags": []
   },
   "outputs": [
    {
     "name": "stdout",
     "output_type": "stream",
     "text": [
      "\n",
      "    Function that displays survival curves computed by the KaplanMeierFitter function from the lifeline package. \n",
      "    It compares the drugA and drugB effects to the control cohort.\n",
      "\n",
      "    Parameters\n",
      "    ----------\n",
      "    :param df_person_kaplan: pandas df,\n",
      "        DataFrame gathering the demographic data about the patients of interest.\n",
      "        Must have the same structure as the initial `df_person` table (must contain especially `person_id`\n",
      "        and potential `death_datetime`).\n",
      "    :param list_case: list of tuples,\n",
      "        List of studied case for the survival analysis.\n",
      "        List of tuple (df_visit-pandas df-, df_med-pandas df-, name-str-) having :\n",
      "            - df_visit : hospitalization DataFrame, with information on entry/exit dates\n",
      "            - df_med : drug administration DataFrame, must contain ONLY the drugs of interest (i.e epidemic)\n",
      "            - name : name of the studied case (for visualization purposes)\n",
      "    :param t_end_of_study: datetime.date,\n",
      "        Date of the end of the study, i.e after which no information can be trusted (censoring).\n",
      "\n",
      "    Returns\n",
      "    -------\n",
      "    :return: None\n",
      "        Plots the survival curves built by the Kaplan-Meier estimates.\n",
      "    \n"
     ]
    }
   ],
   "source": [
    "# Print the docstrings of the visualization functions\n",
    "print(plot_primary_kaplan.__doc__)\n",
    "# print(plot_secondary_kaplan.__doc__)"
   ]
  },
  {
   "cell_type": "code",
   "execution_count": 12,
   "metadata": {
    "scrolled": true,
    "tags": []
   },
   "outputs": [
    {
     "data": {
      "image/png": "[encoded data removed]",
      "text/plain": [
       "<Figure size 1050x550 with 4 Axes>"
      ]
     },
     "metadata": {},
     "output_type": "display_data"
    }
   ],
   "source": [
    "plot_primary_kaplan(df_person, [(df_visit, df_med, 'all population')], t_end_of_study)"
   ]
  },
  {
   "cell_type": "markdown",
   "metadata": {},
   "source": [
    "Does the Kaplan-Meier estimates seem correct ?"
   ]
  },
  {
   "cell_type": "markdown",
   "metadata": {},
   "source": [
    "**Correction** :  \n",
    "These survival curves do not correspond at all to what is usually expected. Our data must be flawed, and a preprocessing step must be carried on.\n",
    "\n",
    "**Never rush towards statistical analysis! Real-World Data is never what you hope it is. Explore the dataset and check its quality before any analysis!**"
   ]
  },
  {
   "cell_type": "markdown",
   "metadata": {},
   "source": [
    "<a id=\"prepro_patient\"></a>\n",
    "## 2.2 Pre-processing patients' identities and demographic data"
   ]
  },
  {
   "cell_type": "markdown",
   "metadata": {},
   "source": [
    "### 2.2.1 Birth dates"
   ]
  },
  {
   "cell_type": "markdown",
   "metadata": {},
   "source": [
    "Let's explore identities and demographic data. Count the number of missing values for each feature of the `df_person` DataFrame. What do you observe ?\n",
    "\n",
    "TIP : Use the `DataFrame.isna().sum()` function to compute the number of NA values within each column of the DataFrame."
   ]
  },
  {
   "cell_type": "code",
   "execution_count": 13,
   "metadata": {
    "tags": []
   },
   "outputs": [
    {
     "data": {
      "text/plain": [
       "person_id                  0\n",
       "birth_datetime          5751\n",
       "death_datetime         30806\n",
       "gender_source_value        0\n",
       "cdm_source                 0\n",
       "dtype: int64"
      ]
     },
     "execution_count": 13,
     "metadata": {},
     "output_type": "execute_result"
    }
   ],
   "source": [
    "df_person.isna().sum()"
   ]
  },
  {
   "cell_type": "markdown",
   "metadata": {},
   "source": [
    "Some dates of birth are missing. Can you search for the origin of this lack of data ?"
   ]
  },
  {
   "cell_type": "markdown",
   "metadata": {},
   "source": [
    "TIP : Check out the impact of `cdm_source` in the missingness of birth datetime."
   ]
  },
  {
   "cell_type": "code",
   "execution_count": 14,
   "metadata": {
    "tags": []
   },
   "outputs": [
    {
     "name": "stdout",
     "output_type": "stream",
     "text": [
      "Number of missing birth datetimes for EHR 1 : 0\n"
     ]
    }
   ],
   "source": [
    "print(f\"Number of missing birth datetimes for EHR 1 : {df_person.loc[df_person.cdm_source=='EHR 1'].birth_datetime.isna().sum()}\")"
   ]
  },
  {
   "cell_type": "code",
   "execution_count": 15,
   "metadata": {
    "tags": []
   },
   "outputs": [
    {
     "name": "stdout",
     "output_type": "stream",
     "text": [
      "Number of missing birth datetimes for EHR 2 : 5751\n"
     ]
    }
   ],
   "source": [
    "print(f\"Number of missing birth datetimes for EHR 2 : {df_person.loc[df_person.cdm_source=='EHR 2'].birth_datetime.isna().sum()}\")"
   ]
  },
  {
   "cell_type": "markdown",
   "metadata": {},
   "source": [
    "What would you suggest to address this bias ?"
   ]
  },
  {
   "cell_type": "markdown",
   "metadata": {},
   "source": [
    "**Correction** :  \n",
    "The birth dates quality issue can be directly associated to the registration within the \"EHR 2\" software. Although it could include a clinical bias, a solution may be to discard data coming from this software (this assumption should be grounded in an understanding of the context of use of both softwares! Clinicians' expertise shall be leveraged to confirm/infirm this assumption)."
   ]
  },
  {
   "cell_type": "markdown",
   "metadata": {},
   "source": [
    "Create a `df_person_fix` DataFrame that contains patient information coming from `cdm_source` other than \"EHR 2\".\n",
    "\n",
    "TIP : \n",
    "You can use the `query` built-in function : \n",
    "```python \n",
    "df_condition.query(\"content of your query\")"
   ]
  },
  {
   "cell_type": "code",
   "execution_count": 16,
   "metadata": {
    "scrolled": true,
    "tags": []
   },
   "outputs": [
    {
     "name": "stdout",
     "output_type": "stream",
     "text": [
      "<class 'pandas.core.frame.DataFrame'>\n",
      "Int64Index: 51249 entries, 0 to 1749\n",
      "Data columns (total 5 columns):\n",
      " #   Column               Non-Null Count  Dtype         \n",
      "---  ------               --------------  -----         \n",
      " 0   person_id            51249 non-null  int64         \n",
      " 1   birth_datetime       51249 non-null  datetime64[ns]\n",
      " 2   death_datetime       23626 non-null  datetime64[ns]\n",
      " 3   gender_source_value  51249 non-null  object        \n",
      " 4   cdm_source           51249 non-null  object        \n",
      "dtypes: datetime64[ns](2), int64(1), object(2)\n",
      "memory usage: 2.3+ MB\n"
     ]
    }
   ],
   "source": [
    "df_person_fix = df_person.query('cdm_source!=\"EHR 2\"')\n",
    "df_person_fix.info()"
   ]
  },
  {
   "cell_type": "markdown",
   "metadata": {},
   "source": [
    "Now that we have handled the missingness of dates of birth, let's check the plausibility of the available dates. Plot the birth datetime distribution as a bar chart.\n",
    "\n",
    "Tip 1 : you can convert the birth datetime to a \"YYYY-MM\" format using the following command : \n",
    "```python \n",
    "    df_person_fix['birth_date'] = df_person_fix['birth_datetime'].dt.strftime('%Y-%m')\n",
    "```  \n",
    "Tip 2 : If your DataFrame contains too many rows, you can use the `pandas.DataFrame.groupby()` function and count the number of `person_id` by `birth_date`."
   ]
  },
  {
   "cell_type": "code",
   "execution_count": 17,
   "metadata": {
    "tags": []
   },
   "outputs": [
    {
     "name": "stderr",
     "output_type": "stream",
     "text": [
      "/export/home/cse210049/.user_conda/miniconda/envs/eds-tuto/lib/python3.7/site-packages/ipykernel_launcher.py:1: SettingWithCopyWarning: \n",
      "A value is trying to be set on a copy of a slice from a DataFrame.\n",
      "Try using .loc[row_indexer,col_indexer] = value instead\n",
      "\n",
      "See the caveats in the documentation: https://pandas.pydata.org/pandas-docs/stable/user_guide/indexing.html#returning-a-view-versus-a-copy\n",
      "  \"\"\"Entry point for launching an IPython kernel.\n"
     ]
    }
   ],
   "source": [
    "df_person_fix['birth_date'] = df_person_fix['birth_datetime'].dt.strftime('%Y-%m')"
   ]
  },
  {
   "cell_type": "code",
   "execution_count": 18,
   "metadata": {
    "tags": []
   },
   "outputs": [],
   "source": [
    "birth_dates_summary = df_person_fix.groupby(\"birth_date\", as_index=False).person_id.count()"
   ]
  },
  {
   "cell_type": "code",
   "execution_count": 19,
   "metadata": {
    "scrolled": true,
    "tags": []
   },
   "outputs": [
    {
     "data": {
      "text/html": [
       "\n",
       "<div id=\"altair-viz-1fbb8336d5764a50bdd317d461bc4349\"></div>\n",
       "<script type=\"text/javascript\">\n",
       "  (function(spec, embedOpt){\n",
       "    let outputDiv = document.currentScript.previousElementSibling;\n",
       "    if (outputDiv.id !== \"altair-viz-1fbb8336d5764a50bdd317d461bc4349\") {\n",
       "      outputDiv = document.getElementById(\"altair-viz-1fbb8336d5764a50bdd317d461bc4349\");\n",
       "    }\n",
       "    const paths = {\n",
       "      \"vega\": \"https://cdn.jsdelivr.net/npm//vega@5?noext\",\n",
       "      \"vega-lib\": \"https://cdn.jsdelivr.net/npm//vega-lib?noext\",\n",
       "      \"vega-lite\": \"https://cdn.jsdelivr.net/npm//vega-lite@4.8.1?noext\",\n",
       "      \"vega-embed\": \"https://cdn.jsdelivr.net/npm//vega-embed@6?noext\",\n",
       "    };\n",
       "\n",
       "    function loadScript(lib) {\n",
       "      return new Promise(function(resolve, reject) {\n",
       "        var s = document.createElement('script');\n",
       "        s.src = paths[lib];\n",
       "        s.async = true;\n",
       "        s.onload = () => resolve(paths[lib]);\n",
       "        s.onerror = () => reject(`Error loading script: ${paths[lib]}`);\n",
       "        document.getElementsByTagName(\"head\")[0].appendChild(s);\n",
       "      });\n",
       "    }\n",
       "\n",
       "    function showError(err) {\n",
       "      outputDiv.innerHTML = `<div class=\"error\" style=\"color:red;\">${err}</div>`;\n",
       "      throw err;\n",
       "    }\n",
       "\n",
       "    function displayChart(vegaEmbed) {\n",
       "      vegaEmbed(outputDiv, spec, embedOpt)\n",
       "        .catch(err => showError(`Javascript Error: ${err.message}<br>This usually means there's a typo in your chart specification. See the javascript console for the full traceback.`));\n",
       "    }\n",
       "\n",
       "    if(typeof define === \"function\" && define.amd) {\n",
       "      requirejs.config({paths});\n",
       "      require([\"vega-embed\"], displayChart, err => showError(`Error loading script: ${err.message}`));\n",
       "    } else if (typeof vegaEmbed === \"function\") {\n",
       "      displayChart(vegaEmbed);\n",
       "    } else {\n",
       "      loadScript(\"vega\")\n",
       "        .then(() => loadScript(\"vega-lite\"))\n",
       "        .then(() => loadScript(\"vega-embed\"))\n",
       "        .catch(showError)\n",
       "        .then(() => displayChart(vegaEmbed));\n",
       "    }\n",
       "  })({\"config\": {\"view\": {\"continuousWidth\": 400, \"continuousHeight\": 300}}, \"data\": {\"name\": \"data-6628d22707794c91d316f6c9d57ed735\"}, \"mark\": {\"type\": \"bar\", \"size\": 1}, \"encoding\": {\"x\": {\"type\": \"temporal\", \"field\": \"birth_date\", \"scale\": {\"padding\": 5}}, \"y\": {\"type\": \"quantitative\", \"field\": \"person_id\"}}, \"$schema\": \"https://vega.github.io/schema/vega-lite/v4.8.1.json\", \"datasets\": {\"data-6628d22707794c91d316f6c9d57ed735\": [{\"birth_date\": \"1920-02\", \"person_id\": 1}, {\"birth_date\": \"1920-03\", \"person_id\": 1}, {\"birth_date\": \"1920-05\", \"person_id\": 2}, {\"birth_date\": \"1920-07\", \"person_id\": 2}, {\"birth_date\": \"1920-08\", \"person_id\": 2}, {\"birth_date\": \"1920-09\", \"person_id\": 2}, {\"birth_date\": \"1920-10\", \"person_id\": 4}, {\"birth_date\": \"1920-11\", \"person_id\": 6}, {\"birth_date\": \"1920-12\", \"person_id\": 3}, {\"birth_date\": \"1921-01\", \"person_id\": 9}, {\"birth_date\": \"1921-02\", \"person_id\": 2}, {\"birth_date\": \"1921-03\", \"person_id\": 9}, {\"birth_date\": \"1921-04\", \"person_id\": 3}, {\"birth_date\": \"1921-05\", \"person_id\": 5}, {\"birth_date\": \"1921-06\", \"person_id\": 9}, {\"birth_date\": \"1921-07\", \"person_id\": 7}, {\"birth_date\": \"1921-08\", \"person_id\": 11}, {\"birth_date\": \"1921-09\", \"person_id\": 7}, {\"birth_date\": \"1921-10\", \"person_id\": 10}, {\"birth_date\": \"1921-11\", \"person_id\": 10}, {\"birth_date\": \"1921-12\", \"person_id\": 9}, {\"birth_date\": \"1922-01\", \"person_id\": 8}, {\"birth_date\": \"1922-02\", \"person_id\": 7}, {\"birth_date\": \"1922-03\", \"person_id\": 9}, {\"birth_date\": \"1922-04\", \"person_id\": 2}, {\"birth_date\": \"1922-05\", \"person_id\": 15}, {\"birth_date\": \"1922-06\", \"person_id\": 8}, {\"birth_date\": \"1922-07\", \"person_id\": 15}, {\"birth_date\": \"1922-08\", \"person_id\": 8}, {\"birth_date\": \"1922-09\", \"person_id\": 14}, {\"birth_date\": \"1922-10\", \"person_id\": 8}, {\"birth_date\": \"1922-11\", \"person_id\": 15}, {\"birth_date\": \"1922-12\", \"person_id\": 15}, {\"birth_date\": \"1923-01\", \"person_id\": 15}, {\"birth_date\": \"1923-02\", \"person_id\": 18}, {\"birth_date\": \"1923-03\", \"person_id\": 19}, {\"birth_date\": \"1923-04\", \"person_id\": 15}, {\"birth_date\": \"1923-05\", \"person_id\": 11}, {\"birth_date\": \"1923-06\", \"person_id\": 22}, {\"birth_date\": \"1923-07\", \"person_id\": 21}, {\"birth_date\": \"1923-08\", \"person_id\": 15}, {\"birth_date\": \"1923-09\", \"person_id\": 19}, {\"birth_date\": \"1923-10\", \"person_id\": 22}, {\"birth_date\": \"1923-11\", \"person_id\": 18}, {\"birth_date\": \"1923-12\", \"person_id\": 25}, {\"birth_date\": \"1924-01\", \"person_id\": 18}, {\"birth_date\": \"1924-02\", \"person_id\": 24}, {\"birth_date\": \"1924-03\", \"person_id\": 20}, {\"birth_date\": \"1924-04\", \"person_id\": 27}, {\"birth_date\": \"1924-05\", \"person_id\": 21}, {\"birth_date\": \"1924-06\", \"person_id\": 22}, {\"birth_date\": \"1924-07\", \"person_id\": 27}, {\"birth_date\": \"1924-08\", \"person_id\": 27}, {\"birth_date\": \"1924-09\", \"person_id\": 22}, {\"birth_date\": \"1924-10\", \"person_id\": 34}, {\"birth_date\": \"1924-11\", \"person_id\": 23}, {\"birth_date\": \"1924-12\", \"person_id\": 29}, {\"birth_date\": \"1925-01\", \"person_id\": 38}, {\"birth_date\": \"1925-02\", \"person_id\": 25}, {\"birth_date\": \"1925-03\", \"person_id\": 35}, {\"birth_date\": \"1925-04\", \"person_id\": 31}, {\"birth_date\": \"1925-05\", \"person_id\": 34}, {\"birth_date\": \"1925-06\", \"person_id\": 37}, {\"birth_date\": \"1925-07\", \"person_id\": 32}, {\"birth_date\": \"1925-08\", \"person_id\": 36}, {\"birth_date\": \"1925-09\", \"person_id\": 35}, {\"birth_date\": \"1925-10\", \"person_id\": 40}, {\"birth_date\": \"1925-11\", \"person_id\": 45}, {\"birth_date\": \"1925-12\", \"person_id\": 35}, {\"birth_date\": \"1926-01\", \"person_id\": 49}, {\"birth_date\": \"1926-02\", \"person_id\": 41}, {\"birth_date\": \"1926-03\", \"person_id\": 53}, {\"birth_date\": \"1926-04\", \"person_id\": 47}, {\"birth_date\": \"1926-05\", \"person_id\": 51}, {\"birth_date\": \"1926-06\", \"person_id\": 46}, {\"birth_date\": \"1926-07\", \"person_id\": 37}, {\"birth_date\": \"1926-08\", \"person_id\": 49}, {\"birth_date\": \"1926-09\", \"person_id\": 55}, {\"birth_date\": \"1926-10\", \"person_id\": 50}, {\"birth_date\": \"1926-11\", \"person_id\": 46}, {\"birth_date\": \"1926-12\", \"person_id\": 36}, {\"birth_date\": \"1927-01\", \"person_id\": 48}, {\"birth_date\": \"1927-02\", \"person_id\": 41}, {\"birth_date\": \"1927-03\", \"person_id\": 54}, {\"birth_date\": \"1927-04\", \"person_id\": 45}, {\"birth_date\": \"1927-05\", \"person_id\": 44}, {\"birth_date\": \"1927-06\", \"person_id\": 46}, {\"birth_date\": \"1927-07\", \"person_id\": 47}, {\"birth_date\": \"1927-08\", \"person_id\": 44}, {\"birth_date\": \"1927-09\", \"person_id\": 51}, {\"birth_date\": \"1927-10\", \"person_id\": 45}, {\"birth_date\": \"1927-11\", \"person_id\": 49}, {\"birth_date\": \"1927-12\", \"person_id\": 47}, {\"birth_date\": \"1928-01\", \"person_id\": 40}, {\"birth_date\": \"1928-02\", \"person_id\": 37}, {\"birth_date\": \"1928-03\", \"person_id\": 40}, {\"birth_date\": \"1928-04\", \"person_id\": 36}, {\"birth_date\": \"1928-05\", \"person_id\": 52}, {\"birth_date\": \"1928-06\", \"person_id\": 49}, {\"birth_date\": \"1928-07\", \"person_id\": 40}, {\"birth_date\": \"1928-08\", \"person_id\": 42}, {\"birth_date\": \"1928-09\", \"person_id\": 48}, {\"birth_date\": \"1928-10\", \"person_id\": 51}, {\"birth_date\": \"1928-11\", \"person_id\": 54}, {\"birth_date\": \"1928-12\", \"person_id\": 51}, {\"birth_date\": \"1929-01\", \"person_id\": 39}, {\"birth_date\": \"1929-02\", \"person_id\": 45}, {\"birth_date\": \"1929-03\", \"person_id\": 51}, {\"birth_date\": \"1929-04\", \"person_id\": 50}, {\"birth_date\": \"1929-05\", \"person_id\": 46}, {\"birth_date\": \"1929-06\", \"person_id\": 39}, {\"birth_date\": \"1929-07\", \"person_id\": 54}, {\"birth_date\": \"1929-08\", \"person_id\": 49}, {\"birth_date\": \"1929-09\", \"person_id\": 37}, {\"birth_date\": \"1929-10\", \"person_id\": 38}, {\"birth_date\": \"1929-11\", \"person_id\": 47}, {\"birth_date\": \"1929-12\", \"person_id\": 43}, {\"birth_date\": \"1930-01\", \"person_id\": 38}, {\"birth_date\": \"1930-02\", \"person_id\": 43}, {\"birth_date\": \"1930-03\", \"person_id\": 42}, {\"birth_date\": \"1930-04\", \"person_id\": 42}, {\"birth_date\": \"1930-05\", \"person_id\": 52}, {\"birth_date\": \"1930-06\", \"person_id\": 36}, {\"birth_date\": \"1930-07\", \"person_id\": 43}, {\"birth_date\": \"1930-08\", \"person_id\": 51}, {\"birth_date\": \"1930-09\", \"person_id\": 56}, {\"birth_date\": \"1930-10\", \"person_id\": 54}, {\"birth_date\": \"1930-11\", \"person_id\": 54}, {\"birth_date\": \"1930-12\", \"person_id\": 35}, {\"birth_date\": \"1931-01\", \"person_id\": 49}, {\"birth_date\": \"1931-02\", \"person_id\": 38}, {\"birth_date\": \"1931-03\", \"person_id\": 52}, {\"birth_date\": \"1931-04\", \"person_id\": 50}, {\"birth_date\": \"1931-05\", \"person_id\": 46}, {\"birth_date\": \"1931-06\", \"person_id\": 34}, {\"birth_date\": \"1931-07\", \"person_id\": 43}, {\"birth_date\": \"1931-08\", \"person_id\": 48}, {\"birth_date\": \"1931-09\", \"person_id\": 50}, {\"birth_date\": \"1931-10\", \"person_id\": 57}, {\"birth_date\": \"1931-11\", \"person_id\": 52}, {\"birth_date\": \"1931-12\", \"person_id\": 42}, {\"birth_date\": \"1932-01\", \"person_id\": 59}, {\"birth_date\": \"1932-02\", \"person_id\": 54}, {\"birth_date\": \"1932-03\", \"person_id\": 48}, {\"birth_date\": \"1932-04\", \"person_id\": 43}, {\"birth_date\": \"1932-05\", \"person_id\": 49}, {\"birth_date\": \"1932-06\", \"person_id\": 31}, {\"birth_date\": \"1932-07\", \"person_id\": 57}, {\"birth_date\": \"1932-08\", \"person_id\": 57}, {\"birth_date\": \"1932-09\", \"person_id\": 31}, {\"birth_date\": \"1932-10\", \"person_id\": 46}, {\"birth_date\": \"1932-11\", \"person_id\": 51}, {\"birth_date\": \"1932-12\", \"person_id\": 52}, {\"birth_date\": \"1933-01\", \"person_id\": 48}, {\"birth_date\": \"1933-02\", \"person_id\": 48}, {\"birth_date\": \"1933-03\", \"person_id\": 34}, {\"birth_date\": \"1933-04\", \"person_id\": 42}, {\"birth_date\": \"1933-05\", \"person_id\": 32}, {\"birth_date\": \"1933-06\", \"person_id\": 48}, {\"birth_date\": \"1933-07\", \"person_id\": 42}, {\"birth_date\": \"1933-08\", \"person_id\": 55}, {\"birth_date\": \"1933-09\", \"person_id\": 40}, {\"birth_date\": \"1933-10\", \"person_id\": 55}, {\"birth_date\": \"1933-11\", \"person_id\": 42}, {\"birth_date\": \"1933-12\", \"person_id\": 58}, {\"birth_date\": \"1934-01\", \"person_id\": 46}, {\"birth_date\": \"1934-02\", \"person_id\": 37}, {\"birth_date\": \"1934-03\", \"person_id\": 48}, {\"birth_date\": \"1934-04\", \"person_id\": 36}, {\"birth_date\": \"1934-05\", \"person_id\": 36}, {\"birth_date\": \"1934-06\", \"person_id\": 49}, {\"birth_date\": \"1934-07\", \"person_id\": 43}, {\"birth_date\": \"1934-08\", \"person_id\": 43}, {\"birth_date\": \"1934-09\", \"person_id\": 55}, {\"birth_date\": \"1934-10\", \"person_id\": 39}, {\"birth_date\": \"1934-11\", \"person_id\": 41}, {\"birth_date\": \"1934-12\", \"person_id\": 40}, {\"birth_date\": \"1935-01\", \"person_id\": 45}, {\"birth_date\": \"1935-02\", \"person_id\": 30}, {\"birth_date\": \"1935-03\", \"person_id\": 50}, {\"birth_date\": \"1935-04\", \"person_id\": 36}, {\"birth_date\": \"1935-05\", \"person_id\": 36}, {\"birth_date\": \"1935-06\", \"person_id\": 37}, {\"birth_date\": \"1935-07\", \"person_id\": 44}, {\"birth_date\": \"1935-08\", \"person_id\": 62}, {\"birth_date\": \"1935-09\", \"person_id\": 45}, {\"birth_date\": \"1935-10\", \"person_id\": 31}, {\"birth_date\": \"1935-11\", \"person_id\": 49}, {\"birth_date\": \"1935-12\", \"person_id\": 44}, {\"birth_date\": \"1936-01\", \"person_id\": 44}, {\"birth_date\": \"1936-02\", \"person_id\": 38}, {\"birth_date\": \"1936-03\", \"person_id\": 46}, {\"birth_date\": \"1936-04\", \"person_id\": 45}, {\"birth_date\": \"1936-05\", \"person_id\": 34}, {\"birth_date\": \"1936-06\", \"person_id\": 44}, {\"birth_date\": \"1936-07\", \"person_id\": 37}, {\"birth_date\": \"1936-08\", \"person_id\": 52}, {\"birth_date\": \"1936-09\", \"person_id\": 41}, {\"birth_date\": \"1936-10\", \"person_id\": 54}, {\"birth_date\": \"1936-11\", \"person_id\": 34}, {\"birth_date\": \"1936-12\", \"person_id\": 50}, {\"birth_date\": \"1937-01\", \"person_id\": 41}, {\"birth_date\": \"1937-02\", \"person_id\": 49}, {\"birth_date\": \"1937-03\", \"person_id\": 46}, {\"birth_date\": \"1937-04\", \"person_id\": 54}, {\"birth_date\": \"1937-05\", \"person_id\": 33}, {\"birth_date\": \"1937-06\", \"person_id\": 40}, {\"birth_date\": \"1937-07\", \"person_id\": 35}, {\"birth_date\": \"1937-08\", \"person_id\": 36}, {\"birth_date\": \"1937-09\", \"person_id\": 54}, {\"birth_date\": \"1937-10\", \"person_id\": 47}, {\"birth_date\": \"1937-11\", \"person_id\": 53}, {\"birth_date\": \"1937-12\", \"person_id\": 44}, {\"birth_date\": \"1938-01\", \"person_id\": 53}, {\"birth_date\": \"1938-02\", \"person_id\": 30}, {\"birth_date\": \"1938-03\", \"person_id\": 51}, {\"birth_date\": \"1938-04\", \"person_id\": 39}, {\"birth_date\": \"1938-05\", \"person_id\": 43}, {\"birth_date\": \"1938-06\", \"person_id\": 45}, {\"birth_date\": \"1938-07\", \"person_id\": 45}, {\"birth_date\": \"1938-08\", \"person_id\": 37}, {\"birth_date\": \"1938-09\", \"person_id\": 50}, {\"birth_date\": \"1938-10\", \"person_id\": 48}, {\"birth_date\": \"1938-11\", \"person_id\": 50}, {\"birth_date\": \"1938-12\", \"person_id\": 48}, {\"birth_date\": \"1939-01\", \"person_id\": 42}, {\"birth_date\": \"1939-02\", \"person_id\": 58}, {\"birth_date\": \"1939-03\", \"person_id\": 42}, {\"birth_date\": \"1939-04\", \"person_id\": 38}, {\"birth_date\": \"1939-05\", \"person_id\": 39}, {\"birth_date\": \"1939-06\", \"person_id\": 42}, {\"birth_date\": \"1939-07\", \"person_id\": 36}, {\"birth_date\": \"1939-08\", \"person_id\": 45}, {\"birth_date\": \"1939-09\", \"person_id\": 57}, {\"birth_date\": \"1939-10\", \"person_id\": 56}, {\"birth_date\": \"1939-11\", \"person_id\": 49}, {\"birth_date\": \"1939-12\", \"person_id\": 49}, {\"birth_date\": \"1940-01\", \"person_id\": 51}, {\"birth_date\": \"1940-02\", \"person_id\": 43}, {\"birth_date\": \"1940-03\", \"person_id\": 51}, {\"birth_date\": \"1940-04\", \"person_id\": 51}, {\"birth_date\": \"1940-05\", \"person_id\": 48}, {\"birth_date\": \"1940-06\", \"person_id\": 42}, {\"birth_date\": \"1940-07\", \"person_id\": 49}, {\"birth_date\": \"1940-08\", \"person_id\": 35}, {\"birth_date\": \"1940-09\", \"person_id\": 45}, {\"birth_date\": \"1940-10\", \"person_id\": 51}, {\"birth_date\": \"1940-11\", \"person_id\": 43}, {\"birth_date\": \"1940-12\", \"person_id\": 46}, {\"birth_date\": \"1941-01\", \"person_id\": 58}, {\"birth_date\": \"1941-02\", \"person_id\": 48}, {\"birth_date\": \"1941-03\", \"person_id\": 34}, {\"birth_date\": \"1941-04\", \"person_id\": 48}, {\"birth_date\": \"1941-05\", \"person_id\": 57}, {\"birth_date\": \"1941-06\", \"person_id\": 46}, {\"birth_date\": \"1941-07\", \"person_id\": 47}, {\"birth_date\": \"1941-08\", \"person_id\": 43}, {\"birth_date\": \"1941-09\", \"person_id\": 35}, {\"birth_date\": \"1941-10\", \"person_id\": 49}, {\"birth_date\": \"1941-11\", \"person_id\": 57}, {\"birth_date\": \"1941-12\", \"person_id\": 53}, {\"birth_date\": \"1942-01\", \"person_id\": 36}, {\"birth_date\": \"1942-02\", \"person_id\": 40}, {\"birth_date\": \"1942-03\", \"person_id\": 45}, {\"birth_date\": \"1942-04\", \"person_id\": 38}, {\"birth_date\": \"1942-05\", \"person_id\": 41}, {\"birth_date\": \"1942-06\", \"person_id\": 45}, {\"birth_date\": \"1942-07\", \"person_id\": 45}, {\"birth_date\": \"1942-08\", \"person_id\": 45}, {\"birth_date\": \"1942-09\", \"person_id\": 59}, {\"birth_date\": \"1942-10\", \"person_id\": 55}, {\"birth_date\": \"1942-11\", \"person_id\": 42}, {\"birth_date\": \"1942-12\", \"person_id\": 34}, {\"birth_date\": \"1943-01\", \"person_id\": 36}, {\"birth_date\": \"1943-02\", \"person_id\": 43}, {\"birth_date\": \"1943-03\", \"person_id\": 46}, {\"birth_date\": \"1943-04\", \"person_id\": 34}, {\"birth_date\": \"1943-05\", \"person_id\": 44}, {\"birth_date\": \"1943-06\", \"person_id\": 41}, {\"birth_date\": \"1943-07\", \"person_id\": 36}, {\"birth_date\": \"1943-08\", \"person_id\": 50}, {\"birth_date\": \"1943-09\", \"person_id\": 45}, {\"birth_date\": \"1943-10\", \"person_id\": 40}, {\"birth_date\": \"1943-11\", \"person_id\": 38}, {\"birth_date\": \"1943-12\", \"person_id\": 51}, {\"birth_date\": \"1944-01\", \"person_id\": 48}, {\"birth_date\": \"1944-02\", \"person_id\": 45}, {\"birth_date\": \"1944-03\", \"person_id\": 43}, {\"birth_date\": \"1944-04\", \"person_id\": 47}, {\"birth_date\": \"1944-05\", \"person_id\": 55}, {\"birth_date\": \"1944-06\", \"person_id\": 44}, {\"birth_date\": \"1944-07\", \"person_id\": 40}, {\"birth_date\": \"1944-08\", \"person_id\": 40}, {\"birth_date\": \"1944-09\", \"person_id\": 38}, {\"birth_date\": \"1944-10\", \"person_id\": 41}, {\"birth_date\": \"1944-11\", \"person_id\": 46}, {\"birth_date\": \"1944-12\", \"person_id\": 58}, {\"birth_date\": \"1945-01\", \"person_id\": 49}, {\"birth_date\": \"1945-02\", \"person_id\": 51}, {\"birth_date\": \"1945-03\", \"person_id\": 42}, {\"birth_date\": \"1945-04\", \"person_id\": 49}, {\"birth_date\": \"1945-05\", \"person_id\": 32}, {\"birth_date\": \"1945-06\", \"person_id\": 34}, {\"birth_date\": \"1945-07\", \"person_id\": 52}, {\"birth_date\": \"1945-08\", \"person_id\": 47}, {\"birth_date\": \"1945-09\", \"person_id\": 52}, {\"birth_date\": \"1945-10\", \"person_id\": 43}, {\"birth_date\": \"1945-11\", \"person_id\": 47}, {\"birth_date\": \"1945-12\", \"person_id\": 45}, {\"birth_date\": \"1946-01\", \"person_id\": 44}, {\"birth_date\": \"1946-02\", \"person_id\": 39}, {\"birth_date\": \"1946-03\", \"person_id\": 43}, {\"birth_date\": \"1946-04\", \"person_id\": 48}, {\"birth_date\": \"1946-05\", \"person_id\": 55}, {\"birth_date\": \"1946-06\", \"person_id\": 44}, {\"birth_date\": \"1946-07\", \"person_id\": 48}, {\"birth_date\": \"1946-08\", \"person_id\": 45}, {\"birth_date\": \"1946-09\", \"person_id\": 42}, {\"birth_date\": \"1946-10\", \"person_id\": 48}, {\"birth_date\": \"1946-11\", \"person_id\": 33}, {\"birth_date\": \"1946-12\", \"person_id\": 47}, {\"birth_date\": \"1947-01\", \"person_id\": 41}, {\"birth_date\": \"1947-02\", \"person_id\": 37}, {\"birth_date\": \"1947-03\", \"person_id\": 44}, {\"birth_date\": \"1947-04\", \"person_id\": 39}, {\"birth_date\": \"1947-05\", \"person_id\": 38}, {\"birth_date\": \"1947-06\", \"person_id\": 43}, {\"birth_date\": \"1947-07\", \"person_id\": 52}, {\"birth_date\": \"1947-08\", \"person_id\": 45}, {\"birth_date\": \"1947-09\", \"person_id\": 40}, {\"birth_date\": \"1947-10\", \"person_id\": 48}, {\"birth_date\": \"1947-11\", \"person_id\": 39}, {\"birth_date\": \"1947-12\", \"person_id\": 47}, {\"birth_date\": \"1948-01\", \"person_id\": 48}, {\"birth_date\": \"1948-02\", \"person_id\": 50}, {\"birth_date\": \"1948-03\", \"person_id\": 45}, {\"birth_date\": \"1948-04\", \"person_id\": 61}, {\"birth_date\": \"1948-05\", \"person_id\": 33}, {\"birth_date\": \"1948-06\", \"person_id\": 40}, {\"birth_date\": \"1948-07\", \"person_id\": 52}, {\"birth_date\": \"1948-08\", \"person_id\": 41}, {\"birth_date\": \"1948-09\", \"person_id\": 37}, {\"birth_date\": \"1948-10\", \"person_id\": 38}, {\"birth_date\": \"1948-11\", \"person_id\": 52}, {\"birth_date\": \"1948-12\", \"person_id\": 47}, {\"birth_date\": \"1949-01\", \"person_id\": 57}, {\"birth_date\": \"1949-02\", \"person_id\": 39}, {\"birth_date\": \"1949-03\", \"person_id\": 31}, {\"birth_date\": \"1949-04\", \"person_id\": 45}, {\"birth_date\": \"1949-05\", \"person_id\": 37}, {\"birth_date\": \"1949-06\", \"person_id\": 46}, {\"birth_date\": \"1949-07\", \"person_id\": 55}, {\"birth_date\": \"1949-08\", \"person_id\": 53}, {\"birth_date\": \"1949-09\", \"person_id\": 46}, {\"birth_date\": \"1949-10\", \"person_id\": 42}, {\"birth_date\": \"1949-11\", \"person_id\": 38}, {\"birth_date\": \"1949-12\", \"person_id\": 40}, {\"birth_date\": \"1950-01\", \"person_id\": 36}, {\"birth_date\": \"1950-02\", \"person_id\": 33}, {\"birth_date\": \"1950-03\", \"person_id\": 51}, {\"birth_date\": \"1950-04\", \"person_id\": 47}, {\"birth_date\": \"1950-05\", \"person_id\": 53}, {\"birth_date\": \"1950-06\", \"person_id\": 56}, {\"birth_date\": \"1950-07\", \"person_id\": 41}, {\"birth_date\": \"1950-08\", \"person_id\": 46}, {\"birth_date\": \"1950-09\", \"person_id\": 47}, {\"birth_date\": \"1950-10\", \"person_id\": 46}, {\"birth_date\": \"1950-11\", \"person_id\": 42}, {\"birth_date\": \"1950-12\", \"person_id\": 33}, {\"birth_date\": \"1951-01\", \"person_id\": 59}, {\"birth_date\": \"1951-02\", \"person_id\": 54}, {\"birth_date\": \"1951-03\", \"person_id\": 45}, {\"birth_date\": \"1951-04\", \"person_id\": 41}, {\"birth_date\": \"1951-05\", \"person_id\": 47}, {\"birth_date\": \"1951-06\", \"person_id\": 43}, {\"birth_date\": \"1951-07\", \"person_id\": 41}, {\"birth_date\": \"1951-08\", \"person_id\": 52}, {\"birth_date\": \"1951-09\", \"person_id\": 53}, {\"birth_date\": \"1951-10\", \"person_id\": 43}, {\"birth_date\": \"1951-11\", \"person_id\": 40}, {\"birth_date\": \"1951-12\", \"person_id\": 52}, {\"birth_date\": \"1952-01\", \"person_id\": 48}, {\"birth_date\": \"1952-02\", \"person_id\": 44}, {\"birth_date\": \"1952-03\", \"person_id\": 39}, {\"birth_date\": \"1952-04\", \"person_id\": 27}, {\"birth_date\": \"1952-05\", \"person_id\": 49}, {\"birth_date\": \"1952-06\", \"person_id\": 34}, {\"birth_date\": \"1952-07\", \"person_id\": 52}, {\"birth_date\": \"1952-08\", \"person_id\": 50}, {\"birth_date\": \"1952-09\", \"person_id\": 50}, {\"birth_date\": \"1952-10\", \"person_id\": 54}, {\"birth_date\": \"1952-11\", \"person_id\": 44}, {\"birth_date\": \"1952-12\", \"person_id\": 48}, {\"birth_date\": \"1953-01\", \"person_id\": 43}, {\"birth_date\": \"1953-02\", \"person_id\": 52}, {\"birth_date\": \"1953-03\", \"person_id\": 60}, {\"birth_date\": \"1953-04\", \"person_id\": 41}, {\"birth_date\": \"1953-05\", \"person_id\": 50}, {\"birth_date\": \"1953-06\", \"person_id\": 43}, {\"birth_date\": \"1953-07\", \"person_id\": 60}, {\"birth_date\": \"1953-08\", \"person_id\": 45}, {\"birth_date\": \"1953-09\", \"person_id\": 49}, {\"birth_date\": \"1953-10\", \"person_id\": 34}, {\"birth_date\": \"1953-11\", \"person_id\": 45}, {\"birth_date\": \"1953-12\", \"person_id\": 51}, {\"birth_date\": \"1954-01\", \"person_id\": 42}, {\"birth_date\": \"1954-02\", \"person_id\": 47}, {\"birth_date\": \"1954-03\", \"person_id\": 56}, {\"birth_date\": \"1954-04\", \"person_id\": 48}, {\"birth_date\": \"1954-05\", \"person_id\": 47}, {\"birth_date\": \"1954-06\", \"person_id\": 55}, {\"birth_date\": \"1954-07\", \"person_id\": 44}, {\"birth_date\": \"1954-08\", \"person_id\": 45}, {\"birth_date\": \"1954-09\", \"person_id\": 43}, {\"birth_date\": \"1954-10\", \"person_id\": 45}, {\"birth_date\": \"1954-11\", \"person_id\": 56}, {\"birth_date\": \"1954-12\", \"person_id\": 42}, {\"birth_date\": \"1955-01\", \"person_id\": 49}, {\"birth_date\": \"1955-02\", \"person_id\": 39}, {\"birth_date\": \"1955-03\", \"person_id\": 47}, {\"birth_date\": \"1955-04\", \"person_id\": 35}, {\"birth_date\": \"1955-05\", \"person_id\": 55}, {\"birth_date\": \"1955-06\", \"person_id\": 51}, {\"birth_date\": \"1955-07\", \"person_id\": 38}, {\"birth_date\": \"1955-08\", \"person_id\": 43}, {\"birth_date\": \"1955-09\", \"person_id\": 34}, {\"birth_date\": \"1955-10\", \"person_id\": 51}, {\"birth_date\": \"1955-11\", \"person_id\": 49}, {\"birth_date\": \"1955-12\", \"person_id\": 46}, {\"birth_date\": \"1956-01\", \"person_id\": 57}, {\"birth_date\": \"1956-02\", \"person_id\": 46}, {\"birth_date\": \"1956-03\", \"person_id\": 47}, {\"birth_date\": \"1956-04\", \"person_id\": 46}, {\"birth_date\": \"1956-05\", \"person_id\": 44}, {\"birth_date\": \"1956-06\", \"person_id\": 43}, {\"birth_date\": \"1956-07\", \"person_id\": 53}, {\"birth_date\": \"1956-08\", \"person_id\": 40}, {\"birth_date\": \"1956-09\", \"person_id\": 54}, {\"birth_date\": \"1956-10\", \"person_id\": 42}, {\"birth_date\": \"1956-11\", \"person_id\": 53}, {\"birth_date\": \"1956-12\", \"person_id\": 38}, {\"birth_date\": \"1957-01\", \"person_id\": 50}, {\"birth_date\": \"1957-02\", \"person_id\": 27}, {\"birth_date\": \"1957-03\", \"person_id\": 48}, {\"birth_date\": \"1957-04\", \"person_id\": 37}, {\"birth_date\": \"1957-05\", \"person_id\": 43}, {\"birth_date\": \"1957-06\", \"person_id\": 52}, {\"birth_date\": \"1957-07\", \"person_id\": 49}, {\"birth_date\": \"1957-08\", \"person_id\": 43}, {\"birth_date\": \"1957-09\", \"person_id\": 42}, {\"birth_date\": \"1957-10\", \"person_id\": 50}, {\"birth_date\": \"1957-11\", \"person_id\": 34}, {\"birth_date\": \"1957-12\", \"person_id\": 32}, {\"birth_date\": \"1958-01\", \"person_id\": 43}, {\"birth_date\": \"1958-02\", \"person_id\": 54}, {\"birth_date\": \"1958-03\", \"person_id\": 48}, {\"birth_date\": \"1958-04\", \"person_id\": 38}, {\"birth_date\": \"1958-05\", \"person_id\": 54}, {\"birth_date\": \"1958-06\", \"person_id\": 42}, {\"birth_date\": \"1958-07\", \"person_id\": 50}, {\"birth_date\": \"1958-08\", \"person_id\": 47}, {\"birth_date\": \"1958-09\", \"person_id\": 46}, {\"birth_date\": \"1958-10\", \"person_id\": 53}, {\"birth_date\": \"1958-11\", \"person_id\": 43}, {\"birth_date\": \"1958-12\", \"person_id\": 30}, {\"birth_date\": \"1959-01\", \"person_id\": 45}, {\"birth_date\": \"1959-02\", \"person_id\": 44}, {\"birth_date\": \"1959-03\", \"person_id\": 40}, {\"birth_date\": \"1959-04\", \"person_id\": 50}, {\"birth_date\": \"1959-05\", \"person_id\": 40}, {\"birth_date\": \"1959-06\", \"person_id\": 38}, {\"birth_date\": \"1959-07\", \"person_id\": 39}, {\"birth_date\": \"1959-08\", \"person_id\": 43}, {\"birth_date\": \"1959-09\", \"person_id\": 26}, {\"birth_date\": \"1959-10\", \"person_id\": 50}, {\"birth_date\": \"1959-11\", \"person_id\": 52}, {\"birth_date\": \"1959-12\", \"person_id\": 53}, {\"birth_date\": \"1960-01\", \"person_id\": 38}, {\"birth_date\": \"1960-02\", \"person_id\": 43}, {\"birth_date\": \"1960-03\", \"person_id\": 59}, {\"birth_date\": \"1960-04\", \"person_id\": 48}, {\"birth_date\": \"1960-05\", \"person_id\": 42}, {\"birth_date\": \"1960-06\", \"person_id\": 48}, {\"birth_date\": \"1960-07\", \"person_id\": 47}, {\"birth_date\": \"1960-08\", \"person_id\": 49}, {\"birth_date\": \"1960-09\", \"person_id\": 51}, {\"birth_date\": \"1960-10\", \"person_id\": 47}, {\"birth_date\": \"1960-11\", \"person_id\": 39}, {\"birth_date\": \"1960-12\", \"person_id\": 47}, {\"birth_date\": \"1961-01\", \"person_id\": 46}, {\"birth_date\": \"1961-02\", \"person_id\": 40}, {\"birth_date\": \"1961-03\", \"person_id\": 52}, {\"birth_date\": \"1961-04\", \"person_id\": 37}, {\"birth_date\": \"1961-05\", \"person_id\": 42}, {\"birth_date\": \"1961-06\", \"person_id\": 41}, {\"birth_date\": \"1961-07\", \"person_id\": 33}, {\"birth_date\": \"1961-08\", \"person_id\": 49}, {\"birth_date\": \"1961-09\", \"person_id\": 57}, {\"birth_date\": \"1961-10\", \"person_id\": 64}, {\"birth_date\": \"1961-11\", \"person_id\": 45}, {\"birth_date\": \"1961-12\", \"person_id\": 45}, {\"birth_date\": \"1962-01\", \"person_id\": 48}, {\"birth_date\": \"1962-02\", \"person_id\": 39}, {\"birth_date\": \"1962-03\", \"person_id\": 37}, {\"birth_date\": \"1962-04\", \"person_id\": 44}, {\"birth_date\": \"1962-05\", \"person_id\": 48}, {\"birth_date\": \"1962-06\", \"person_id\": 45}, {\"birth_date\": \"1962-07\", \"person_id\": 49}, {\"birth_date\": \"1962-08\", \"person_id\": 52}, {\"birth_date\": \"1962-09\", \"person_id\": 41}, {\"birth_date\": \"1962-10\", \"person_id\": 42}, {\"birth_date\": \"1962-11\", \"person_id\": 55}, {\"birth_date\": \"1962-12\", \"person_id\": 34}, {\"birth_date\": \"1963-01\", \"person_id\": 52}, {\"birth_date\": \"1963-02\", \"person_id\": 32}, {\"birth_date\": \"1963-03\", \"person_id\": 33}, {\"birth_date\": \"1963-04\", \"person_id\": 45}, {\"birth_date\": \"1963-05\", \"person_id\": 54}, {\"birth_date\": \"1963-06\", \"person_id\": 47}, {\"birth_date\": \"1963-07\", \"person_id\": 47}, {\"birth_date\": \"1963-08\", \"person_id\": 34}, {\"birth_date\": \"1963-09\", \"person_id\": 37}, {\"birth_date\": \"1963-10\", \"person_id\": 49}, {\"birth_date\": \"1963-11\", \"person_id\": 28}, {\"birth_date\": \"1963-12\", \"person_id\": 56}, {\"birth_date\": \"1964-01\", \"person_id\": 39}, {\"birth_date\": \"1964-02\", \"person_id\": 39}, {\"birth_date\": \"1964-03\", \"person_id\": 58}, {\"birth_date\": \"1964-04\", \"person_id\": 42}, {\"birth_date\": \"1964-05\", \"person_id\": 53}, {\"birth_date\": \"1964-06\", \"person_id\": 45}, {\"birth_date\": \"1964-07\", \"person_id\": 66}, {\"birth_date\": \"1964-08\", \"person_id\": 62}, {\"birth_date\": \"1964-09\", \"person_id\": 45}, {\"birth_date\": \"1964-10\", \"person_id\": 46}, {\"birth_date\": \"1964-11\", \"person_id\": 42}, {\"birth_date\": \"1964-12\", \"person_id\": 44}, {\"birth_date\": \"1965-01\", \"person_id\": 44}, {\"birth_date\": \"1965-02\", \"person_id\": 36}, {\"birth_date\": \"1965-03\", \"person_id\": 45}, {\"birth_date\": \"1965-04\", \"person_id\": 49}, {\"birth_date\": \"1965-05\", \"person_id\": 43}, {\"birth_date\": \"1965-06\", \"person_id\": 51}, {\"birth_date\": \"1965-07\", \"person_id\": 47}, {\"birth_date\": \"1965-08\", \"person_id\": 37}, {\"birth_date\": \"1965-09\", \"person_id\": 43}, {\"birth_date\": \"1965-10\", \"person_id\": 47}, {\"birth_date\": \"1965-11\", \"person_id\": 51}, {\"birth_date\": \"1965-12\", \"person_id\": 36}, {\"birth_date\": \"1966-01\", \"person_id\": 40}, {\"birth_date\": \"1966-02\", \"person_id\": 41}, {\"birth_date\": \"1966-03\", \"person_id\": 46}, {\"birth_date\": \"1966-04\", \"person_id\": 57}, {\"birth_date\": \"1966-05\", \"person_id\": 51}, {\"birth_date\": \"1966-06\", \"person_id\": 40}, {\"birth_date\": \"1966-07\", \"person_id\": 36}, {\"birth_date\": \"1966-08\", \"person_id\": 36}, {\"birth_date\": \"1966-09\", \"person_id\": 37}, {\"birth_date\": \"1966-10\", \"person_id\": 46}, {\"birth_date\": \"1966-11\", \"person_id\": 56}, {\"birth_date\": \"1966-12\", \"person_id\": 46}, {\"birth_date\": \"1967-01\", \"person_id\": 39}, {\"birth_date\": \"1967-02\", \"person_id\": 45}, {\"birth_date\": \"1967-03\", \"person_id\": 42}, {\"birth_date\": \"1967-04\", \"person_id\": 49}, {\"birth_date\": \"1967-05\", \"person_id\": 58}, {\"birth_date\": \"1967-06\", \"person_id\": 53}, {\"birth_date\": \"1967-07\", \"person_id\": 47}, {\"birth_date\": \"1967-08\", \"person_id\": 41}, {\"birth_date\": \"1967-09\", \"person_id\": 40}, {\"birth_date\": \"1967-10\", \"person_id\": 36}, {\"birth_date\": \"1967-11\", \"person_id\": 55}, {\"birth_date\": \"1967-12\", \"person_id\": 47}, {\"birth_date\": \"1968-01\", \"person_id\": 39}, {\"birth_date\": \"1968-02\", \"person_id\": 39}, {\"birth_date\": \"1968-03\", \"person_id\": 36}, {\"birth_date\": \"1968-04\", \"person_id\": 52}, {\"birth_date\": \"1968-05\", \"person_id\": 55}, {\"birth_date\": \"1968-06\", \"person_id\": 38}, {\"birth_date\": \"1968-07\", \"person_id\": 55}, {\"birth_date\": \"1968-08\", \"person_id\": 47}, {\"birth_date\": \"1968-09\", \"person_id\": 45}, {\"birth_date\": \"1968-10\", \"person_id\": 31}, {\"birth_date\": \"1968-11\", \"person_id\": 52}, {\"birth_date\": \"1968-12\", \"person_id\": 43}, {\"birth_date\": \"1969-01\", \"person_id\": 59}, {\"birth_date\": \"1969-02\", \"person_id\": 54}, {\"birth_date\": \"1969-03\", \"person_id\": 35}, {\"birth_date\": \"1969-04\", \"person_id\": 47}, {\"birth_date\": \"1969-05\", \"person_id\": 52}, {\"birth_date\": \"1969-06\", \"person_id\": 50}, {\"birth_date\": \"1969-07\", \"person_id\": 48}, {\"birth_date\": \"1969-08\", \"person_id\": 45}, {\"birth_date\": \"1969-09\", \"person_id\": 48}, {\"birth_date\": \"1969-10\", \"person_id\": 45}, {\"birth_date\": \"1969-11\", \"person_id\": 50}, {\"birth_date\": \"1969-12\", \"person_id\": 37}, {\"birth_date\": \"1970-01\", \"person_id\": 45}, {\"birth_date\": \"1970-02\", \"person_id\": 36}, {\"birth_date\": \"1970-03\", \"person_id\": 46}, {\"birth_date\": \"1970-04\", \"person_id\": 36}, {\"birth_date\": \"1970-05\", \"person_id\": 52}, {\"birth_date\": \"1970-06\", \"person_id\": 49}, {\"birth_date\": \"1970-07\", \"person_id\": 45}, {\"birth_date\": \"1970-08\", \"person_id\": 31}, {\"birth_date\": \"1970-09\", \"person_id\": 46}, {\"birth_date\": \"1970-10\", \"person_id\": 24}, {\"birth_date\": \"1970-11\", \"person_id\": 41}, {\"birth_date\": \"1970-12\", \"person_id\": 41}, {\"birth_date\": \"1971-01\", \"person_id\": 50}, {\"birth_date\": \"1971-02\", \"person_id\": 44}, {\"birth_date\": \"1971-03\", \"person_id\": 33}, {\"birth_date\": \"1971-04\", \"person_id\": 44}, {\"birth_date\": \"1971-05\", \"person_id\": 51}, {\"birth_date\": \"1971-06\", \"person_id\": 52}, {\"birth_date\": \"1971-07\", \"person_id\": 37}, {\"birth_date\": \"1971-08\", \"person_id\": 41}, {\"birth_date\": \"1971-09\", \"person_id\": 41}, {\"birth_date\": \"1971-10\", \"person_id\": 35}, {\"birth_date\": \"1971-11\", \"person_id\": 47}, {\"birth_date\": \"1971-12\", \"person_id\": 51}, {\"birth_date\": \"1972-01\", \"person_id\": 54}, {\"birth_date\": \"1972-02\", \"person_id\": 38}, {\"birth_date\": \"1972-03\", \"person_id\": 47}, {\"birth_date\": \"1972-04\", \"person_id\": 42}, {\"birth_date\": \"1972-05\", \"person_id\": 54}, {\"birth_date\": \"1972-06\", \"person_id\": 49}, {\"birth_date\": \"1972-07\", \"person_id\": 42}, {\"birth_date\": \"1972-08\", \"person_id\": 33}, {\"birth_date\": \"1972-09\", \"person_id\": 42}, {\"birth_date\": \"1972-10\", \"person_id\": 57}, {\"birth_date\": \"1972-11\", \"person_id\": 45}, {\"birth_date\": \"1972-12\", \"person_id\": 42}, {\"birth_date\": \"1973-01\", \"person_id\": 36}, {\"birth_date\": \"1973-02\", \"person_id\": 43}, {\"birth_date\": \"1973-03\", \"person_id\": 42}, {\"birth_date\": \"1973-04\", \"person_id\": 36}, {\"birth_date\": \"1973-05\", \"person_id\": 36}, {\"birth_date\": \"1973-06\", \"person_id\": 44}, {\"birth_date\": \"1973-07\", \"person_id\": 43}, {\"birth_date\": \"1973-08\", \"person_id\": 49}, {\"birth_date\": \"1973-09\", \"person_id\": 38}, {\"birth_date\": \"1973-10\", \"person_id\": 44}, {\"birth_date\": \"1973-11\", \"person_id\": 52}, {\"birth_date\": \"1973-12\", \"person_id\": 40}, {\"birth_date\": \"1974-01\", \"person_id\": 56}, {\"birth_date\": \"1974-02\", \"person_id\": 45}, {\"birth_date\": \"1974-03\", \"person_id\": 48}, {\"birth_date\": \"1974-04\", \"person_id\": 39}, {\"birth_date\": \"1974-05\", \"person_id\": 38}, {\"birth_date\": \"1974-06\", \"person_id\": 60}, {\"birth_date\": \"1974-07\", \"person_id\": 48}, {\"birth_date\": \"1974-08\", \"person_id\": 52}, {\"birth_date\": \"1974-09\", \"person_id\": 37}, {\"birth_date\": \"1974-10\", \"person_id\": 30}, {\"birth_date\": \"1974-11\", \"person_id\": 43}, {\"birth_date\": \"1974-12\", \"person_id\": 55}, {\"birth_date\": \"1975-01\", \"person_id\": 39}, {\"birth_date\": \"1975-02\", \"person_id\": 55}, {\"birth_date\": \"1975-03\", \"person_id\": 47}, {\"birth_date\": \"1975-04\", \"person_id\": 53}, {\"birth_date\": \"1975-05\", \"person_id\": 55}, {\"birth_date\": \"1975-06\", \"person_id\": 52}, {\"birth_date\": \"1975-07\", \"person_id\": 50}, {\"birth_date\": \"1975-08\", \"person_id\": 32}, {\"birth_date\": \"1975-09\", \"person_id\": 43}, {\"birth_date\": \"1975-10\", \"person_id\": 45}, {\"birth_date\": \"1975-11\", \"person_id\": 50}, {\"birth_date\": \"1975-12\", \"person_id\": 49}, {\"birth_date\": \"1976-01\", \"person_id\": 40}, {\"birth_date\": \"1976-02\", \"person_id\": 45}, {\"birth_date\": \"1976-03\", \"person_id\": 36}, {\"birth_date\": \"1976-04\", \"person_id\": 49}, {\"birth_date\": \"1976-05\", \"person_id\": 41}, {\"birth_date\": \"1976-06\", \"person_id\": 35}, {\"birth_date\": \"1976-07\", \"person_id\": 47}, {\"birth_date\": \"1976-08\", \"person_id\": 45}, {\"birth_date\": \"1976-09\", \"person_id\": 50}, {\"birth_date\": \"1976-10\", \"person_id\": 45}, {\"birth_date\": \"1976-11\", \"person_id\": 45}, {\"birth_date\": \"1976-12\", \"person_id\": 36}, {\"birth_date\": \"1977-01\", \"person_id\": 55}, {\"birth_date\": \"1977-02\", \"person_id\": 42}, {\"birth_date\": \"1977-03\", \"person_id\": 53}, {\"birth_date\": \"1977-04\", \"person_id\": 48}, {\"birth_date\": \"1977-05\", \"person_id\": 47}, {\"birth_date\": \"1977-06\", \"person_id\": 41}, {\"birth_date\": \"1977-07\", \"person_id\": 50}, {\"birth_date\": \"1977-08\", \"person_id\": 50}, {\"birth_date\": \"1977-09\", \"person_id\": 48}, {\"birth_date\": \"1977-10\", \"person_id\": 34}, {\"birth_date\": \"1977-11\", \"person_id\": 43}, {\"birth_date\": \"1977-12\", \"person_id\": 44}, {\"birth_date\": \"1978-01\", \"person_id\": 59}, {\"birth_date\": \"1978-02\", \"person_id\": 47}, {\"birth_date\": \"1978-03\", \"person_id\": 54}, {\"birth_date\": \"1978-04\", \"person_id\": 36}, {\"birth_date\": \"1978-05\", \"person_id\": 40}, {\"birth_date\": \"1978-06\", \"person_id\": 50}, {\"birth_date\": \"1978-07\", \"person_id\": 36}, {\"birth_date\": \"1978-08\", \"person_id\": 48}, {\"birth_date\": \"1978-09\", \"person_id\": 45}, {\"birth_date\": \"1978-10\", \"person_id\": 47}, {\"birth_date\": \"1978-11\", \"person_id\": 48}, {\"birth_date\": \"1978-12\", \"person_id\": 45}, {\"birth_date\": \"1979-01\", \"person_id\": 58}, {\"birth_date\": \"1979-02\", \"person_id\": 34}, {\"birth_date\": \"1979-03\", \"person_id\": 38}, {\"birth_date\": \"1979-04\", \"person_id\": 41}, {\"birth_date\": \"1979-05\", \"person_id\": 50}, {\"birth_date\": \"1979-06\", \"person_id\": 47}, {\"birth_date\": \"1979-07\", \"person_id\": 39}, {\"birth_date\": \"1979-08\", \"person_id\": 45}, {\"birth_date\": \"1979-09\", \"person_id\": 53}, {\"birth_date\": \"1979-10\", \"person_id\": 37}, {\"birth_date\": \"1979-11\", \"person_id\": 46}, {\"birth_date\": \"1979-12\", \"person_id\": 46}, {\"birth_date\": \"1980-01\", \"person_id\": 41}, {\"birth_date\": \"1980-02\", \"person_id\": 36}, {\"birth_date\": \"1980-03\", \"person_id\": 28}, {\"birth_date\": \"1980-04\", \"person_id\": 39}, {\"birth_date\": \"1980-05\", \"person_id\": 32}, {\"birth_date\": \"1980-06\", \"person_id\": 32}, {\"birth_date\": \"1980-07\", \"person_id\": 38}, {\"birth_date\": \"1980-08\", \"person_id\": 49}, {\"birth_date\": \"1980-09\", \"person_id\": 45}, {\"birth_date\": \"1980-10\", \"person_id\": 47}, {\"birth_date\": \"1980-11\", \"person_id\": 48}, {\"birth_date\": \"1980-12\", \"person_id\": 42}, {\"birth_date\": \"1981-01\", \"person_id\": 36}, {\"birth_date\": \"1981-02\", \"person_id\": 46}, {\"birth_date\": \"1981-03\", \"person_id\": 53}, {\"birth_date\": \"1981-04\", \"person_id\": 54}, {\"birth_date\": \"1981-05\", \"person_id\": 52}, {\"birth_date\": \"1981-06\", \"person_id\": 45}, {\"birth_date\": \"1981-07\", \"person_id\": 38}, {\"birth_date\": \"1981-08\", \"person_id\": 37}, {\"birth_date\": \"1981-09\", \"person_id\": 55}, {\"birth_date\": \"1981-10\", \"person_id\": 42}, {\"birth_date\": \"1981-11\", \"person_id\": 40}, {\"birth_date\": \"1981-12\", \"person_id\": 50}, {\"birth_date\": \"1982-01\", \"person_id\": 34}, {\"birth_date\": \"1982-02\", \"person_id\": 39}, {\"birth_date\": \"1982-03\", \"person_id\": 43}, {\"birth_date\": \"1982-04\", \"person_id\": 45}, {\"birth_date\": \"1982-05\", \"person_id\": 50}, {\"birth_date\": \"1982-06\", \"person_id\": 42}, {\"birth_date\": \"1982-07\", \"person_id\": 50}, {\"birth_date\": \"1982-08\", \"person_id\": 43}, {\"birth_date\": \"1982-09\", \"person_id\": 46}, {\"birth_date\": \"1982-10\", \"person_id\": 50}, {\"birth_date\": \"1982-11\", \"person_id\": 47}, {\"birth_date\": \"1982-12\", \"person_id\": 46}, {\"birth_date\": \"1983-01\", \"person_id\": 27}, {\"birth_date\": \"1983-02\", \"person_id\": 29}, {\"birth_date\": \"1983-03\", \"person_id\": 42}, {\"birth_date\": \"1983-04\", \"person_id\": 47}, {\"birth_date\": \"1983-05\", \"person_id\": 49}, {\"birth_date\": \"1983-06\", \"person_id\": 35}, {\"birth_date\": \"1983-07\", \"person_id\": 50}, {\"birth_date\": \"1983-08\", \"person_id\": 55}, {\"birth_date\": \"1983-09\", \"person_id\": 48}, {\"birth_date\": \"1983-10\", \"person_id\": 37}, {\"birth_date\": \"1983-11\", \"person_id\": 53}, {\"birth_date\": \"1983-12\", \"person_id\": 41}, {\"birth_date\": \"1984-01\", \"person_id\": 44}, {\"birth_date\": \"1984-02\", \"person_id\": 45}, {\"birth_date\": \"1984-03\", \"person_id\": 50}, {\"birth_date\": \"1984-04\", \"person_id\": 52}, {\"birth_date\": \"1984-05\", \"person_id\": 47}, {\"birth_date\": \"1984-06\", \"person_id\": 38}, {\"birth_date\": \"1984-07\", \"person_id\": 47}, {\"birth_date\": \"1984-08\", \"person_id\": 43}, {\"birth_date\": \"1984-09\", \"person_id\": 50}, {\"birth_date\": \"1984-10\", \"person_id\": 49}, {\"birth_date\": \"1984-11\", \"person_id\": 41}, {\"birth_date\": \"1984-12\", \"person_id\": 30}, {\"birth_date\": \"1985-01\", \"person_id\": 31}, {\"birth_date\": \"1985-02\", \"person_id\": 46}, {\"birth_date\": \"1985-03\", \"person_id\": 44}, {\"birth_date\": \"1985-04\", \"person_id\": 49}, {\"birth_date\": \"1985-05\", \"person_id\": 34}, {\"birth_date\": \"1985-06\", \"person_id\": 44}, {\"birth_date\": \"1985-07\", \"person_id\": 47}, {\"birth_date\": \"1985-08\", \"person_id\": 46}, {\"birth_date\": \"1985-09\", \"person_id\": 36}, {\"birth_date\": \"1985-10\", \"person_id\": 39}, {\"birth_date\": \"1985-11\", \"person_id\": 51}, {\"birth_date\": \"1985-12\", \"person_id\": 36}, {\"birth_date\": \"1986-01\", \"person_id\": 51}, {\"birth_date\": \"1986-02\", \"person_id\": 49}, {\"birth_date\": \"1986-03\", \"person_id\": 58}, {\"birth_date\": \"1986-04\", \"person_id\": 51}, {\"birth_date\": \"1986-05\", \"person_id\": 43}, {\"birth_date\": \"1986-06\", \"person_id\": 45}, {\"birth_date\": \"1986-07\", \"person_id\": 51}, {\"birth_date\": \"1986-08\", \"person_id\": 52}, {\"birth_date\": \"1986-09\", \"person_id\": 53}, {\"birth_date\": \"1986-10\", \"person_id\": 51}, {\"birth_date\": \"1986-11\", \"person_id\": 37}, {\"birth_date\": \"1986-12\", \"person_id\": 59}, {\"birth_date\": \"1987-01\", \"person_id\": 40}, {\"birth_date\": \"1987-02\", \"person_id\": 44}, {\"birth_date\": \"1987-03\", \"person_id\": 40}, {\"birth_date\": \"1987-04\", \"person_id\": 44}, {\"birth_date\": \"1987-05\", \"person_id\": 42}, {\"birth_date\": \"1987-06\", \"person_id\": 44}, {\"birth_date\": \"1987-07\", \"person_id\": 43}, {\"birth_date\": \"1987-08\", \"person_id\": 27}, {\"birth_date\": \"1987-09\", \"person_id\": 49}, {\"birth_date\": \"1987-10\", \"person_id\": 46}, {\"birth_date\": \"1987-11\", \"person_id\": 40}, {\"birth_date\": \"1987-12\", \"person_id\": 46}, {\"birth_date\": \"1988-01\", \"person_id\": 44}, {\"birth_date\": \"1988-02\", \"person_id\": 45}, {\"birth_date\": \"1988-03\", \"person_id\": 49}, {\"birth_date\": \"1988-04\", \"person_id\": 37}, {\"birth_date\": \"1988-05\", \"person_id\": 46}, {\"birth_date\": \"1988-06\", \"person_id\": 48}, {\"birth_date\": \"1988-07\", \"person_id\": 49}, {\"birth_date\": \"1988-08\", \"person_id\": 43}, {\"birth_date\": \"1988-09\", \"person_id\": 56}, {\"birth_date\": \"1988-10\", \"person_id\": 47}, {\"birth_date\": \"1988-11\", \"person_id\": 49}, {\"birth_date\": \"1988-12\", \"person_id\": 47}, {\"birth_date\": \"1989-01\", \"person_id\": 38}, {\"birth_date\": \"1989-02\", \"person_id\": 36}, {\"birth_date\": \"1989-03\", \"person_id\": 47}, {\"birth_date\": \"1989-04\", \"person_id\": 37}, {\"birth_date\": \"1989-05\", \"person_id\": 52}, {\"birth_date\": \"1989-06\", \"person_id\": 46}, {\"birth_date\": \"1989-07\", \"person_id\": 37}, {\"birth_date\": \"1989-08\", \"person_id\": 51}, {\"birth_date\": \"1989-09\", \"person_id\": 43}, {\"birth_date\": \"1989-10\", \"person_id\": 57}, {\"birth_date\": \"1989-11\", \"person_id\": 50}, {\"birth_date\": \"1989-12\", \"person_id\": 53}, {\"birth_date\": \"1990-01\", \"person_id\": 54}, {\"birth_date\": \"1990-02\", \"person_id\": 58}, {\"birth_date\": \"1990-03\", \"person_id\": 52}, {\"birth_date\": \"1990-04\", \"person_id\": 46}, {\"birth_date\": \"1990-05\", \"person_id\": 47}, {\"birth_date\": \"1990-06\", \"person_id\": 49}, {\"birth_date\": \"1990-07\", \"person_id\": 44}, {\"birth_date\": \"1990-08\", \"person_id\": 46}, {\"birth_date\": \"1990-09\", \"person_id\": 50}, {\"birth_date\": \"1990-10\", \"person_id\": 53}, {\"birth_date\": \"1990-11\", \"person_id\": 52}, {\"birth_date\": \"1990-12\", \"person_id\": 46}, {\"birth_date\": \"1991-01\", \"person_id\": 43}, {\"birth_date\": \"1991-02\", \"person_id\": 38}, {\"birth_date\": \"1991-03\", \"person_id\": 42}, {\"birth_date\": \"1991-04\", \"person_id\": 36}, {\"birth_date\": \"1991-05\", \"person_id\": 48}, {\"birth_date\": \"1991-06\", \"person_id\": 47}, {\"birth_date\": \"1991-07\", \"person_id\": 39}, {\"birth_date\": \"1991-08\", \"person_id\": 37}, {\"birth_date\": \"1991-09\", \"person_id\": 42}, {\"birth_date\": \"1991-10\", \"person_id\": 39}, {\"birth_date\": \"1991-11\", \"person_id\": 46}, {\"birth_date\": \"1991-12\", \"person_id\": 42}, {\"birth_date\": \"1992-01\", \"person_id\": 53}, {\"birth_date\": \"1992-02\", \"person_id\": 45}, {\"birth_date\": \"1992-03\", \"person_id\": 54}, {\"birth_date\": \"1992-04\", \"person_id\": 48}, {\"birth_date\": \"1992-05\", \"person_id\": 44}, {\"birth_date\": \"1992-06\", \"person_id\": 42}, {\"birth_date\": \"1992-07\", \"person_id\": 48}, {\"birth_date\": \"1992-08\", \"person_id\": 51}, {\"birth_date\": \"1992-09\", \"person_id\": 41}, {\"birth_date\": \"1992-10\", \"person_id\": 41}, {\"birth_date\": \"1992-11\", \"person_id\": 50}, {\"birth_date\": \"1992-12\", \"person_id\": 36}, {\"birth_date\": \"1993-01\", \"person_id\": 47}, {\"birth_date\": \"1993-02\", \"person_id\": 45}, {\"birth_date\": \"1993-03\", \"person_id\": 52}, {\"birth_date\": \"1993-04\", \"person_id\": 53}, {\"birth_date\": \"1993-05\", \"person_id\": 30}, {\"birth_date\": \"1993-06\", \"person_id\": 40}, {\"birth_date\": \"1993-07\", \"person_id\": 48}, {\"birth_date\": \"1993-08\", \"person_id\": 53}, {\"birth_date\": \"1993-09\", \"person_id\": 43}, {\"birth_date\": \"1993-10\", \"person_id\": 56}, {\"birth_date\": \"1993-11\", \"person_id\": 57}, {\"birth_date\": \"1993-12\", \"person_id\": 52}, {\"birth_date\": \"1994-01\", \"person_id\": 42}, {\"birth_date\": \"1994-02\", \"person_id\": 44}, {\"birth_date\": \"1994-03\", \"person_id\": 47}, {\"birth_date\": \"1994-04\", \"person_id\": 45}, {\"birth_date\": \"1994-05\", \"person_id\": 51}, {\"birth_date\": \"1994-06\", \"person_id\": 39}, {\"birth_date\": \"1994-07\", \"person_id\": 45}, {\"birth_date\": \"1994-08\", \"person_id\": 50}, {\"birth_date\": \"1994-09\", \"person_id\": 46}, {\"birth_date\": \"1994-10\", \"person_id\": 48}, {\"birth_date\": \"1994-11\", \"person_id\": 49}, {\"birth_date\": \"1994-12\", \"person_id\": 31}, {\"birth_date\": \"1995-01\", \"person_id\": 40}, {\"birth_date\": \"1995-02\", \"person_id\": 33}, {\"birth_date\": \"1995-03\", \"person_id\": 53}, {\"birth_date\": \"1995-04\", \"person_id\": 46}, {\"birth_date\": \"1995-05\", \"person_id\": 53}, {\"birth_date\": \"1995-06\", \"person_id\": 43}, {\"birth_date\": \"1995-07\", \"person_id\": 40}, {\"birth_date\": \"1995-08\", \"person_id\": 45}, {\"birth_date\": \"1995-09\", \"person_id\": 50}, {\"birth_date\": \"1995-10\", \"person_id\": 45}, {\"birth_date\": \"1995-11\", \"person_id\": 34}, {\"birth_date\": \"1995-12\", \"person_id\": 47}, {\"birth_date\": \"1996-01\", \"person_id\": 57}, {\"birth_date\": \"1996-02\", \"person_id\": 39}, {\"birth_date\": \"1996-03\", \"person_id\": 55}, {\"birth_date\": \"1996-04\", \"person_id\": 46}, {\"birth_date\": \"1996-05\", \"person_id\": 42}, {\"birth_date\": \"1996-06\", \"person_id\": 43}, {\"birth_date\": \"1996-07\", \"person_id\": 54}, {\"birth_date\": \"1996-08\", \"person_id\": 40}, {\"birth_date\": \"1996-09\", \"person_id\": 59}, {\"birth_date\": \"1996-10\", \"person_id\": 48}, {\"birth_date\": \"1996-11\", \"person_id\": 43}, {\"birth_date\": \"1996-12\", \"person_id\": 43}, {\"birth_date\": \"1997-01\", \"person_id\": 40}, {\"birth_date\": \"1997-02\", \"person_id\": 35}, {\"birth_date\": \"1997-03\", \"person_id\": 45}, {\"birth_date\": \"1997-04\", \"person_id\": 45}, {\"birth_date\": \"1997-05\", \"person_id\": 43}, {\"birth_date\": \"1997-06\", \"person_id\": 51}, {\"birth_date\": \"1997-07\", \"person_id\": 47}, {\"birth_date\": \"1997-08\", \"person_id\": 49}, {\"birth_date\": \"1997-09\", \"person_id\": 40}, {\"birth_date\": \"1997-10\", \"person_id\": 41}, {\"birth_date\": \"1997-11\", \"person_id\": 39}, {\"birth_date\": \"1997-12\", \"person_id\": 39}, {\"birth_date\": \"1998-01\", \"person_id\": 52}, {\"birth_date\": \"1998-02\", \"person_id\": 43}, {\"birth_date\": \"1998-03\", \"person_id\": 49}, {\"birth_date\": \"1998-04\", \"person_id\": 43}, {\"birth_date\": \"1998-05\", \"person_id\": 43}, {\"birth_date\": \"1998-06\", \"person_id\": 46}, {\"birth_date\": \"1998-07\", \"person_id\": 42}, {\"birth_date\": \"1998-08\", \"person_id\": 49}, {\"birth_date\": \"1998-09\", \"person_id\": 38}, {\"birth_date\": \"1998-10\", \"person_id\": 51}, {\"birth_date\": \"1998-11\", \"person_id\": 43}, {\"birth_date\": \"1998-12\", \"person_id\": 58}, {\"birth_date\": \"1999-01\", \"person_id\": 38}, {\"birth_date\": \"1999-02\", \"person_id\": 37}, {\"birth_date\": \"1999-03\", \"person_id\": 43}, {\"birth_date\": \"1999-04\", \"person_id\": 39}, {\"birth_date\": \"1999-05\", \"person_id\": 38}, {\"birth_date\": \"1999-06\", \"person_id\": 45}, {\"birth_date\": \"1999-07\", \"person_id\": 47}, {\"birth_date\": \"1999-08\", \"person_id\": 44}, {\"birth_date\": \"1999-09\", \"person_id\": 40}, {\"birth_date\": \"1999-10\", \"person_id\": 51}, {\"birth_date\": \"1999-11\", \"person_id\": 43}, {\"birth_date\": \"1999-12\", \"person_id\": 45}, {\"birth_date\": \"2000-01\", \"person_id\": 39}, {\"birth_date\": \"2000-02\", \"person_id\": 40}, {\"birth_date\": \"2000-03\", \"person_id\": 45}, {\"birth_date\": \"2000-04\", \"person_id\": 49}, {\"birth_date\": \"2000-05\", \"person_id\": 56}, {\"birth_date\": \"2000-06\", \"person_id\": 47}, {\"birth_date\": \"2000-07\", \"person_id\": 39}, {\"birth_date\": \"2000-08\", \"person_id\": 61}, {\"birth_date\": \"2000-09\", \"person_id\": 39}, {\"birth_date\": \"2000-10\", \"person_id\": 55}, {\"birth_date\": \"2000-11\", \"person_id\": 41}, {\"birth_date\": \"2000-12\", \"person_id\": 47}, {\"birth_date\": \"2001-01\", \"person_id\": 50}, {\"birth_date\": \"2001-02\", \"person_id\": 46}, {\"birth_date\": \"2001-03\", \"person_id\": 45}, {\"birth_date\": \"2001-04\", \"person_id\": 40}, {\"birth_date\": \"2001-05\", \"person_id\": 43}, {\"birth_date\": \"2001-06\", \"person_id\": 40}, {\"birth_date\": \"2001-07\", \"person_id\": 48}, {\"birth_date\": \"2001-08\", \"person_id\": 53}, {\"birth_date\": \"2001-09\", \"person_id\": 36}, {\"birth_date\": \"2001-10\", \"person_id\": 48}, {\"birth_date\": \"2001-11\", \"person_id\": 38}, {\"birth_date\": \"2001-12\", \"person_id\": 55}, {\"birth_date\": \"2002-01\", \"person_id\": 47}, {\"birth_date\": \"2002-02\", \"person_id\": 45}, {\"birth_date\": \"2002-03\", \"person_id\": 32}, {\"birth_date\": \"2002-04\", \"person_id\": 49}, {\"birth_date\": \"2002-05\", \"person_id\": 43}, {\"birth_date\": \"2002-06\", \"person_id\": 45}, {\"birth_date\": \"2002-07\", \"person_id\": 55}, {\"birth_date\": \"2002-08\", \"person_id\": 38}, {\"birth_date\": \"2002-09\", \"person_id\": 42}, {\"birth_date\": \"2002-10\", \"person_id\": 39}, {\"birth_date\": \"2002-11\", \"person_id\": 61}, {\"birth_date\": \"2002-12\", \"person_id\": 43}, {\"birth_date\": \"2003-01\", \"person_id\": 50}, {\"birth_date\": \"2003-02\", \"person_id\": 40}, {\"birth_date\": \"2003-03\", \"person_id\": 42}, {\"birth_date\": \"2003-04\", \"person_id\": 41}, {\"birth_date\": \"2003-05\", \"person_id\": 47}, {\"birth_date\": \"2003-06\", \"person_id\": 36}, {\"birth_date\": \"2003-07\", \"person_id\": 33}, {\"birth_date\": \"2003-08\", \"person_id\": 38}, {\"birth_date\": \"2003-09\", \"person_id\": 58}, {\"birth_date\": \"2003-10\", \"person_id\": 36}, {\"birth_date\": \"2003-11\", \"person_id\": 44}, {\"birth_date\": \"2003-12\", \"person_id\": 37}, {\"birth_date\": \"2004-01\", \"person_id\": 35}, {\"birth_date\": \"2004-02\", \"person_id\": 50}, {\"birth_date\": \"2004-03\", \"person_id\": 60}, {\"birth_date\": \"2004-04\", \"person_id\": 34}, {\"birth_date\": \"2004-05\", \"person_id\": 40}, {\"birth_date\": \"2004-06\", \"person_id\": 34}, {\"birth_date\": \"2004-07\", \"person_id\": 44}, {\"birth_date\": \"2004-08\", \"person_id\": 48}, {\"birth_date\": \"2004-09\", \"person_id\": 48}, {\"birth_date\": \"2004-10\", \"person_id\": 41}, {\"birth_date\": \"2004-11\", \"person_id\": 36}, {\"birth_date\": \"2004-12\", \"person_id\": 53}, {\"birth_date\": \"2005-01\", \"person_id\": 46}, {\"birth_date\": \"2005-02\", \"person_id\": 44}, {\"birth_date\": \"2005-03\", \"person_id\": 54}, {\"birth_date\": \"2005-04\", \"person_id\": 56}, {\"birth_date\": \"2005-05\", \"person_id\": 37}, {\"birth_date\": \"2005-06\", \"person_id\": 41}, {\"birth_date\": \"2005-07\", \"person_id\": 41}, {\"birth_date\": \"2005-08\", \"person_id\": 51}, {\"birth_date\": \"2005-09\", \"person_id\": 29}, {\"birth_date\": \"2005-10\", \"person_id\": 50}, {\"birth_date\": \"2005-11\", \"person_id\": 33}, {\"birth_date\": \"2005-12\", \"person_id\": 49}, {\"birth_date\": \"2006-01\", \"person_id\": 52}, {\"birth_date\": \"2006-02\", \"person_id\": 48}, {\"birth_date\": \"2006-03\", \"person_id\": 38}, {\"birth_date\": \"2006-04\", \"person_id\": 38}, {\"birth_date\": \"2006-05\", \"person_id\": 48}, {\"birth_date\": \"2006-06\", \"person_id\": 56}, {\"birth_date\": \"2006-07\", \"person_id\": 55}, {\"birth_date\": \"2006-08\", \"person_id\": 53}, {\"birth_date\": \"2006-09\", \"person_id\": 48}, {\"birth_date\": \"2006-10\", \"person_id\": 43}, {\"birth_date\": \"2006-11\", \"person_id\": 52}, {\"birth_date\": \"2006-12\", \"person_id\": 48}, {\"birth_date\": \"2007-01\", \"person_id\": 43}, {\"birth_date\": \"2007-02\", \"person_id\": 36}, {\"birth_date\": \"2007-03\", \"person_id\": 50}, {\"birth_date\": \"2007-04\", \"person_id\": 51}, {\"birth_date\": \"2007-05\", \"person_id\": 56}, {\"birth_date\": \"2007-06\", \"person_id\": 37}, {\"birth_date\": \"2007-07\", \"person_id\": 52}, {\"birth_date\": \"2007-08\", \"person_id\": 44}, {\"birth_date\": \"2007-09\", \"person_id\": 45}, {\"birth_date\": \"2007-10\", \"person_id\": 50}, {\"birth_date\": \"2007-11\", \"person_id\": 53}, {\"birth_date\": \"2007-12\", \"person_id\": 52}, {\"birth_date\": \"2008-01\", \"person_id\": 51}, {\"birth_date\": \"2008-02\", \"person_id\": 49}, {\"birth_date\": \"2008-03\", \"person_id\": 48}, {\"birth_date\": \"2008-04\", \"person_id\": 42}, {\"birth_date\": \"2008-05\", \"person_id\": 51}, {\"birth_date\": \"2008-06\", \"person_id\": 47}, {\"birth_date\": \"2008-07\", \"person_id\": 35}, {\"birth_date\": \"2008-08\", \"person_id\": 39}, {\"birth_date\": \"2008-09\", \"person_id\": 33}, {\"birth_date\": \"2008-10\", \"person_id\": 42}, {\"birth_date\": \"2008-11\", \"person_id\": 45}, {\"birth_date\": \"2008-12\", \"person_id\": 54}, {\"birth_date\": \"2009-01\", \"person_id\": 48}, {\"birth_date\": \"2009-02\", \"person_id\": 37}, {\"birth_date\": \"2009-03\", \"person_id\": 31}, {\"birth_date\": \"2009-04\", \"person_id\": 37}, {\"birth_date\": \"2009-05\", \"person_id\": 59}, {\"birth_date\": \"2009-06\", \"person_id\": 50}, {\"birth_date\": \"2009-07\", \"person_id\": 38}, {\"birth_date\": \"2009-08\", \"person_id\": 41}, {\"birth_date\": \"2009-09\", \"person_id\": 38}, {\"birth_date\": \"2009-10\", \"person_id\": 41}, {\"birth_date\": \"2009-11\", \"person_id\": 38}, {\"birth_date\": \"2009-12\", \"person_id\": 39}, {\"birth_date\": \"2010-01\", \"person_id\": 45}, {\"birth_date\": \"2010-02\", \"person_id\": 46}, {\"birth_date\": \"2010-03\", \"person_id\": 49}, {\"birth_date\": \"2010-04\", \"person_id\": 38}, {\"birth_date\": \"2010-05\", \"person_id\": 51}, {\"birth_date\": \"2010-06\", \"person_id\": 54}, {\"birth_date\": \"2010-07\", \"person_id\": 53}, {\"birth_date\": \"2010-08\", \"person_id\": 49}, {\"birth_date\": \"2010-09\", \"person_id\": 58}, {\"birth_date\": \"2010-10\", \"person_id\": 32}, {\"birth_date\": \"2010-11\", \"person_id\": 47}, {\"birth_date\": \"2010-12\", \"person_id\": 41}, {\"birth_date\": \"2011-01\", \"person_id\": 39}, {\"birth_date\": \"2011-02\", \"person_id\": 31}, {\"birth_date\": \"2011-03\", \"person_id\": 43}, {\"birth_date\": \"2011-04\", \"person_id\": 44}, {\"birth_date\": \"2011-05\", \"person_id\": 38}, {\"birth_date\": \"2011-06\", \"person_id\": 46}, {\"birth_date\": \"2011-07\", \"person_id\": 66}, {\"birth_date\": \"2011-08\", \"person_id\": 43}, {\"birth_date\": \"2011-09\", \"person_id\": 38}, {\"birth_date\": \"2011-10\", \"person_id\": 45}, {\"birth_date\": \"2011-11\", \"person_id\": 54}, {\"birth_date\": \"2011-12\", \"person_id\": 30}, {\"birth_date\": \"2012-01\", \"person_id\": 52}, {\"birth_date\": \"2012-02\", \"person_id\": 40}, {\"birth_date\": \"2012-03\", \"person_id\": 45}, {\"birth_date\": \"2012-04\", \"person_id\": 53}, {\"birth_date\": \"2012-05\", \"person_id\": 34}, {\"birth_date\": \"2012-06\", \"person_id\": 42}, {\"birth_date\": \"2012-07\", \"person_id\": 48}, {\"birth_date\": \"2012-08\", \"person_id\": 42}, {\"birth_date\": \"2012-09\", \"person_id\": 52}, {\"birth_date\": \"2012-10\", \"person_id\": 47}, {\"birth_date\": \"2012-11\", \"person_id\": 31}, {\"birth_date\": \"2012-12\", \"person_id\": 39}, {\"birth_date\": \"2013-01\", \"person_id\": 46}, {\"birth_date\": \"2013-02\", \"person_id\": 46}, {\"birth_date\": \"2013-03\", \"person_id\": 48}, {\"birth_date\": \"2013-04\", \"person_id\": 45}, {\"birth_date\": \"2013-05\", \"person_id\": 48}, {\"birth_date\": \"2013-06\", \"person_id\": 40}, {\"birth_date\": \"2013-07\", \"person_id\": 37}, {\"birth_date\": \"2013-08\", \"person_id\": 43}, {\"birth_date\": \"2013-09\", \"person_id\": 47}, {\"birth_date\": \"2013-10\", \"person_id\": 43}, {\"birth_date\": \"2013-11\", \"person_id\": 45}, {\"birth_date\": \"2013-12\", \"person_id\": 52}, {\"birth_date\": \"2014-01\", \"person_id\": 47}, {\"birth_date\": \"2014-02\", \"person_id\": 43}, {\"birth_date\": \"2014-03\", \"person_id\": 52}, {\"birth_date\": \"2014-04\", \"person_id\": 45}, {\"birth_date\": \"2014-05\", \"person_id\": 30}, {\"birth_date\": \"2014-06\", \"person_id\": 41}, {\"birth_date\": \"2014-07\", \"person_id\": 39}, {\"birth_date\": \"2014-08\", \"person_id\": 40}, {\"birth_date\": \"2014-09\", \"person_id\": 40}, {\"birth_date\": \"2014-10\", \"person_id\": 42}, {\"birth_date\": \"2014-11\", \"person_id\": 48}, {\"birth_date\": \"2014-12\", \"person_id\": 58}, {\"birth_date\": \"2015-01\", \"person_id\": 44}, {\"birth_date\": \"2015-02\", \"person_id\": 42}, {\"birth_date\": \"2015-03\", \"person_id\": 49}, {\"birth_date\": \"2015-04\", \"person_id\": 47}, {\"birth_date\": \"2015-05\", \"person_id\": 43}, {\"birth_date\": \"2015-06\", \"person_id\": 43}, {\"birth_date\": \"2015-07\", \"person_id\": 45}, {\"birth_date\": \"2015-08\", \"person_id\": 51}, {\"birth_date\": \"2015-09\", \"person_id\": 43}, {\"birth_date\": \"2015-10\", \"person_id\": 44}, {\"birth_date\": \"2015-11\", \"person_id\": 50}, {\"birth_date\": \"2015-12\", \"person_id\": 47}, {\"birth_date\": \"2016-01\", \"person_id\": 50}, {\"birth_date\": \"2016-02\", \"person_id\": 42}, {\"birth_date\": \"2016-03\", \"person_id\": 36}, {\"birth_date\": \"2016-04\", \"person_id\": 33}, {\"birth_date\": \"2016-05\", \"person_id\": 46}, {\"birth_date\": \"2016-06\", \"person_id\": 45}, {\"birth_date\": \"2016-07\", \"person_id\": 28}, {\"birth_date\": \"2016-08\", \"person_id\": 45}, {\"birth_date\": \"2016-09\", \"person_id\": 31}, {\"birth_date\": \"2016-10\", \"person_id\": 48}, {\"birth_date\": \"2016-11\", \"person_id\": 35}, {\"birth_date\": \"2016-12\", \"person_id\": 37}, {\"birth_date\": \"2017-01\", \"person_id\": 33}, {\"birth_date\": \"2017-02\", \"person_id\": 35}, {\"birth_date\": \"2017-03\", \"person_id\": 38}, {\"birth_date\": \"2017-04\", \"person_id\": 33}, {\"birth_date\": \"2017-05\", \"person_id\": 28}, {\"birth_date\": \"2017-06\", \"person_id\": 34}, {\"birth_date\": \"2017-07\", \"person_id\": 29}, {\"birth_date\": \"2017-08\", \"person_id\": 36}, {\"birth_date\": \"2017-09\", \"person_id\": 29}, {\"birth_date\": \"2017-10\", \"person_id\": 38}, {\"birth_date\": \"2017-11\", \"person_id\": 25}, {\"birth_date\": \"2017-12\", \"person_id\": 36}, {\"birth_date\": \"2018-01\", \"person_id\": 24}, {\"birth_date\": \"2018-02\", \"person_id\": 31}, {\"birth_date\": \"2018-03\", \"person_id\": 36}, {\"birth_date\": \"2018-04\", \"person_id\": 22}, {\"birth_date\": \"2018-05\", \"person_id\": 25}, {\"birth_date\": \"2018-06\", \"person_id\": 20}, {\"birth_date\": \"2018-07\", \"person_id\": 26}, {\"birth_date\": \"2018-08\", \"person_id\": 27}, {\"birth_date\": \"2018-09\", \"person_id\": 26}, {\"birth_date\": \"2018-10\", \"person_id\": 22}, {\"birth_date\": \"2018-11\", \"person_id\": 25}, {\"birth_date\": \"2018-12\", \"person_id\": 23}, {\"birth_date\": \"2019-01\", \"person_id\": 21}, {\"birth_date\": \"2019-02\", \"person_id\": 15}, {\"birth_date\": \"2019-03\", \"person_id\": 25}, {\"birth_date\": \"2019-04\", \"person_id\": 28}, {\"birth_date\": \"2019-05\", \"person_id\": 18}, {\"birth_date\": \"2019-06\", \"person_id\": 27}, {\"birth_date\": \"2019-07\", \"person_id\": 23}, {\"birth_date\": \"2019-08\", \"person_id\": 20}, {\"birth_date\": \"2019-09\", \"person_id\": 15}, {\"birth_date\": \"2019-10\", \"person_id\": 20}, {\"birth_date\": \"2019-11\", \"person_id\": 12}, {\"birth_date\": \"2019-12\", \"person_id\": 9}, {\"birth_date\": \"2020-01\", \"person_id\": 7}, {\"birth_date\": \"2020-02\", \"person_id\": 10}, {\"birth_date\": \"2020-03\", \"person_id\": 12}, {\"birth_date\": \"2020-04\", \"person_id\": 11}, {\"birth_date\": \"2020-05\", \"person_id\": 12}, {\"birth_date\": \"2020-06\", \"person_id\": 12}, {\"birth_date\": \"2020-07\", \"person_id\": 7}, {\"birth_date\": \"2020-08\", \"person_id\": 11}, {\"birth_date\": \"2020-09\", \"person_id\": 2}, {\"birth_date\": \"2020-10\", \"person_id\": 3}]}}, {\"mode\": \"vega-lite\"});\n",
       "</script>"
      ],
      "text/plain": [
       "alt.Chart(...)"
      ]
     },
     "execution_count": 19,
     "metadata": {},
     "output_type": "execute_result"
    }
   ],
   "source": [
    "alt.Chart(birth_dates_summary).mark_bar(size=1).encode(\n",
    "    alt.X('birth_date:T', scale=alt.Scale(padding=5)),\n",
    "    y='person_id:Q'\n",
    ")"
   ]
  },
  {
   "cell_type": "markdown",
   "metadata": {},
   "source": [
    "What do you see ? Does this distribution look normal ?"
   ]
  },
  {
   "cell_type": "markdown",
   "metadata": {},
   "source": [
    "**Correction**:  \n",
    "This distribution looks normal ! Our correction appears to work fine."
   ]
  },
  {
   "cell_type": "markdown",
   "metadata": {},
   "source": [
    "### 2.2.2 Death dates"
   ]
  },
  {
   "cell_type": "markdown",
   "metadata": {},
   "source": [
    "Plot the death datetime distribution. Do you observe anything seeming abnormal ?\n",
    "\n",
    "TIP : Use the same steps than for the birth datetime"
   ]
  },
  {
   "cell_type": "code",
   "execution_count": 20,
   "metadata": {
    "tags": []
   },
   "outputs": [
    {
     "name": "stderr",
     "output_type": "stream",
     "text": [
      "/export/home/cse210049/.user_conda/miniconda/envs/eds-tuto/lib/python3.7/site-packages/ipykernel_launcher.py:1: SettingWithCopyWarning: \n",
      "A value is trying to be set on a copy of a slice from a DataFrame.\n",
      "Try using .loc[row_indexer,col_indexer] = value instead\n",
      "\n",
      "See the caveats in the documentation: https://pandas.pydata.org/pandas-docs/stable/user_guide/indexing.html#returning-a-view-versus-a-copy\n",
      "  \"\"\"Entry point for launching an IPython kernel.\n"
     ]
    }
   ],
   "source": [
    "df_person_fix['death_date'] = df_person_fix['death_datetime'].dt.strftime('%Y-%m')"
   ]
  },
  {
   "cell_type": "code",
   "execution_count": 21,
   "metadata": {
    "tags": []
   },
   "outputs": [],
   "source": [
    "death_dates_summary = df_person_fix.groupby(\"death_date\", as_index=False).person_id.count()"
   ]
  },
  {
   "cell_type": "code",
   "execution_count": 22,
   "metadata": {
    "tags": []
   },
   "outputs": [
    {
     "data": {
      "text/html": [
       "\n",
       "<div id=\"altair-viz-5b2c001f95d94734930a98e709f35c72\"></div>\n",
       "<script type=\"text/javascript\">\n",
       "  (function(spec, embedOpt){\n",
       "    let outputDiv = document.currentScript.previousElementSibling;\n",
       "    if (outputDiv.id !== \"altair-viz-5b2c001f95d94734930a98e709f35c72\") {\n",
       "      outputDiv = document.getElementById(\"altair-viz-5b2c001f95d94734930a98e709f35c72\");\n",
       "    }\n",
       "    const paths = {\n",
       "      \"vega\": \"https://cdn.jsdelivr.net/npm//vega@5?noext\",\n",
       "      \"vega-lib\": \"https://cdn.jsdelivr.net/npm//vega-lib?noext\",\n",
       "      \"vega-lite\": \"https://cdn.jsdelivr.net/npm//vega-lite@4.8.1?noext\",\n",
       "      \"vega-embed\": \"https://cdn.jsdelivr.net/npm//vega-embed@6?noext\",\n",
       "    };\n",
       "\n",
       "    function loadScript(lib) {\n",
       "      return new Promise(function(resolve, reject) {\n",
       "        var s = document.createElement('script');\n",
       "        s.src = paths[lib];\n",
       "        s.async = true;\n",
       "        s.onload = () => resolve(paths[lib]);\n",
       "        s.onerror = () => reject(`Error loading script: ${paths[lib]}`);\n",
       "        document.getElementsByTagName(\"head\")[0].appendChild(s);\n",
       "      });\n",
       "    }\n",
       "\n",
       "    function showError(err) {\n",
       "      outputDiv.innerHTML = `<div class=\"error\" style=\"color:red;\">${err}</div>`;\n",
       "      throw err;\n",
       "    }\n",
       "\n",
       "    function displayChart(vegaEmbed) {\n",
       "      vegaEmbed(outputDiv, spec, embedOpt)\n",
       "        .catch(err => showError(`Javascript Error: ${err.message}<br>This usually means there's a typo in your chart specification. See the javascript console for the full traceback.`));\n",
       "    }\n",
       "\n",
       "    if(typeof define === \"function\" && define.amd) {\n",
       "      requirejs.config({paths});\n",
       "      require([\"vega-embed\"], displayChart, err => showError(`Error loading script: ${err.message}`));\n",
       "    } else if (typeof vegaEmbed === \"function\") {\n",
       "      displayChart(vegaEmbed);\n",
       "    } else {\n",
       "      loadScript(\"vega\")\n",
       "        .then(() => loadScript(\"vega-lite\"))\n",
       "        .then(() => loadScript(\"vega-embed\"))\n",
       "        .catch(showError)\n",
       "        .then(() => displayChart(vegaEmbed));\n",
       "    }\n",
       "  })({\"config\": {\"view\": {\"continuousWidth\": 400, \"continuousHeight\": 300}}, \"data\": {\"name\": \"data-bf05778265843783f59f5485d3998f25\"}, \"mark\": \"bar\", \"encoding\": {\"x\": {\"type\": \"temporal\", \"field\": \"death_date\"}, \"y\": {\"type\": \"quantitative\", \"field\": \"person_id\"}}, \"$schema\": \"https://vega.github.io/schema/vega-lite/v4.8.1.json\", \"datasets\": {\"data-bf05778265843783f59f5485d3998f25\": [{\"death_date\": \"2019-12\", \"person_id\": 151}, {\"death_date\": \"2020-01\", \"person_id\": 158}, {\"death_date\": \"2020-02\", \"person_id\": 148}, {\"death_date\": \"2020-03\", \"person_id\": 184}, {\"death_date\": \"2020-04\", \"person_id\": 156}, {\"death_date\": \"2020-05\", \"person_id\": 189}, {\"death_date\": \"2020-06\", \"person_id\": 178}, {\"death_date\": \"2020-07\", \"person_id\": 180}, {\"death_date\": \"2020-08\", \"person_id\": 189}, {\"death_date\": \"2020-09\", \"person_id\": 175}, {\"death_date\": \"2020-10\", \"person_id\": 212}, {\"death_date\": \"2020-11\", \"person_id\": 187}, {\"death_date\": \"2020-12\", \"person_id\": 172}, {\"death_date\": \"2021-01\", \"person_id\": 186}, {\"death_date\": \"2021-02\", \"person_id\": 158}, {\"death_date\": \"2021-03\", \"person_id\": 187}, {\"death_date\": \"2021-04\", \"person_id\": 188}, {\"death_date\": \"2021-05\", \"person_id\": 190}, {\"death_date\": \"2021-06\", \"person_id\": 211}, {\"death_date\": \"2021-07\", \"person_id\": 197}, {\"death_date\": \"2021-08\", \"person_id\": 182}, {\"death_date\": \"2021-09\", \"person_id\": 222}, {\"death_date\": \"2021-10\", \"person_id\": 220}, {\"death_date\": \"2021-11\", \"person_id\": 193}, {\"death_date\": \"2021-12\", \"person_id\": 214}, {\"death_date\": \"2022-01\", \"person_id\": 210}, {\"death_date\": \"2022-02\", \"person_id\": 172}, {\"death_date\": \"2022-03\", \"person_id\": 201}, {\"death_date\": \"2022-04\", \"person_id\": 192}, {\"death_date\": \"2022-05\", \"person_id\": 229}, {\"death_date\": \"2022-06\", \"person_id\": 221}, {\"death_date\": \"2022-07\", \"person_id\": 221}, {\"death_date\": \"2022-08\", \"person_id\": 243}, {\"death_date\": \"2022-09\", \"person_id\": 248}, {\"death_date\": \"2022-10\", \"person_id\": 241}, {\"death_date\": \"2022-11\", \"person_id\": 198}, {\"death_date\": \"2022-12\", \"person_id\": 277}, {\"death_date\": \"2023-01\", \"person_id\": 291}, {\"death_date\": \"2023-02\", \"person_id\": 238}, {\"death_date\": \"2023-03\", \"person_id\": 253}, {\"death_date\": \"2023-04\", \"person_id\": 246}, {\"death_date\": \"2023-05\", \"person_id\": 318}, {\"death_date\": \"2023-06\", \"person_id\": 281}, {\"death_date\": \"2023-07\", \"person_id\": 299}, {\"death_date\": \"2023-08\", \"person_id\": 340}, {\"death_date\": \"2023-09\", \"person_id\": 301}, {\"death_date\": \"2023-10\", \"person_id\": 339}, {\"death_date\": \"2023-11\", \"person_id\": 322}, {\"death_date\": \"2023-12\", \"person_id\": 331}, {\"death_date\": \"2024-01\", \"person_id\": 334}, {\"death_date\": \"2024-02\", \"person_id\": 328}, {\"death_date\": \"2024-03\", \"person_id\": 365}, {\"death_date\": \"2024-04\", \"person_id\": 377}, {\"death_date\": \"2024-05\", \"person_id\": 422}, {\"death_date\": \"2024-06\", \"person_id\": 418}, {\"death_date\": \"2024-07\", \"person_id\": 465}, {\"death_date\": \"2024-08\", \"person_id\": 420}, {\"death_date\": \"2024-09\", \"person_id\": 486}, {\"death_date\": \"2024-10\", \"person_id\": 487}, {\"death_date\": \"2024-11\", \"person_id\": 488}, {\"death_date\": \"2024-12\", \"person_id\": 507}, {\"death_date\": \"2025-01\", \"person_id\": 563}, {\"death_date\": \"2025-02\", \"person_id\": 550}, {\"death_date\": \"2025-03\", \"person_id\": 618}, {\"death_date\": \"2025-04\", \"person_id\": 649}, {\"death_date\": \"2025-05\", \"person_id\": 626}, {\"death_date\": \"2025-06\", \"person_id\": 620}, {\"death_date\": \"2025-07\", \"person_id\": 699}, {\"death_date\": \"2025-08\", \"person_id\": 771}, {\"death_date\": \"2025-09\", \"person_id\": 761}, {\"death_date\": \"2025-10\", \"person_id\": 857}, {\"death_date\": \"2025-11\", \"person_id\": 877}, {\"death_date\": \"2025-12\", \"person_id\": 99}]}}, {\"mode\": \"vega-lite\"});\n",
       "</script>"
      ],
      "text/plain": [
       "alt.Chart(...)"
      ]
     },
     "execution_count": 22,
     "metadata": {},
     "output_type": "execute_result"
    }
   ],
   "source": [
    "alt.Chart(death_dates_summary).mark_bar().encode(\n",
    "    x='death_date:T',\n",
    "    y='person_id:Q'\n",
    ")"
   ]
  },
  {
   "cell_type": "markdown",
   "metadata": {},
   "source": [
    "What do you observe ?"
   ]
  },
  {
   "cell_type": "markdown",
   "metadata": {},
   "source": [
    "We do not observe any spurious data, and assume consequently that the date of death may be used with some confidence."
   ]
  },
  {
   "cell_type": "markdown",
   "metadata": {},
   "source": [
    "<a id=\"prepro_visits\"></a>\n",
    "## 2.3 Pre-processing administrative data related to patients' pathways"
   ]
  },
  {
   "cell_type": "markdown",
   "metadata": {},
   "source": [
    "We consider now administrative data related to patients' hospitalizations.\n",
    "\n",
    "Plot the distribution of entrance dates : column \"visit_start_datetime\" of the *df_visit* DataFrame.  \n",
    "\n",
    "Tip 1: Check out the presence of null dates, and convert dates to the \"YYYY-MM\" format.  \n",
    "Tip 2: If your DataFrame contains to many rows, you can use the `pandas.DataFrame.groupby()` function and count the number of `person_id` by `visit_start_date`."
   ]
  },
  {
   "cell_type": "code",
   "execution_count": 23,
   "metadata": {
    "tags": []
   },
   "outputs": [],
   "source": [
    "df_visit['visit_start_date'] = df_visit['visit_start_datetime'].dt.strftime('%Y-%m')"
   ]
  },
  {
   "cell_type": "code",
   "execution_count": 24,
   "metadata": {
    "tags": []
   },
   "outputs": [],
   "source": [
    "visit_start_dates_summary = df_visit.groupby(\"visit_start_date\", as_index=False).person_id.count()"
   ]
  },
  {
   "cell_type": "code",
   "execution_count": 25,
   "metadata": {
    "tags": []
   },
   "outputs": [
    {
     "data": {
      "text/html": [
       "\n",
       "<div id=\"altair-viz-98aede5fd5f941fc8df36c543913f2a1\"></div>\n",
       "<script type=\"text/javascript\">\n",
       "  (function(spec, embedOpt){\n",
       "    let outputDiv = document.currentScript.previousElementSibling;\n",
       "    if (outputDiv.id !== \"altair-viz-98aede5fd5f941fc8df36c543913f2a1\") {\n",
       "      outputDiv = document.getElementById(\"altair-viz-98aede5fd5f941fc8df36c543913f2a1\");\n",
       "    }\n",
       "    const paths = {\n",
       "      \"vega\": \"https://cdn.jsdelivr.net/npm//vega@5?noext\",\n",
       "      \"vega-lib\": \"https://cdn.jsdelivr.net/npm//vega-lib?noext\",\n",
       "      \"vega-lite\": \"https://cdn.jsdelivr.net/npm//vega-lite@4.8.1?noext\",\n",
       "      \"vega-embed\": \"https://cdn.jsdelivr.net/npm//vega-embed@6?noext\",\n",
       "    };\n",
       "\n",
       "    function loadScript(lib) {\n",
       "      return new Promise(function(resolve, reject) {\n",
       "        var s = document.createElement('script');\n",
       "        s.src = paths[lib];\n",
       "        s.async = true;\n",
       "        s.onload = () => resolve(paths[lib]);\n",
       "        s.onerror = () => reject(`Error loading script: ${paths[lib]}`);\n",
       "        document.getElementsByTagName(\"head\")[0].appendChild(s);\n",
       "      });\n",
       "    }\n",
       "\n",
       "    function showError(err) {\n",
       "      outputDiv.innerHTML = `<div class=\"error\" style=\"color:red;\">${err}</div>`;\n",
       "      throw err;\n",
       "    }\n",
       "\n",
       "    function displayChart(vegaEmbed) {\n",
       "      vegaEmbed(outputDiv, spec, embedOpt)\n",
       "        .catch(err => showError(`Javascript Error: ${err.message}<br>This usually means there's a typo in your chart specification. See the javascript console for the full traceback.`));\n",
       "    }\n",
       "\n",
       "    if(typeof define === \"function\" && define.amd) {\n",
       "      requirejs.config({paths});\n",
       "      require([\"vega-embed\"], displayChart, err => showError(`Error loading script: ${err.message}`));\n",
       "    } else if (typeof vegaEmbed === \"function\") {\n",
       "      displayChart(vegaEmbed);\n",
       "    } else {\n",
       "      loadScript(\"vega\")\n",
       "        .then(() => loadScript(\"vega-lite\"))\n",
       "        .then(() => loadScript(\"vega-embed\"))\n",
       "        .catch(showError)\n",
       "        .then(() => displayChart(vegaEmbed));\n",
       "    }\n",
       "  })({\"config\": {\"view\": {\"continuousWidth\": 400, \"continuousHeight\": 300}}, \"data\": {\"name\": \"data-fe469d109448af499721b22749905092\"}, \"mark\": \"bar\", \"encoding\": {\"x\": {\"type\": \"temporal\", \"field\": \"visit_start_date\", \"scale\": {\"padding\": 5}}, \"y\": {\"type\": \"quantitative\", \"field\": \"person_id\"}}, \"$schema\": \"https://vega.github.io/schema/vega-lite/v4.8.1.json\", \"datasets\": {\"data-fe469d109448af499721b22749905092\": [{\"visit_start_date\": \"1863-10\", \"person_id\": 593}, {\"visit_start_date\": \"2019-12\", \"person_id\": 429}, {\"visit_start_date\": \"2020-01\", \"person_id\": 406}, {\"visit_start_date\": \"2020-02\", \"person_id\": 357}, {\"visit_start_date\": \"2020-03\", \"person_id\": 430}, {\"visit_start_date\": \"2020-04\", \"person_id\": 402}, {\"visit_start_date\": \"2020-05\", \"person_id\": 440}, {\"visit_start_date\": \"2020-06\", \"person_id\": 422}, {\"visit_start_date\": \"2020-07\", \"person_id\": 419}, {\"visit_start_date\": \"2020-08\", \"person_id\": 446}, {\"visit_start_date\": \"2020-09\", \"person_id\": 405}, {\"visit_start_date\": \"2020-10\", \"person_id\": 457}, {\"visit_start_date\": \"2020-11\", \"person_id\": 444}, {\"visit_start_date\": \"2020-12\", \"person_id\": 421}, {\"visit_start_date\": \"2021-01\", \"person_id\": 467}, {\"visit_start_date\": \"2021-02\", \"person_id\": 410}, {\"visit_start_date\": \"2021-03\", \"person_id\": 427}, {\"visit_start_date\": \"2021-04\", \"person_id\": 423}, {\"visit_start_date\": \"2021-05\", \"person_id\": 488}, {\"visit_start_date\": \"2021-06\", \"person_id\": 452}, {\"visit_start_date\": \"2021-07\", \"person_id\": 504}, {\"visit_start_date\": \"2021-08\", \"person_id\": 458}, {\"visit_start_date\": \"2021-09\", \"person_id\": 487}, {\"visit_start_date\": \"2021-10\", \"person_id\": 532}, {\"visit_start_date\": \"2021-11\", \"person_id\": 478}, {\"visit_start_date\": \"2021-12\", \"person_id\": 512}, {\"visit_start_date\": \"2022-01\", \"person_id\": 494}, {\"visit_start_date\": \"2022-02\", \"person_id\": 467}, {\"visit_start_date\": \"2022-03\", \"person_id\": 489}, {\"visit_start_date\": \"2022-04\", \"person_id\": 448}, {\"visit_start_date\": \"2022-05\", \"person_id\": 564}, {\"visit_start_date\": \"2022-06\", \"person_id\": 517}, {\"visit_start_date\": \"2022-07\", \"person_id\": 559}, {\"visit_start_date\": \"2022-08\", \"person_id\": 562}, {\"visit_start_date\": \"2022-09\", \"person_id\": 573}, {\"visit_start_date\": \"2022-10\", \"person_id\": 551}, {\"visit_start_date\": \"2022-11\", \"person_id\": 487}, {\"visit_start_date\": \"2022-12\", \"person_id\": 615}, {\"visit_start_date\": \"2023-01\", \"person_id\": 652}, {\"visit_start_date\": \"2023-02\", \"person_id\": 546}, {\"visit_start_date\": \"2023-03\", \"person_id\": 625}, {\"visit_start_date\": \"2023-04\", \"person_id\": 654}, {\"visit_start_date\": \"2023-05\", \"person_id\": 719}, {\"visit_start_date\": \"2023-06\", \"person_id\": 669}, {\"visit_start_date\": \"2023-07\", \"person_id\": 763}, {\"visit_start_date\": \"2023-08\", \"person_id\": 794}, {\"visit_start_date\": \"2023-09\", \"person_id\": 744}, {\"visit_start_date\": \"2023-10\", \"person_id\": 809}, {\"visit_start_date\": \"2023-11\", \"person_id\": 754}, {\"visit_start_date\": \"2023-12\", \"person_id\": 781}, {\"visit_start_date\": \"2024-01\", \"person_id\": 840}, {\"visit_start_date\": \"2024-02\", \"person_id\": 832}, {\"visit_start_date\": \"2024-03\", \"person_id\": 883}, {\"visit_start_date\": \"2024-04\", \"person_id\": 906}, {\"visit_start_date\": \"2024-05\", \"person_id\": 1002}, {\"visit_start_date\": \"2024-06\", \"person_id\": 969}, {\"visit_start_date\": \"2024-07\", \"person_id\": 1060}, {\"visit_start_date\": \"2024-08\", \"person_id\": 1079}, {\"visit_start_date\": \"2024-09\", \"person_id\": 1052}, {\"visit_start_date\": \"2024-10\", \"person_id\": 1194}, {\"visit_start_date\": \"2024-11\", \"person_id\": 1208}, {\"visit_start_date\": \"2024-12\", \"person_id\": 1258}, {\"visit_start_date\": \"2025-01\", \"person_id\": 1344}, {\"visit_start_date\": \"2025-02\", \"person_id\": 1267}, {\"visit_start_date\": \"2025-03\", \"person_id\": 1493}, {\"visit_start_date\": \"2025-04\", \"person_id\": 1495}, {\"visit_start_date\": \"2025-05\", \"person_id\": 1560}, {\"visit_start_date\": \"2025-06\", \"person_id\": 1531}, {\"visit_start_date\": \"2025-07\", \"person_id\": 1721}, {\"visit_start_date\": \"2025-08\", \"person_id\": 1843}, {\"visit_start_date\": \"2025-09\", \"person_id\": 1858}, {\"visit_start_date\": \"2025-10\", \"person_id\": 1993}, {\"visit_start_date\": \"2025-11\", \"person_id\": 2067}]}}, {\"mode\": \"vega-lite\"});\n",
       "</script>"
      ],
      "text/plain": [
       "alt.Chart(...)"
      ]
     },
     "execution_count": 25,
     "metadata": {},
     "output_type": "execute_result"
    }
   ],
   "source": [
    "alt.Chart(visit_start_dates_summary).mark_bar().encode(\n",
    "    alt.X('visit_start_date:T', scale=alt.Scale(padding=5)),\n",
    "    y='person_id:Q'\n",
    ")"
   ]
  },
  {
   "cell_type": "markdown",
   "metadata": {},
   "source": [
    "Discard visits which dates are not plausible (*e.g* occurring before 01/01/2000), and checkout for the new date repartition.\n",
    "\n",
    "TIPS : \n",
    "- Use  `pd.to_datetime(\"01/01/2000\"))` to compare visit start date to 01/01/2000 and create a Dataframe `df_visit_fix` with only visits starting after 01/01/2000.\n",
    "- Convert the visit start datetime to a \"YYYY-MM\" format\n",
    "- Use the `pandas.DataFrame.groupby()` function and count the number of `person_id` by `birth_date`"
   ]
  },
  {
   "cell_type": "code",
   "execution_count": 26,
   "metadata": {
    "tags": []
   },
   "outputs": [],
   "source": [
    "df_visit_fix = df_visit[df_visit.visit_start_datetime>=pd.to_datetime(\"01/01/2000\")]"
   ]
  },
  {
   "cell_type": "code",
   "execution_count": 27,
   "metadata": {
    "tags": []
   },
   "outputs": [
    {
     "name": "stderr",
     "output_type": "stream",
     "text": [
      "/export/home/cse210049/.user_conda/miniconda/envs/eds-tuto/lib/python3.7/site-packages/ipykernel_launcher.py:1: SettingWithCopyWarning: \n",
      "A value is trying to be set on a copy of a slice from a DataFrame.\n",
      "Try using .loc[row_indexer,col_indexer] = value instead\n",
      "\n",
      "See the caveats in the documentation: https://pandas.pydata.org/pandas-docs/stable/user_guide/indexing.html#returning-a-view-versus-a-copy\n",
      "  \"\"\"Entry point for launching an IPython kernel.\n"
     ]
    }
   ],
   "source": [
    "df_visit_fix['visit_start_date'] = df_visit_fix['visit_start_datetime'].dt.strftime('%Y-%m')"
   ]
  },
  {
   "cell_type": "code",
   "execution_count": 28,
   "metadata": {
    "tags": []
   },
   "outputs": [],
   "source": [
    "visit_fix_start_dates_summary = df_visit_fix.groupby(\"visit_start_date\", as_index=False).person_id.count()"
   ]
  },
  {
   "cell_type": "code",
   "execution_count": 29,
   "metadata": {
    "tags": []
   },
   "outputs": [
    {
     "data": {
      "text/html": [
       "\n",
       "<div id=\"altair-viz-a861304cd54943a7987d996ab77a3b3f\"></div>\n",
       "<script type=\"text/javascript\">\n",
       "  (function(spec, embedOpt){\n",
       "    let outputDiv = document.currentScript.previousElementSibling;\n",
       "    if (outputDiv.id !== \"altair-viz-a861304cd54943a7987d996ab77a3b3f\") {\n",
       "      outputDiv = document.getElementById(\"altair-viz-a861304cd54943a7987d996ab77a3b3f\");\n",
       "    }\n",
       "    const paths = {\n",
       "      \"vega\": \"https://cdn.jsdelivr.net/npm//vega@5?noext\",\n",
       "      \"vega-lib\": \"https://cdn.jsdelivr.net/npm//vega-lib?noext\",\n",
       "      \"vega-lite\": \"https://cdn.jsdelivr.net/npm//vega-lite@4.8.1?noext\",\n",
       "      \"vega-embed\": \"https://cdn.jsdelivr.net/npm//vega-embed@6?noext\",\n",
       "    };\n",
       "\n",
       "    function loadScript(lib) {\n",
       "      return new Promise(function(resolve, reject) {\n",
       "        var s = document.createElement('script');\n",
       "        s.src = paths[lib];\n",
       "        s.async = true;\n",
       "        s.onload = () => resolve(paths[lib]);\n",
       "        s.onerror = () => reject(`Error loading script: ${paths[lib]}`);\n",
       "        document.getElementsByTagName(\"head\")[0].appendChild(s);\n",
       "      });\n",
       "    }\n",
       "\n",
       "    function showError(err) {\n",
       "      outputDiv.innerHTML = `<div class=\"error\" style=\"color:red;\">${err}</div>`;\n",
       "      throw err;\n",
       "    }\n",
       "\n",
       "    function displayChart(vegaEmbed) {\n",
       "      vegaEmbed(outputDiv, spec, embedOpt)\n",
       "        .catch(err => showError(`Javascript Error: ${err.message}<br>This usually means there's a typo in your chart specification. See the javascript console for the full traceback.`));\n",
       "    }\n",
       "\n",
       "    if(typeof define === \"function\" && define.amd) {\n",
       "      requirejs.config({paths});\n",
       "      require([\"vega-embed\"], displayChart, err => showError(`Error loading script: ${err.message}`));\n",
       "    } else if (typeof vegaEmbed === \"function\") {\n",
       "      displayChart(vegaEmbed);\n",
       "    } else {\n",
       "      loadScript(\"vega\")\n",
       "        .then(() => loadScript(\"vega-lite\"))\n",
       "        .then(() => loadScript(\"vega-embed\"))\n",
       "        .catch(showError)\n",
       "        .then(() => displayChart(vegaEmbed));\n",
       "    }\n",
       "  })({\"config\": {\"view\": {\"continuousWidth\": 400, \"continuousHeight\": 300}}, \"data\": {\"name\": \"data-3172f3d5033152a0f92e8ae54f8cf9d3\"}, \"mark\": \"bar\", \"encoding\": {\"x\": {\"type\": \"temporal\", \"field\": \"visit_start_date\"}, \"y\": {\"type\": \"quantitative\", \"field\": \"person_id\"}}, \"$schema\": \"https://vega.github.io/schema/vega-lite/v4.8.1.json\", \"datasets\": {\"data-3172f3d5033152a0f92e8ae54f8cf9d3\": [{\"visit_start_date\": \"2019-12\", \"person_id\": 429}, {\"visit_start_date\": \"2020-01\", \"person_id\": 406}, {\"visit_start_date\": \"2020-02\", \"person_id\": 357}, {\"visit_start_date\": \"2020-03\", \"person_id\": 430}, {\"visit_start_date\": \"2020-04\", \"person_id\": 402}, {\"visit_start_date\": \"2020-05\", \"person_id\": 440}, {\"visit_start_date\": \"2020-06\", \"person_id\": 422}, {\"visit_start_date\": \"2020-07\", \"person_id\": 419}, {\"visit_start_date\": \"2020-08\", \"person_id\": 446}, {\"visit_start_date\": \"2020-09\", \"person_id\": 405}, {\"visit_start_date\": \"2020-10\", \"person_id\": 457}, {\"visit_start_date\": \"2020-11\", \"person_id\": 444}, {\"visit_start_date\": \"2020-12\", \"person_id\": 421}, {\"visit_start_date\": \"2021-01\", \"person_id\": 467}, {\"visit_start_date\": \"2021-02\", \"person_id\": 410}, {\"visit_start_date\": \"2021-03\", \"person_id\": 427}, {\"visit_start_date\": \"2021-04\", \"person_id\": 423}, {\"visit_start_date\": \"2021-05\", \"person_id\": 488}, {\"visit_start_date\": \"2021-06\", \"person_id\": 452}, {\"visit_start_date\": \"2021-07\", \"person_id\": 504}, {\"visit_start_date\": \"2021-08\", \"person_id\": 458}, {\"visit_start_date\": \"2021-09\", \"person_id\": 487}, {\"visit_start_date\": \"2021-10\", \"person_id\": 532}, {\"visit_start_date\": \"2021-11\", \"person_id\": 478}, {\"visit_start_date\": \"2021-12\", \"person_id\": 512}, {\"visit_start_date\": \"2022-01\", \"person_id\": 494}, {\"visit_start_date\": \"2022-02\", \"person_id\": 467}, {\"visit_start_date\": \"2022-03\", \"person_id\": 489}, {\"visit_start_date\": \"2022-04\", \"person_id\": 448}, {\"visit_start_date\": \"2022-05\", \"person_id\": 564}, {\"visit_start_date\": \"2022-06\", \"person_id\": 517}, {\"visit_start_date\": \"2022-07\", \"person_id\": 559}, {\"visit_start_date\": \"2022-08\", \"person_id\": 562}, {\"visit_start_date\": \"2022-09\", \"person_id\": 573}, {\"visit_start_date\": \"2022-10\", \"person_id\": 551}, {\"visit_start_date\": \"2022-11\", \"person_id\": 487}, {\"visit_start_date\": \"2022-12\", \"person_id\": 615}, {\"visit_start_date\": \"2023-01\", \"person_id\": 652}, {\"visit_start_date\": \"2023-02\", \"person_id\": 546}, {\"visit_start_date\": \"2023-03\", \"person_id\": 625}, {\"visit_start_date\": \"2023-04\", \"person_id\": 654}, {\"visit_start_date\": \"2023-05\", \"person_id\": 719}, {\"visit_start_date\": \"2023-06\", \"person_id\": 669}, {\"visit_start_date\": \"2023-07\", \"person_id\": 763}, {\"visit_start_date\": \"2023-08\", \"person_id\": 794}, {\"visit_start_date\": \"2023-09\", \"person_id\": 744}, {\"visit_start_date\": \"2023-10\", \"person_id\": 809}, {\"visit_start_date\": \"2023-11\", \"person_id\": 754}, {\"visit_start_date\": \"2023-12\", \"person_id\": 781}, {\"visit_start_date\": \"2024-01\", \"person_id\": 840}, {\"visit_start_date\": \"2024-02\", \"person_id\": 832}, {\"visit_start_date\": \"2024-03\", \"person_id\": 883}, {\"visit_start_date\": \"2024-04\", \"person_id\": 906}, {\"visit_start_date\": \"2024-05\", \"person_id\": 1002}, {\"visit_start_date\": \"2024-06\", \"person_id\": 969}, {\"visit_start_date\": \"2024-07\", \"person_id\": 1060}, {\"visit_start_date\": \"2024-08\", \"person_id\": 1079}, {\"visit_start_date\": \"2024-09\", \"person_id\": 1052}, {\"visit_start_date\": \"2024-10\", \"person_id\": 1194}, {\"visit_start_date\": \"2024-11\", \"person_id\": 1208}, {\"visit_start_date\": \"2024-12\", \"person_id\": 1258}, {\"visit_start_date\": \"2025-01\", \"person_id\": 1344}, {\"visit_start_date\": \"2025-02\", \"person_id\": 1267}, {\"visit_start_date\": \"2025-03\", \"person_id\": 1493}, {\"visit_start_date\": \"2025-04\", \"person_id\": 1495}, {\"visit_start_date\": \"2025-05\", \"person_id\": 1560}, {\"visit_start_date\": \"2025-06\", \"person_id\": 1531}, {\"visit_start_date\": \"2025-07\", \"person_id\": 1721}, {\"visit_start_date\": \"2025-08\", \"person_id\": 1843}, {\"visit_start_date\": \"2025-09\", \"person_id\": 1858}, {\"visit_start_date\": \"2025-10\", \"person_id\": 1993}, {\"visit_start_date\": \"2025-11\", \"person_id\": 2067}]}}, {\"mode\": \"vega-lite\"});\n",
       "</script>"
      ],
      "text/plain": [
       "alt.Chart(...)"
      ]
     },
     "execution_count": 29,
     "metadata": {},
     "output_type": "execute_result"
    }
   ],
   "source": [
    "alt.Chart(visit_fix_start_dates_summary).mark_bar().encode(\n",
    "    x='visit_start_date:T',\n",
    "    y='person_id:Q'\n",
    ")"
   ]
  },
  {
   "cell_type": "markdown",
   "metadata": {},
   "source": [
    "**WARNING** : although knowing the temporality of a visit is crucial to estimate survival functions, do not forget that this selection may once more induce biases. We will evaluate its impact later on in the project."
   ]
  },
  {
   "cell_type": "markdown",
   "metadata": {},
   "source": [
    "<a id=\"prepro_cond\"></a>\n",
    "## 2.4 Pre-processing claim data"
   ]
  },
  {
   "cell_type": "markdown",
   "metadata": {},
   "source": [
    "We consider now claim data. We want to plot the total amount of visits related to flu treatment, and their temporal repartition.  \n",
    "\n",
    "Create a `df_cond_fix` DataFrame that contains only information about the previously selected visits.  \n",
    "\n",
    "Tip 1 : Merge the `df_cond` and `df_visit_fix` DataFrames on their common feature *visit_occurrence_id*.\n",
    "\n",
    "Tip 2 : we only need the *visit_start_date* and *visit_occurrence_id* from the `df_visit_fix` DataFrame."
   ]
  },
  {
   "cell_type": "code",
   "execution_count": 30,
   "metadata": {
    "tags": []
   },
   "outputs": [],
   "source": [
    "df_cond_fix = df_condition.merge(df_visit_fix[['visit_occurrence_id', 'visit_start_datetime']], on=\"visit_occurrence_id\", how=\"inner\")"
   ]
  },
  {
   "cell_type": "code",
   "execution_count": 31,
   "metadata": {
    "tags": []
   },
   "outputs": [
    {
     "data": {
      "text/html": [
       "<div>\n",
       "<style scoped>\n",
       "    .dataframe tbody tr th:only-of-type {\n",
       "        vertical-align: middle;\n",
       "    }\n",
       "\n",
       "    .dataframe tbody tr th {\n",
       "        vertical-align: top;\n",
       "    }\n",
       "\n",
       "    .dataframe thead th {\n",
       "        text-align: right;\n",
       "    }\n",
       "</style>\n",
       "<table border=\"1\" class=\"dataframe\">\n",
       "  <thead>\n",
       "    <tr style=\"text-align: right;\">\n",
       "      <th></th>\n",
       "      <th>visit_occurrence_id</th>\n",
       "      <th>person_id</th>\n",
       "      <th>condition_occurrence_id</th>\n",
       "      <th>condition_source_value</th>\n",
       "      <th>visit_start_datetime</th>\n",
       "    </tr>\n",
       "  </thead>\n",
       "  <tbody>\n",
       "    <tr>\n",
       "      <th>0</th>\n",
       "      <td>87039763</td>\n",
       "      <td>85935943</td>\n",
       "      <td>86006023</td>\n",
       "      <td>J10</td>\n",
       "      <td>2024-12-24</td>\n",
       "    </tr>\n",
       "    <tr>\n",
       "      <th>1</th>\n",
       "      <td>83184379</td>\n",
       "      <td>87104656</td>\n",
       "      <td>87765316</td>\n",
       "      <td>J11</td>\n",
       "      <td>2025-09-01</td>\n",
       "    </tr>\n",
       "    <tr>\n",
       "      <th>2</th>\n",
       "      <td>87368296</td>\n",
       "      <td>80785788</td>\n",
       "      <td>89665004</td>\n",
       "      <td>J09</td>\n",
       "      <td>2023-01-08</td>\n",
       "    </tr>\n",
       "    <tr>\n",
       "      <th>3</th>\n",
       "      <td>84290710</td>\n",
       "      <td>82815332</td>\n",
       "      <td>84026043</td>\n",
       "      <td>J10</td>\n",
       "      <td>2024-11-27</td>\n",
       "    </tr>\n",
       "    <tr>\n",
       "      <th>4</th>\n",
       "      <td>87357364</td>\n",
       "      <td>80509718</td>\n",
       "      <td>86346709</td>\n",
       "      <td>J10</td>\n",
       "      <td>2025-07-29</td>\n",
       "    </tr>\n",
       "  </tbody>\n",
       "</table>\n",
       "</div>"
      ],
      "text/plain": [
       "   visit_occurrence_id  person_id  condition_occurrence_id  \\\n",
       "0             87039763   85935943                 86006023   \n",
       "1             83184379   87104656                 87765316   \n",
       "2             87368296   80785788                 89665004   \n",
       "3             84290710   82815332                 84026043   \n",
       "4             87357364   80509718                 86346709   \n",
       "\n",
       "  condition_source_value visit_start_datetime  \n",
       "0                    J10           2024-12-24  \n",
       "1                    J11           2025-09-01  \n",
       "2                    J09           2023-01-08  \n",
       "3                    J10           2024-11-27  \n",
       "4                    J10           2025-07-29  "
      ]
     },
     "execution_count": 31,
     "metadata": {},
     "output_type": "execute_result"
    }
   ],
   "source": [
    "df_cond_fix.head()"
   ]
  },
  {
   "cell_type": "code",
   "execution_count": 32,
   "metadata": {
    "tags": []
   },
   "outputs": [],
   "source": [
    "df_cond_fix[\"visit_start_date\"] = df_cond_fix['visit_start_datetime'].dt.strftime('%Y-%m')"
   ]
  },
  {
   "cell_type": "markdown",
   "metadata": {},
   "source": [
    "Plot the temporal repartition of *visit_occurrence_id* counts for each *condition_source_value*.\n",
    "\n",
    "Tip : you can group the `df_cond_fix` DataFrame by *visit_start_date* and *condition_source_value*, and count the number of *visit_occurrence_id* for each group, using the following command :\n",
    "```python\n",
    " DataFrame.groupby(['key1', 'key2'], as_index=False).visit_occurrence_id.count()\n",
    " ```"
   ]
  },
  {
   "cell_type": "code",
   "execution_count": 33,
   "metadata": {
    "tags": []
   },
   "outputs": [],
   "source": [
    "cond_fix_start_dates_summary = df_cond_fix.groupby([\"condition_source_value\" , \"visit_start_date\"], as_index=False).visit_occurrence_id.count()"
   ]
  },
  {
   "cell_type": "code",
   "execution_count": 34,
   "metadata": {
    "tags": []
   },
   "outputs": [
    {
     "data": {
      "text/html": [
       "<div>\n",
       "<style scoped>\n",
       "    .dataframe tbody tr th:only-of-type {\n",
       "        vertical-align: middle;\n",
       "    }\n",
       "\n",
       "    .dataframe tbody tr th {\n",
       "        vertical-align: top;\n",
       "    }\n",
       "\n",
       "    .dataframe thead th {\n",
       "        text-align: right;\n",
       "    }\n",
       "</style>\n",
       "<table border=\"1\" class=\"dataframe\">\n",
       "  <thead>\n",
       "    <tr style=\"text-align: right;\">\n",
       "      <th></th>\n",
       "      <th>condition_source_value</th>\n",
       "      <th>visit_start_date</th>\n",
       "      <th>visit_occurrence_id</th>\n",
       "    </tr>\n",
       "  </thead>\n",
       "  <tbody>\n",
       "    <tr>\n",
       "      <th>0</th>\n",
       "      <td>B019</td>\n",
       "      <td>2019-12</td>\n",
       "      <td>402</td>\n",
       "    </tr>\n",
       "    <tr>\n",
       "      <th>1</th>\n",
       "      <td>B019</td>\n",
       "      <td>2020-01</td>\n",
       "      <td>384</td>\n",
       "    </tr>\n",
       "    <tr>\n",
       "      <th>2</th>\n",
       "      <td>B019</td>\n",
       "      <td>2020-02</td>\n",
       "      <td>342</td>\n",
       "    </tr>\n",
       "    <tr>\n",
       "      <th>3</th>\n",
       "      <td>B019</td>\n",
       "      <td>2020-03</td>\n",
       "      <td>397</td>\n",
       "    </tr>\n",
       "    <tr>\n",
       "      <th>4</th>\n",
       "      <td>B019</td>\n",
       "      <td>2020-04</td>\n",
       "      <td>375</td>\n",
       "    </tr>\n",
       "  </tbody>\n",
       "</table>\n",
       "</div>"
      ],
      "text/plain": [
       "  condition_source_value visit_start_date  visit_occurrence_id\n",
       "0                   B019          2019-12                  402\n",
       "1                   B019          2020-01                  384\n",
       "2                   B019          2020-02                  342\n",
       "3                   B019          2020-03                  397\n",
       "4                   B019          2020-04                  375"
      ]
     },
     "execution_count": 34,
     "metadata": {},
     "output_type": "execute_result"
    }
   ],
   "source": [
    "cond_fix_start_dates_summary.head()"
   ]
  },
  {
   "cell_type": "code",
   "execution_count": 35,
   "metadata": {
    "tags": []
   },
   "outputs": [
    {
     "data": {
      "text/html": [
       "\n",
       "<div id=\"altair-viz-708bdf1cc43b43479b010effcc87ea45\"></div>\n",
       "<script type=\"text/javascript\">\n",
       "  (function(spec, embedOpt){\n",
       "    let outputDiv = document.currentScript.previousElementSibling;\n",
       "    if (outputDiv.id !== \"altair-viz-708bdf1cc43b43479b010effcc87ea45\") {\n",
       "      outputDiv = document.getElementById(\"altair-viz-708bdf1cc43b43479b010effcc87ea45\");\n",
       "    }\n",
       "    const paths = {\n",
       "      \"vega\": \"https://cdn.jsdelivr.net/npm//vega@5?noext\",\n",
       "      \"vega-lib\": \"https://cdn.jsdelivr.net/npm//vega-lib?noext\",\n",
       "      \"vega-lite\": \"https://cdn.jsdelivr.net/npm//vega-lite@4.8.1?noext\",\n",
       "      \"vega-embed\": \"https://cdn.jsdelivr.net/npm//vega-embed@6?noext\",\n",
       "    };\n",
       "\n",
       "    function loadScript(lib) {\n",
       "      return new Promise(function(resolve, reject) {\n",
       "        var s = document.createElement('script');\n",
       "        s.src = paths[lib];\n",
       "        s.async = true;\n",
       "        s.onload = () => resolve(paths[lib]);\n",
       "        s.onerror = () => reject(`Error loading script: ${paths[lib]}`);\n",
       "        document.getElementsByTagName(\"head\")[0].appendChild(s);\n",
       "      });\n",
       "    }\n",
       "\n",
       "    function showError(err) {\n",
       "      outputDiv.innerHTML = `<div class=\"error\" style=\"color:red;\">${err}</div>`;\n",
       "      throw err;\n",
       "    }\n",
       "\n",
       "    function displayChart(vegaEmbed) {\n",
       "      vegaEmbed(outputDiv, spec, embedOpt)\n",
       "        .catch(err => showError(`Javascript Error: ${err.message}<br>This usually means there's a typo in your chart specification. See the javascript console for the full traceback.`));\n",
       "    }\n",
       "\n",
       "    if(typeof define === \"function\" && define.amd) {\n",
       "      requirejs.config({paths});\n",
       "      require([\"vega-embed\"], displayChart, err => showError(`Error loading script: ${err.message}`));\n",
       "    } else if (typeof vegaEmbed === \"function\") {\n",
       "      displayChart(vegaEmbed);\n",
       "    } else {\n",
       "      loadScript(\"vega\")\n",
       "        .then(() => loadScript(\"vega-lite\"))\n",
       "        .then(() => loadScript(\"vega-embed\"))\n",
       "        .catch(showError)\n",
       "        .then(() => displayChart(vegaEmbed));\n",
       "    }\n",
       "  })({\"config\": {\"view\": {\"continuousWidth\": 400, \"continuousHeight\": 300}}, \"data\": {\"name\": \"data-9fb7b3fec9eea984d0e110563de3cf76\"}, \"mark\": \"line\", \"encoding\": {\"color\": {\"type\": \"nominal\", \"field\": \"condition_source_value\"}, \"x\": {\"type\": \"temporal\", \"field\": \"visit_start_date\"}, \"y\": {\"type\": \"quantitative\", \"field\": \"visit_occurrence_id\"}}, \"$schema\": \"https://vega.github.io/schema/vega-lite/v4.8.1.json\", \"datasets\": {\"data-9fb7b3fec9eea984d0e110563de3cf76\": [{\"condition_source_value\": \"B019\", \"visit_start_date\": \"2019-12\", \"visit_occurrence_id\": 402}, {\"condition_source_value\": \"B019\", \"visit_start_date\": \"2020-01\", \"visit_occurrence_id\": 384}, {\"condition_source_value\": \"B019\", \"visit_start_date\": \"2020-02\", \"visit_occurrence_id\": 342}, {\"condition_source_value\": \"B019\", \"visit_start_date\": \"2020-03\", \"visit_occurrence_id\": 397}, {\"condition_source_value\": \"B019\", \"visit_start_date\": \"2020-04\", \"visit_occurrence_id\": 375}, {\"condition_source_value\": \"B019\", \"visit_start_date\": \"2020-05\", \"visit_occurrence_id\": 404}, {\"condition_source_value\": \"B019\", \"visit_start_date\": \"2020-06\", \"visit_occurrence_id\": 386}, {\"condition_source_value\": \"B019\", \"visit_start_date\": \"2020-07\", \"visit_occurrence_id\": 377}, {\"condition_source_value\": \"B019\", \"visit_start_date\": \"2020-08\", \"visit_occurrence_id\": 408}, {\"condition_source_value\": \"B019\", \"visit_start_date\": \"2020-09\", \"visit_occurrence_id\": 373}, {\"condition_source_value\": \"B019\", \"visit_start_date\": \"2020-10\", \"visit_occurrence_id\": 407}, {\"condition_source_value\": \"B019\", \"visit_start_date\": \"2020-11\", \"visit_occurrence_id\": 398}, {\"condition_source_value\": \"B019\", \"visit_start_date\": \"2020-12\", \"visit_occurrence_id\": 376}, {\"condition_source_value\": \"B019\", \"visit_start_date\": \"2021-01\", \"visit_occurrence_id\": 411}, {\"condition_source_value\": \"B019\", \"visit_start_date\": \"2021-02\", \"visit_occurrence_id\": 363}, {\"condition_source_value\": \"B019\", \"visit_start_date\": \"2021-03\", \"visit_occurrence_id\": 389}, {\"condition_source_value\": \"B019\", \"visit_start_date\": \"2021-04\", \"visit_occurrence_id\": 370}, {\"condition_source_value\": \"B019\", \"visit_start_date\": \"2021-05\", \"visit_occurrence_id\": 427}, {\"condition_source_value\": \"B019\", \"visit_start_date\": \"2021-06\", \"visit_occurrence_id\": 381}, {\"condition_source_value\": \"B019\", \"visit_start_date\": \"2021-07\", \"visit_occurrence_id\": 421}, {\"condition_source_value\": \"B019\", \"visit_start_date\": \"2021-08\", \"visit_occurrence_id\": 394}, {\"condition_source_value\": \"B019\", \"visit_start_date\": \"2021-09\", \"visit_occurrence_id\": 398}, {\"condition_source_value\": \"B019\", \"visit_start_date\": \"2021-10\", \"visit_occurrence_id\": 438}, {\"condition_source_value\": \"B019\", \"visit_start_date\": \"2021-11\", \"visit_occurrence_id\": 395}, {\"condition_source_value\": \"B019\", \"visit_start_date\": \"2021-12\", \"visit_occurrence_id\": 403}, {\"condition_source_value\": \"B019\", \"visit_start_date\": \"2022-01\", \"visit_occurrence_id\": 381}, {\"condition_source_value\": \"B019\", \"visit_start_date\": \"2022-02\", \"visit_occurrence_id\": 376}, {\"condition_source_value\": \"B019\", \"visit_start_date\": \"2022-03\", \"visit_occurrence_id\": 389}, {\"condition_source_value\": \"B019\", \"visit_start_date\": \"2022-04\", \"visit_occurrence_id\": 343}, {\"condition_source_value\": \"B019\", \"visit_start_date\": \"2022-05\", \"visit_occurrence_id\": 431}, {\"condition_source_value\": \"B019\", \"visit_start_date\": \"2022-06\", \"visit_occurrence_id\": 372}, {\"condition_source_value\": \"B019\", \"visit_start_date\": \"2022-07\", \"visit_occurrence_id\": 390}, {\"condition_source_value\": \"B019\", \"visit_start_date\": \"2022-08\", \"visit_occurrence_id\": 415}, {\"condition_source_value\": \"B019\", \"visit_start_date\": \"2022-09\", \"visit_occurrence_id\": 418}, {\"condition_source_value\": \"B019\", \"visit_start_date\": \"2022-10\", \"visit_occurrence_id\": 383}, {\"condition_source_value\": \"B019\", \"visit_start_date\": \"2022-11\", \"visit_occurrence_id\": 330}, {\"condition_source_value\": \"B019\", \"visit_start_date\": \"2022-12\", \"visit_occurrence_id\": 397}, {\"condition_source_value\": \"B019\", \"visit_start_date\": \"2023-01\", \"visit_occurrence_id\": 408}, {\"condition_source_value\": \"B019\", \"visit_start_date\": \"2023-02\", \"visit_occurrence_id\": 343}, {\"condition_source_value\": \"B019\", \"visit_start_date\": \"2023-03\", \"visit_occurrence_id\": 362}, {\"condition_source_value\": \"B019\", \"visit_start_date\": \"2023-04\", \"visit_occurrence_id\": 396}, {\"condition_source_value\": \"B019\", \"visit_start_date\": \"2023-05\", \"visit_occurrence_id\": 453}, {\"condition_source_value\": \"B019\", \"visit_start_date\": \"2023-06\", \"visit_occurrence_id\": 407}, {\"condition_source_value\": \"B019\", \"visit_start_date\": \"2023-07\", \"visit_occurrence_id\": 436}, {\"condition_source_value\": \"B019\", \"visit_start_date\": \"2023-08\", \"visit_occurrence_id\": 428}, {\"condition_source_value\": \"B019\", \"visit_start_date\": \"2023-09\", \"visit_occurrence_id\": 403}, {\"condition_source_value\": \"B019\", \"visit_start_date\": \"2023-10\", \"visit_occurrence_id\": 409}, {\"condition_source_value\": \"B019\", \"visit_start_date\": \"2023-11\", \"visit_occurrence_id\": 403}, {\"condition_source_value\": \"B019\", \"visit_start_date\": \"2023-12\", \"visit_occurrence_id\": 366}, {\"condition_source_value\": \"B019\", \"visit_start_date\": \"2024-01\", \"visit_occurrence_id\": 390}, {\"condition_source_value\": \"B019\", \"visit_start_date\": \"2024-02\", \"visit_occurrence_id\": 379}, {\"condition_source_value\": \"B019\", \"visit_start_date\": \"2024-03\", \"visit_occurrence_id\": 400}, {\"condition_source_value\": \"B019\", \"visit_start_date\": \"2024-04\", \"visit_occurrence_id\": 403}, {\"condition_source_value\": \"B019\", \"visit_start_date\": \"2024-05\", \"visit_occurrence_id\": 431}, {\"condition_source_value\": \"B019\", \"visit_start_date\": \"2024-06\", \"visit_occurrence_id\": 390}, {\"condition_source_value\": \"B019\", \"visit_start_date\": \"2024-07\", \"visit_occurrence_id\": 384}, {\"condition_source_value\": \"B019\", \"visit_start_date\": \"2024-08\", \"visit_occurrence_id\": 402}, {\"condition_source_value\": \"B019\", \"visit_start_date\": \"2024-09\", \"visit_occurrence_id\": 366}, {\"condition_source_value\": \"B019\", \"visit_start_date\": \"2024-10\", \"visit_occurrence_id\": 383}, {\"condition_source_value\": \"B019\", \"visit_start_date\": \"2024-11\", \"visit_occurrence_id\": 12}, {\"condition_source_value\": \"J09\", \"visit_start_date\": \"2019-12\", \"visit_occurrence_id\": 27}, {\"condition_source_value\": \"J09\", \"visit_start_date\": \"2020-01\", \"visit_occurrence_id\": 22}, {\"condition_source_value\": \"J09\", \"visit_start_date\": \"2020-02\", \"visit_occurrence_id\": 15}, {\"condition_source_value\": \"J09\", \"visit_start_date\": \"2020-03\", \"visit_occurrence_id\": 33}, {\"condition_source_value\": \"J09\", \"visit_start_date\": \"2020-04\", \"visit_occurrence_id\": 27}, {\"condition_source_value\": \"J09\", \"visit_start_date\": \"2020-05\", \"visit_occurrence_id\": 36}, {\"condition_source_value\": \"J09\", \"visit_start_date\": \"2020-06\", \"visit_occurrence_id\": 36}, {\"condition_source_value\": \"J09\", \"visit_start_date\": \"2020-07\", \"visit_occurrence_id\": 42}, {\"condition_source_value\": \"J09\", \"visit_start_date\": \"2020-08\", \"visit_occurrence_id\": 38}, {\"condition_source_value\": \"J09\", \"visit_start_date\": \"2020-09\", \"visit_occurrence_id\": 32}, {\"condition_source_value\": \"J09\", \"visit_start_date\": \"2020-10\", \"visit_occurrence_id\": 50}, {\"condition_source_value\": \"J09\", \"visit_start_date\": \"2020-11\", \"visit_occurrence_id\": 46}, {\"condition_source_value\": \"J09\", \"visit_start_date\": \"2020-12\", \"visit_occurrence_id\": 45}, {\"condition_source_value\": \"J09\", \"visit_start_date\": \"2021-01\", \"visit_occurrence_id\": 56}, {\"condition_source_value\": \"J09\", \"visit_start_date\": \"2021-02\", \"visit_occurrence_id\": 47}, {\"condition_source_value\": \"J09\", \"visit_start_date\": \"2021-03\", \"visit_occurrence_id\": 38}, {\"condition_source_value\": \"J09\", \"visit_start_date\": \"2021-04\", \"visit_occurrence_id\": 53}, {\"condition_source_value\": \"J09\", \"visit_start_date\": \"2021-05\", \"visit_occurrence_id\": 61}, {\"condition_source_value\": \"J09\", \"visit_start_date\": \"2021-06\", \"visit_occurrence_id\": 71}, {\"condition_source_value\": \"J09\", \"visit_start_date\": \"2021-07\", \"visit_occurrence_id\": 83}, {\"condition_source_value\": \"J09\", \"visit_start_date\": \"2021-08\", \"visit_occurrence_id\": 64}, {\"condition_source_value\": \"J09\", \"visit_start_date\": \"2021-09\", \"visit_occurrence_id\": 89}, {\"condition_source_value\": \"J09\", \"visit_start_date\": \"2021-10\", \"visit_occurrence_id\": 94}, {\"condition_source_value\": \"J09\", \"visit_start_date\": \"2021-11\", \"visit_occurrence_id\": 83}, {\"condition_source_value\": \"J09\", \"visit_start_date\": \"2021-12\", \"visit_occurrence_id\": 109}, {\"condition_source_value\": \"J09\", \"visit_start_date\": \"2022-01\", \"visit_occurrence_id\": 113}, {\"condition_source_value\": \"J09\", \"visit_start_date\": \"2022-02\", \"visit_occurrence_id\": 91}, {\"condition_source_value\": \"J09\", \"visit_start_date\": \"2022-03\", \"visit_occurrence_id\": 100}, {\"condition_source_value\": \"J09\", \"visit_start_date\": \"2022-04\", \"visit_occurrence_id\": 105}, {\"condition_source_value\": \"J09\", \"visit_start_date\": \"2022-05\", \"visit_occurrence_id\": 133}, {\"condition_source_value\": \"J09\", \"visit_start_date\": \"2022-06\", \"visit_occurrence_id\": 145}, {\"condition_source_value\": \"J09\", \"visit_start_date\": \"2022-07\", \"visit_occurrence_id\": 169}, {\"condition_source_value\": \"J09\", \"visit_start_date\": \"2022-08\", \"visit_occurrence_id\": 147}, {\"condition_source_value\": \"J09\", \"visit_start_date\": \"2022-09\", \"visit_occurrence_id\": 155}, {\"condition_source_value\": \"J09\", \"visit_start_date\": \"2022-10\", \"visit_occurrence_id\": 168}, {\"condition_source_value\": \"J09\", \"visit_start_date\": \"2022-11\", \"visit_occurrence_id\": 157}, {\"condition_source_value\": \"J09\", \"visit_start_date\": \"2022-12\", \"visit_occurrence_id\": 218}, {\"condition_source_value\": \"J09\", \"visit_start_date\": \"2023-01\", \"visit_occurrence_id\": 244}, {\"condition_source_value\": \"J09\", \"visit_start_date\": \"2023-02\", \"visit_occurrence_id\": 203}, {\"condition_source_value\": \"J09\", \"visit_start_date\": \"2023-03\", \"visit_occurrence_id\": 263}, {\"condition_source_value\": \"J09\", \"visit_start_date\": \"2023-04\", \"visit_occurrence_id\": 258}, {\"condition_source_value\": \"J09\", \"visit_start_date\": \"2023-05\", \"visit_occurrence_id\": 266}, {\"condition_source_value\": \"J09\", \"visit_start_date\": \"2023-06\", \"visit_occurrence_id\": 262}, {\"condition_source_value\": \"J09\", \"visit_start_date\": \"2023-07\", \"visit_occurrence_id\": 327}, {\"condition_source_value\": \"J09\", \"visit_start_date\": \"2023-08\", \"visit_occurrence_id\": 366}, {\"condition_source_value\": \"J09\", \"visit_start_date\": \"2023-09\", \"visit_occurrence_id\": 341}, {\"condition_source_value\": \"J09\", \"visit_start_date\": \"2023-10\", \"visit_occurrence_id\": 400}, {\"condition_source_value\": \"J09\", \"visit_start_date\": \"2023-11\", \"visit_occurrence_id\": 351}, {\"condition_source_value\": \"J09\", \"visit_start_date\": \"2023-12\", \"visit_occurrence_id\": 415}, {\"condition_source_value\": \"J09\", \"visit_start_date\": \"2024-01\", \"visit_occurrence_id\": 450}, {\"condition_source_value\": \"J09\", \"visit_start_date\": \"2024-02\", \"visit_occurrence_id\": 453}, {\"condition_source_value\": \"J09\", \"visit_start_date\": \"2024-03\", \"visit_occurrence_id\": 483}, {\"condition_source_value\": \"J09\", \"visit_start_date\": \"2024-04\", \"visit_occurrence_id\": 503}, {\"condition_source_value\": \"J09\", \"visit_start_date\": \"2024-05\", \"visit_occurrence_id\": 571}, {\"condition_source_value\": \"J09\", \"visit_start_date\": \"2024-06\", \"visit_occurrence_id\": 579}, {\"condition_source_value\": \"J09\", \"visit_start_date\": \"2024-07\", \"visit_occurrence_id\": 676}, {\"condition_source_value\": \"J09\", \"visit_start_date\": \"2024-08\", \"visit_occurrence_id\": 677}, {\"condition_source_value\": \"J09\", \"visit_start_date\": \"2024-09\", \"visit_occurrence_id\": 686}, {\"condition_source_value\": \"J09\", \"visit_start_date\": \"2024-10\", \"visit_occurrence_id\": 811}, {\"condition_source_value\": \"J09\", \"visit_start_date\": \"2024-11\", \"visit_occurrence_id\": 21}, {\"condition_source_value\": \"J10\", \"visit_start_date\": \"2024-11\", \"visit_occurrence_id\": 817}, {\"condition_source_value\": \"J10\", \"visit_start_date\": \"2024-12\", \"visit_occurrence_id\": 870}, {\"condition_source_value\": \"J10\", \"visit_start_date\": \"2025-01\", \"visit_occurrence_id\": 950}, {\"condition_source_value\": \"J10\", \"visit_start_date\": \"2025-02\", \"visit_occurrence_id\": 893}, {\"condition_source_value\": \"J10\", \"visit_start_date\": \"2025-03\", \"visit_occurrence_id\": 1098}, {\"condition_source_value\": \"J10\", \"visit_start_date\": \"2025-04\", \"visit_occurrence_id\": 1104}, {\"condition_source_value\": \"J10\", \"visit_start_date\": \"2025-05\", \"visit_occurrence_id\": 1162}, {\"condition_source_value\": \"J10\", \"visit_start_date\": \"2025-06\", \"visit_occurrence_id\": 1177}, {\"condition_source_value\": \"J10\", \"visit_start_date\": \"2025-07\", \"visit_occurrence_id\": 1320}, {\"condition_source_value\": \"J10\", \"visit_start_date\": \"2025-08\", \"visit_occurrence_id\": 46}, {\"condition_source_value\": \"J11\", \"visit_start_date\": \"2025-02\", \"visit_occurrence_id\": 1}, {\"condition_source_value\": \"J11\", \"visit_start_date\": \"2025-04\", \"visit_occurrence_id\": 2}, {\"condition_source_value\": \"J11\", \"visit_start_date\": \"2025-05\", \"visit_occurrence_id\": 3}, {\"condition_source_value\": \"J11\", \"visit_start_date\": \"2025-06\", \"visit_occurrence_id\": 5}, {\"condition_source_value\": \"J11\", \"visit_start_date\": \"2025-07\", \"visit_occurrence_id\": 4}, {\"condition_source_value\": \"J11\", \"visit_start_date\": \"2025-08\", \"visit_occurrence_id\": 1373}, {\"condition_source_value\": \"J11\", \"visit_start_date\": \"2025-09\", \"visit_occurrence_id\": 1481}, {\"condition_source_value\": \"J11\", \"visit_start_date\": \"2025-10\", \"visit_occurrence_id\": 1593}, {\"condition_source_value\": \"J11\", \"visit_start_date\": \"2025-11\", \"visit_occurrence_id\": 1695}, {\"condition_source_value\": \"U0715\", \"visit_start_date\": \"2025-03\", \"visit_occurrence_id\": 1}, {\"condition_source_value\": \"U0715\", \"visit_start_date\": \"2025-04\", \"visit_occurrence_id\": 1}, {\"condition_source_value\": \"U0715\", \"visit_start_date\": \"2025-06\", \"visit_occurrence_id\": 2}, {\"condition_source_value\": \"U0715\", \"visit_start_date\": \"2025-07\", \"visit_occurrence_id\": 2}, {\"condition_source_value\": \"U0715\", \"visit_start_date\": \"2025-08\", \"visit_occurrence_id\": 408}, {\"condition_source_value\": \"U0715\", \"visit_start_date\": \"2025-09\", \"visit_occurrence_id\": 377}, {\"condition_source_value\": \"U0715\", \"visit_start_date\": \"2025-10\", \"visit_occurrence_id\": 400}, {\"condition_source_value\": \"U0715\", \"visit_start_date\": \"2025-11\", \"visit_occurrence_id\": 372}, {\"condition_source_value\": \"V9544\", \"visit_start_date\": \"2024-11\", \"visit_occurrence_id\": 358}, {\"condition_source_value\": \"V9544\", \"visit_start_date\": \"2024-12\", \"visit_occurrence_id\": 388}, {\"condition_source_value\": \"V9544\", \"visit_start_date\": \"2025-01\", \"visit_occurrence_id\": 394}, {\"condition_source_value\": \"V9544\", \"visit_start_date\": \"2025-02\", \"visit_occurrence_id\": 373}, {\"condition_source_value\": \"V9544\", \"visit_start_date\": \"2025-03\", \"visit_occurrence_id\": 394}, {\"condition_source_value\": \"V9544\", \"visit_start_date\": \"2025-04\", \"visit_occurrence_id\": 388}, {\"condition_source_value\": \"V9544\", \"visit_start_date\": \"2025-05\", \"visit_occurrence_id\": 395}, {\"condition_source_value\": \"V9544\", \"visit_start_date\": \"2025-06\", \"visit_occurrence_id\": 347}, {\"condition_source_value\": \"V9544\", \"visit_start_date\": \"2025-07\", \"visit_occurrence_id\": 395}, {\"condition_source_value\": \"V9544\", \"visit_start_date\": \"2025-08\", \"visit_occurrence_id\": 16}]}}, {\"mode\": \"vega-lite\"});\n",
       "</script>"
      ],
      "text/plain": [
       "alt.Chart(...)"
      ]
     },
     "execution_count": 35,
     "metadata": {},
     "output_type": "execute_result"
    }
   ],
   "source": [
    "alt.Chart(cond_fix_start_dates_summary).mark_line().encode(\n",
    "    x='visit_start_date:T',\n",
    "    y='visit_occurrence_id:Q',\n",
    "    color=\"condition_source_value:N\"\n",
    ")"
   ]
  },
  {
   "cell_type": "markdown",
   "metadata": {},
   "source": [
    "What do you observe ?"
   ]
  },
  {
   "cell_type": "markdown",
   "metadata": {},
   "source": [
    "**Correction** :  \n",
    "We observe that the proportion of each code for flu varies with time. Indeed, the coding activity may evolve for numerous reasons (variations in coding guidelines, in reimbursement policies, etc.). Therefore, in addtion to filtering the code associatied with the flu, it appears necessary to define a higher level variable that aggregates all the codes of interest."
   ]
  },
  {
   "cell_type": "markdown",
   "metadata": {},
   "source": [
    "Create an `is_epidemic` column in the `df_cond_fix` DataFrame to detect conditions linked to the flu epidemic, using it associated codes (J09, J10, J11).\n",
    "\n",
    "Tip 1 : Create a `list_epidemic_icd10` gathering the epidemic codes.  \n",
    "TIP 2: You can use the `df_cond_fix.condition_source_value.apply()` function, and detect if each element of the column is in the `list_epidemic_icd10`. The argument can be a function of type :\n",
    "``` python\n",
    "lambda x: treatment(x)\n",
    "```"
   ]
  },
  {
   "cell_type": "code",
   "execution_count": 36,
   "metadata": {
    "tags": []
   },
   "outputs": [],
   "source": [
    "list_epidemic_icd10 = ['J09', 'J10', 'J11']"
   ]
  },
  {
   "cell_type": "code",
   "execution_count": 37,
   "metadata": {
    "tags": []
   },
   "outputs": [],
   "source": [
    "df_cond_fix[\"is_epidemic\"] = df_cond_fix.condition_source_value.apply(lambda cond: cond in list_epidemic_icd10)"
   ]
  },
  {
   "cell_type": "markdown",
   "metadata": {},
   "source": [
    "Create a `epidemic_cond_summary` DataFrame gathering the number of epidemic vs non-epidemic visits by `condition_start_date`."
   ]
  },
  {
   "cell_type": "code",
   "execution_count": 38,
   "metadata": {
    "tags": []
   },
   "outputs": [],
   "source": [
    "epidemic_cond_summary = df_cond_fix.groupby([\"is_epidemic\" , \"visit_start_date\"], as_index=False).visit_occurrence_id.count()"
   ]
  },
  {
   "cell_type": "code",
   "execution_count": 39,
   "metadata": {
    "tags": []
   },
   "outputs": [
    {
     "data": {
      "text/html": [
       "<div>\n",
       "<style scoped>\n",
       "    .dataframe tbody tr th:only-of-type {\n",
       "        vertical-align: middle;\n",
       "    }\n",
       "\n",
       "    .dataframe tbody tr th {\n",
       "        vertical-align: top;\n",
       "    }\n",
       "\n",
       "    .dataframe thead th {\n",
       "        text-align: right;\n",
       "    }\n",
       "</style>\n",
       "<table border=\"1\" class=\"dataframe\">\n",
       "  <thead>\n",
       "    <tr style=\"text-align: right;\">\n",
       "      <th></th>\n",
       "      <th>is_epidemic</th>\n",
       "      <th>visit_start_date</th>\n",
       "      <th>visit_occurrence_id</th>\n",
       "    </tr>\n",
       "  </thead>\n",
       "  <tbody>\n",
       "    <tr>\n",
       "      <th>0</th>\n",
       "      <td>False</td>\n",
       "      <td>2019-12</td>\n",
       "      <td>402</td>\n",
       "    </tr>\n",
       "    <tr>\n",
       "      <th>1</th>\n",
       "      <td>False</td>\n",
       "      <td>2020-01</td>\n",
       "      <td>384</td>\n",
       "    </tr>\n",
       "    <tr>\n",
       "      <th>2</th>\n",
       "      <td>False</td>\n",
       "      <td>2020-02</td>\n",
       "      <td>342</td>\n",
       "    </tr>\n",
       "    <tr>\n",
       "      <th>3</th>\n",
       "      <td>False</td>\n",
       "      <td>2020-03</td>\n",
       "      <td>397</td>\n",
       "    </tr>\n",
       "    <tr>\n",
       "      <th>4</th>\n",
       "      <td>False</td>\n",
       "      <td>2020-04</td>\n",
       "      <td>375</td>\n",
       "    </tr>\n",
       "  </tbody>\n",
       "</table>\n",
       "</div>"
      ],
      "text/plain": [
       "   is_epidemic visit_start_date  visit_occurrence_id\n",
       "0        False          2019-12                  402\n",
       "1        False          2020-01                  384\n",
       "2        False          2020-02                  342\n",
       "3        False          2020-03                  397\n",
       "4        False          2020-04                  375"
      ]
     },
     "execution_count": 39,
     "metadata": {},
     "output_type": "execute_result"
    }
   ],
   "source": [
    "epidemic_cond_summary.head()"
   ]
  },
  {
   "cell_type": "markdown",
   "metadata": {},
   "source": [
    "Plot the temporal repartition of epidemic visits compared to non-epidemic visits."
   ]
  },
  {
   "cell_type": "code",
   "execution_count": 40,
   "metadata": {
    "tags": []
   },
   "outputs": [
    {
     "data": {
      "text/html": [
       "\n",
       "<div id=\"altair-viz-5963d4f5ae86419b89bc86600bfa8775\"></div>\n",
       "<script type=\"text/javascript\">\n",
       "  (function(spec, embedOpt){\n",
       "    let outputDiv = document.currentScript.previousElementSibling;\n",
       "    if (outputDiv.id !== \"altair-viz-5963d4f5ae86419b89bc86600bfa8775\") {\n",
       "      outputDiv = document.getElementById(\"altair-viz-5963d4f5ae86419b89bc86600bfa8775\");\n",
       "    }\n",
       "    const paths = {\n",
       "      \"vega\": \"https://cdn.jsdelivr.net/npm//vega@5?noext\",\n",
       "      \"vega-lib\": \"https://cdn.jsdelivr.net/npm//vega-lib?noext\",\n",
       "      \"vega-lite\": \"https://cdn.jsdelivr.net/npm//vega-lite@4.8.1?noext\",\n",
       "      \"vega-embed\": \"https://cdn.jsdelivr.net/npm//vega-embed@6?noext\",\n",
       "    };\n",
       "\n",
       "    function loadScript(lib) {\n",
       "      return new Promise(function(resolve, reject) {\n",
       "        var s = document.createElement('script');\n",
       "        s.src = paths[lib];\n",
       "        s.async = true;\n",
       "        s.onload = () => resolve(paths[lib]);\n",
       "        s.onerror = () => reject(`Error loading script: ${paths[lib]}`);\n",
       "        document.getElementsByTagName(\"head\")[0].appendChild(s);\n",
       "      });\n",
       "    }\n",
       "\n",
       "    function showError(err) {\n",
       "      outputDiv.innerHTML = `<div class=\"error\" style=\"color:red;\">${err}</div>`;\n",
       "      throw err;\n",
       "    }\n",
       "\n",
       "    function displayChart(vegaEmbed) {\n",
       "      vegaEmbed(outputDiv, spec, embedOpt)\n",
       "        .catch(err => showError(`Javascript Error: ${err.message}<br>This usually means there's a typo in your chart specification. See the javascript console for the full traceback.`));\n",
       "    }\n",
       "\n",
       "    if(typeof define === \"function\" && define.amd) {\n",
       "      requirejs.config({paths});\n",
       "      require([\"vega-embed\"], displayChart, err => showError(`Error loading script: ${err.message}`));\n",
       "    } else if (typeof vegaEmbed === \"function\") {\n",
       "      displayChart(vegaEmbed);\n",
       "    } else {\n",
       "      loadScript(\"vega\")\n",
       "        .then(() => loadScript(\"vega-lite\"))\n",
       "        .then(() => loadScript(\"vega-embed\"))\n",
       "        .catch(showError)\n",
       "        .then(() => displayChart(vegaEmbed));\n",
       "    }\n",
       "  })({\"config\": {\"view\": {\"continuousWidth\": 400, \"continuousHeight\": 300}}, \"data\": {\"name\": \"data-90ca42f65620e63e4ab3720a480545dc\"}, \"mark\": \"line\", \"encoding\": {\"color\": {\"type\": \"nominal\", \"field\": \"is_epidemic\"}, \"x\": {\"type\": \"temporal\", \"field\": \"visit_start_date\"}, \"y\": {\"type\": \"quantitative\", \"field\": \"visit_occurrence_id\"}}, \"$schema\": \"https://vega.github.io/schema/vega-lite/v4.8.1.json\", \"datasets\": {\"data-90ca42f65620e63e4ab3720a480545dc\": [{\"is_epidemic\": false, \"visit_start_date\": \"2019-12\", \"visit_occurrence_id\": 402}, {\"is_epidemic\": false, \"visit_start_date\": \"2020-01\", \"visit_occurrence_id\": 384}, {\"is_epidemic\": false, \"visit_start_date\": \"2020-02\", \"visit_occurrence_id\": 342}, {\"is_epidemic\": false, \"visit_start_date\": \"2020-03\", \"visit_occurrence_id\": 397}, {\"is_epidemic\": false, \"visit_start_date\": \"2020-04\", \"visit_occurrence_id\": 375}, {\"is_epidemic\": false, \"visit_start_date\": \"2020-05\", \"visit_occurrence_id\": 404}, {\"is_epidemic\": false, \"visit_start_date\": \"2020-06\", \"visit_occurrence_id\": 386}, {\"is_epidemic\": false, \"visit_start_date\": \"2020-07\", \"visit_occurrence_id\": 377}, {\"is_epidemic\": false, \"visit_start_date\": \"2020-08\", \"visit_occurrence_id\": 408}, {\"is_epidemic\": false, \"visit_start_date\": \"2020-09\", \"visit_occurrence_id\": 373}, {\"is_epidemic\": false, \"visit_start_date\": \"2020-10\", \"visit_occurrence_id\": 407}, {\"is_epidemic\": false, \"visit_start_date\": \"2020-11\", \"visit_occurrence_id\": 398}, {\"is_epidemic\": false, \"visit_start_date\": \"2020-12\", \"visit_occurrence_id\": 376}, {\"is_epidemic\": false, \"visit_start_date\": \"2021-01\", \"visit_occurrence_id\": 411}, {\"is_epidemic\": false, \"visit_start_date\": \"2021-02\", \"visit_occurrence_id\": 363}, {\"is_epidemic\": false, \"visit_start_date\": \"2021-03\", \"visit_occurrence_id\": 389}, {\"is_epidemic\": false, \"visit_start_date\": \"2021-04\", \"visit_occurrence_id\": 370}, {\"is_epidemic\": false, \"visit_start_date\": \"2021-05\", \"visit_occurrence_id\": 427}, {\"is_epidemic\": false, \"visit_start_date\": \"2021-06\", \"visit_occurrence_id\": 381}, {\"is_epidemic\": false, \"visit_start_date\": \"2021-07\", \"visit_occurrence_id\": 421}, {\"is_epidemic\": false, \"visit_start_date\": \"2021-08\", \"visit_occurrence_id\": 394}, {\"is_epidemic\": false, \"visit_start_date\": \"2021-09\", \"visit_occurrence_id\": 398}, {\"is_epidemic\": false, \"visit_start_date\": \"2021-10\", \"visit_occurrence_id\": 438}, {\"is_epidemic\": false, \"visit_start_date\": \"2021-11\", \"visit_occurrence_id\": 395}, {\"is_epidemic\": false, \"visit_start_date\": \"2021-12\", \"visit_occurrence_id\": 403}, {\"is_epidemic\": false, \"visit_start_date\": \"2022-01\", \"visit_occurrence_id\": 381}, {\"is_epidemic\": false, \"visit_start_date\": \"2022-02\", \"visit_occurrence_id\": 376}, {\"is_epidemic\": false, \"visit_start_date\": \"2022-03\", \"visit_occurrence_id\": 389}, {\"is_epidemic\": false, \"visit_start_date\": \"2022-04\", \"visit_occurrence_id\": 343}, {\"is_epidemic\": false, \"visit_start_date\": \"2022-05\", \"visit_occurrence_id\": 431}, {\"is_epidemic\": false, \"visit_start_date\": \"2022-06\", \"visit_occurrence_id\": 372}, {\"is_epidemic\": false, \"visit_start_date\": \"2022-07\", \"visit_occurrence_id\": 390}, {\"is_epidemic\": false, \"visit_start_date\": \"2022-08\", \"visit_occurrence_id\": 415}, {\"is_epidemic\": false, \"visit_start_date\": \"2022-09\", \"visit_occurrence_id\": 418}, {\"is_epidemic\": false, \"visit_start_date\": \"2022-10\", \"visit_occurrence_id\": 383}, {\"is_epidemic\": false, \"visit_start_date\": \"2022-11\", \"visit_occurrence_id\": 330}, {\"is_epidemic\": false, \"visit_start_date\": \"2022-12\", \"visit_occurrence_id\": 397}, {\"is_epidemic\": false, \"visit_start_date\": \"2023-01\", \"visit_occurrence_id\": 408}, {\"is_epidemic\": false, \"visit_start_date\": \"2023-02\", \"visit_occurrence_id\": 343}, {\"is_epidemic\": false, \"visit_start_date\": \"2023-03\", \"visit_occurrence_id\": 362}, {\"is_epidemic\": false, \"visit_start_date\": \"2023-04\", \"visit_occurrence_id\": 396}, {\"is_epidemic\": false, \"visit_start_date\": \"2023-05\", \"visit_occurrence_id\": 453}, {\"is_epidemic\": false, \"visit_start_date\": \"2023-06\", \"visit_occurrence_id\": 407}, {\"is_epidemic\": false, \"visit_start_date\": \"2023-07\", \"visit_occurrence_id\": 436}, {\"is_epidemic\": false, \"visit_start_date\": \"2023-08\", \"visit_occurrence_id\": 428}, {\"is_epidemic\": false, \"visit_start_date\": \"2023-09\", \"visit_occurrence_id\": 403}, {\"is_epidemic\": false, \"visit_start_date\": \"2023-10\", \"visit_occurrence_id\": 409}, {\"is_epidemic\": false, \"visit_start_date\": \"2023-11\", \"visit_occurrence_id\": 403}, {\"is_epidemic\": false, \"visit_start_date\": \"2023-12\", \"visit_occurrence_id\": 366}, {\"is_epidemic\": false, \"visit_start_date\": \"2024-01\", \"visit_occurrence_id\": 390}, {\"is_epidemic\": false, \"visit_start_date\": \"2024-02\", \"visit_occurrence_id\": 379}, {\"is_epidemic\": false, \"visit_start_date\": \"2024-03\", \"visit_occurrence_id\": 400}, {\"is_epidemic\": false, \"visit_start_date\": \"2024-04\", \"visit_occurrence_id\": 403}, {\"is_epidemic\": false, \"visit_start_date\": \"2024-05\", \"visit_occurrence_id\": 431}, {\"is_epidemic\": false, \"visit_start_date\": \"2024-06\", \"visit_occurrence_id\": 390}, {\"is_epidemic\": false, \"visit_start_date\": \"2024-07\", \"visit_occurrence_id\": 384}, {\"is_epidemic\": false, \"visit_start_date\": \"2024-08\", \"visit_occurrence_id\": 402}, {\"is_epidemic\": false, \"visit_start_date\": \"2024-09\", \"visit_occurrence_id\": 366}, {\"is_epidemic\": false, \"visit_start_date\": \"2024-10\", \"visit_occurrence_id\": 383}, {\"is_epidemic\": false, \"visit_start_date\": \"2024-11\", \"visit_occurrence_id\": 370}, {\"is_epidemic\": false, \"visit_start_date\": \"2024-12\", \"visit_occurrence_id\": 388}, {\"is_epidemic\": false, \"visit_start_date\": \"2025-01\", \"visit_occurrence_id\": 394}, {\"is_epidemic\": false, \"visit_start_date\": \"2025-02\", \"visit_occurrence_id\": 373}, {\"is_epidemic\": false, \"visit_start_date\": \"2025-03\", \"visit_occurrence_id\": 395}, {\"is_epidemic\": false, \"visit_start_date\": \"2025-04\", \"visit_occurrence_id\": 389}, {\"is_epidemic\": false, \"visit_start_date\": \"2025-05\", \"visit_occurrence_id\": 395}, {\"is_epidemic\": false, \"visit_start_date\": \"2025-06\", \"visit_occurrence_id\": 349}, {\"is_epidemic\": false, \"visit_start_date\": \"2025-07\", \"visit_occurrence_id\": 397}, {\"is_epidemic\": false, \"visit_start_date\": \"2025-08\", \"visit_occurrence_id\": 424}, {\"is_epidemic\": false, \"visit_start_date\": \"2025-09\", \"visit_occurrence_id\": 377}, {\"is_epidemic\": false, \"visit_start_date\": \"2025-10\", \"visit_occurrence_id\": 400}, {\"is_epidemic\": false, \"visit_start_date\": \"2025-11\", \"visit_occurrence_id\": 372}, {\"is_epidemic\": true, \"visit_start_date\": \"2019-12\", \"visit_occurrence_id\": 27}, {\"is_epidemic\": true, \"visit_start_date\": \"2020-01\", \"visit_occurrence_id\": 22}, {\"is_epidemic\": true, \"visit_start_date\": \"2020-02\", \"visit_occurrence_id\": 15}, {\"is_epidemic\": true, \"visit_start_date\": \"2020-03\", \"visit_occurrence_id\": 33}, {\"is_epidemic\": true, \"visit_start_date\": \"2020-04\", \"visit_occurrence_id\": 27}, {\"is_epidemic\": true, \"visit_start_date\": \"2020-05\", \"visit_occurrence_id\": 36}, {\"is_epidemic\": true, \"visit_start_date\": \"2020-06\", \"visit_occurrence_id\": 36}, {\"is_epidemic\": true, \"visit_start_date\": \"2020-07\", \"visit_occurrence_id\": 42}, {\"is_epidemic\": true, \"visit_start_date\": \"2020-08\", \"visit_occurrence_id\": 38}, {\"is_epidemic\": true, \"visit_start_date\": \"2020-09\", \"visit_occurrence_id\": 32}, {\"is_epidemic\": true, \"visit_start_date\": \"2020-10\", \"visit_occurrence_id\": 50}, {\"is_epidemic\": true, \"visit_start_date\": \"2020-11\", \"visit_occurrence_id\": 46}, {\"is_epidemic\": true, \"visit_start_date\": \"2020-12\", \"visit_occurrence_id\": 45}, {\"is_epidemic\": true, \"visit_start_date\": \"2021-01\", \"visit_occurrence_id\": 56}, {\"is_epidemic\": true, \"visit_start_date\": \"2021-02\", \"visit_occurrence_id\": 47}, {\"is_epidemic\": true, \"visit_start_date\": \"2021-03\", \"visit_occurrence_id\": 38}, {\"is_epidemic\": true, \"visit_start_date\": \"2021-04\", \"visit_occurrence_id\": 53}, {\"is_epidemic\": true, \"visit_start_date\": \"2021-05\", \"visit_occurrence_id\": 61}, {\"is_epidemic\": true, \"visit_start_date\": \"2021-06\", \"visit_occurrence_id\": 71}, {\"is_epidemic\": true, \"visit_start_date\": \"2021-07\", \"visit_occurrence_id\": 83}, {\"is_epidemic\": true, \"visit_start_date\": \"2021-08\", \"visit_occurrence_id\": 64}, {\"is_epidemic\": true, \"visit_start_date\": \"2021-09\", \"visit_occurrence_id\": 89}, {\"is_epidemic\": true, \"visit_start_date\": \"2021-10\", \"visit_occurrence_id\": 94}, {\"is_epidemic\": true, \"visit_start_date\": \"2021-11\", \"visit_occurrence_id\": 83}, {\"is_epidemic\": true, \"visit_start_date\": \"2021-12\", \"visit_occurrence_id\": 109}, {\"is_epidemic\": true, \"visit_start_date\": \"2022-01\", \"visit_occurrence_id\": 113}, {\"is_epidemic\": true, \"visit_start_date\": \"2022-02\", \"visit_occurrence_id\": 91}, {\"is_epidemic\": true, \"visit_start_date\": \"2022-03\", \"visit_occurrence_id\": 100}, {\"is_epidemic\": true, \"visit_start_date\": \"2022-04\", \"visit_occurrence_id\": 105}, {\"is_epidemic\": true, \"visit_start_date\": \"2022-05\", \"visit_occurrence_id\": 133}, {\"is_epidemic\": true, \"visit_start_date\": \"2022-06\", \"visit_occurrence_id\": 145}, {\"is_epidemic\": true, \"visit_start_date\": \"2022-07\", \"visit_occurrence_id\": 169}, {\"is_epidemic\": true, \"visit_start_date\": \"2022-08\", \"visit_occurrence_id\": 147}, {\"is_epidemic\": true, \"visit_start_date\": \"2022-09\", \"visit_occurrence_id\": 155}, {\"is_epidemic\": true, \"visit_start_date\": \"2022-10\", \"visit_occurrence_id\": 168}, {\"is_epidemic\": true, \"visit_start_date\": \"2022-11\", \"visit_occurrence_id\": 157}, {\"is_epidemic\": true, \"visit_start_date\": \"2022-12\", \"visit_occurrence_id\": 218}, {\"is_epidemic\": true, \"visit_start_date\": \"2023-01\", \"visit_occurrence_id\": 244}, {\"is_epidemic\": true, \"visit_start_date\": \"2023-02\", \"visit_occurrence_id\": 203}, {\"is_epidemic\": true, \"visit_start_date\": \"2023-03\", \"visit_occurrence_id\": 263}, {\"is_epidemic\": true, \"visit_start_date\": \"2023-04\", \"visit_occurrence_id\": 258}, {\"is_epidemic\": true, \"visit_start_date\": \"2023-05\", \"visit_occurrence_id\": 266}, {\"is_epidemic\": true, \"visit_start_date\": \"2023-06\", \"visit_occurrence_id\": 262}, {\"is_epidemic\": true, \"visit_start_date\": \"2023-07\", \"visit_occurrence_id\": 327}, {\"is_epidemic\": true, \"visit_start_date\": \"2023-08\", \"visit_occurrence_id\": 366}, {\"is_epidemic\": true, \"visit_start_date\": \"2023-09\", \"visit_occurrence_id\": 341}, {\"is_epidemic\": true, \"visit_start_date\": \"2023-10\", \"visit_occurrence_id\": 400}, {\"is_epidemic\": true, \"visit_start_date\": \"2023-11\", \"visit_occurrence_id\": 351}, {\"is_epidemic\": true, \"visit_start_date\": \"2023-12\", \"visit_occurrence_id\": 415}, {\"is_epidemic\": true, \"visit_start_date\": \"2024-01\", \"visit_occurrence_id\": 450}, {\"is_epidemic\": true, \"visit_start_date\": \"2024-02\", \"visit_occurrence_id\": 453}, {\"is_epidemic\": true, \"visit_start_date\": \"2024-03\", \"visit_occurrence_id\": 483}, {\"is_epidemic\": true, \"visit_start_date\": \"2024-04\", \"visit_occurrence_id\": 503}, {\"is_epidemic\": true, \"visit_start_date\": \"2024-05\", \"visit_occurrence_id\": 571}, {\"is_epidemic\": true, \"visit_start_date\": \"2024-06\", \"visit_occurrence_id\": 579}, {\"is_epidemic\": true, \"visit_start_date\": \"2024-07\", \"visit_occurrence_id\": 676}, {\"is_epidemic\": true, \"visit_start_date\": \"2024-08\", \"visit_occurrence_id\": 677}, {\"is_epidemic\": true, \"visit_start_date\": \"2024-09\", \"visit_occurrence_id\": 686}, {\"is_epidemic\": true, \"visit_start_date\": \"2024-10\", \"visit_occurrence_id\": 811}, {\"is_epidemic\": true, \"visit_start_date\": \"2024-11\", \"visit_occurrence_id\": 838}, {\"is_epidemic\": true, \"visit_start_date\": \"2024-12\", \"visit_occurrence_id\": 870}, {\"is_epidemic\": true, \"visit_start_date\": \"2025-01\", \"visit_occurrence_id\": 950}, {\"is_epidemic\": true, \"visit_start_date\": \"2025-02\", \"visit_occurrence_id\": 894}, {\"is_epidemic\": true, \"visit_start_date\": \"2025-03\", \"visit_occurrence_id\": 1098}, {\"is_epidemic\": true, \"visit_start_date\": \"2025-04\", \"visit_occurrence_id\": 1106}, {\"is_epidemic\": true, \"visit_start_date\": \"2025-05\", \"visit_occurrence_id\": 1165}, {\"is_epidemic\": true, \"visit_start_date\": \"2025-06\", \"visit_occurrence_id\": 1182}, {\"is_epidemic\": true, \"visit_start_date\": \"2025-07\", \"visit_occurrence_id\": 1324}, {\"is_epidemic\": true, \"visit_start_date\": \"2025-08\", \"visit_occurrence_id\": 1419}, {\"is_epidemic\": true, \"visit_start_date\": \"2025-09\", \"visit_occurrence_id\": 1481}, {\"is_epidemic\": true, \"visit_start_date\": \"2025-10\", \"visit_occurrence_id\": 1593}, {\"is_epidemic\": true, \"visit_start_date\": \"2025-11\", \"visit_occurrence_id\": 1695}]}}, {\"mode\": \"vega-lite\"});\n",
       "</script>"
      ],
      "text/plain": [
       "alt.Chart(...)"
      ]
     },
     "execution_count": 40,
     "metadata": {},
     "output_type": "execute_result"
    }
   ],
   "source": [
    "alt.Chart(epidemic_cond_summary).mark_line().encode(\n",
    "    x='visit_start_date:T',\n",
    "    y='visit_occurrence_id:Q',\n",
    "    color=\"is_epidemic:N\"\n",
    ")"
   ]
  },
  {
   "cell_type": "markdown",
   "metadata": {},
   "source": [
    "<a id=\"stat\"></a>\n",
    "# 3. Statistical analysis"
   ]
  },
  {
   "cell_type": "markdown",
   "metadata": {},
   "source": [
    "Now that we have pre-processed raw data to correct flawed or missing values and to define research-oriented variables, we can conduct the statistical analysis. Our data is ready to plot the Kaplan-Meier estimates of survival curves, and realize the log-rank tests.  \n",
    "We are only interested in epidemic visits, so filter out non epidemic conditions in the `df_cond_fix` DataFrame, and deduce from it the `df_visit_epidemic` DataFrame.\n"
   ]
  },
  {
   "cell_type": "code",
   "execution_count": 41,
   "metadata": {
    "tags": []
   },
   "outputs": [],
   "source": [
    "df_cond_epidemic = df_cond_fix[df_cond_fix.is_epidemic]"
   ]
  },
  {
   "cell_type": "code",
   "execution_count": 42,
   "metadata": {
    "tags": []
   },
   "outputs": [],
   "source": [
    "df_visit_epidemic = df_visit_fix[df_visit_fix.visit_occurrence_id.isin(df_cond_epidemic.visit_occurrence_id)]"
   ]
  },
  {
   "cell_type": "markdown",
   "metadata": {},
   "source": [
    "<a id=\"stat_first_kaplan\"></a>\n",
    "### Are the drugs efficient on the overall population ?"
   ]
  },
  {
   "cell_type": "markdown",
   "metadata": {},
   "source": [
    "Plot the new primary Kaplan-Meier estimates for the whole `df_person_fix` DataFrame with regards to the epidemic conditions, newly fixed visits and drug administration."
   ]
  },
  {
   "cell_type": "code",
   "execution_count": 43,
   "metadata": {
    "tags": []
   },
   "outputs": [
    {
     "data": {
      "image/png": "[encoded data removed]",
      "text/plain": [
       "<Figure size 1050x550 with 4 Axes>"
      ]
     },
     "metadata": {},
     "output_type": "display_data"
    }
   ],
   "source": [
    "plot_primary_kaplan(df_person_fix, [(df_visit_epidemic, df_med, 'all population')], t_end_of_study)"
   ]
  },
  {
   "cell_type": "markdown",
   "metadata": {},
   "source": [
    "What do you observe ?"
   ]
  },
  {
   "cell_type": "markdown",
   "metadata": {
    "tags": []
   },
   "source": [
    "**Correction** :  \n",
    "We observe that both drug A and drug B improve significantly the chance of survival when considering the total population. The study conducted on real world data consequently confirms the conclusion of the randomized controlled trials. We can moreover see that, although the survival rate at 20 days after admission does not depend on the drug, patients treated with drug A feature a higher survival rate during the early days after admission."
   ]
  },
  {
   "cell_type": "markdown",
   "metadata": {},
   "source": [
    "The analysis presented in this notebook is obviously not representative of a real research study that usually comprises more data transformations and a more involved statistical design. In particular, we have not considered the biases that may be induced by discarding missing data although it is a crucial issue that may be addressed leveraging complex statistical methodologies. This notebook aims only at providing a first illustration of some challenges related to the analysis of Real-World Data provided in hospitals' clinical data warehouses. \n",
    "\n",
    "In particular, it shows that analysis pipelines suited to Real-World Data studies are complex and multistage. Consolidating the quality of preprocessing pipelines appears important to enhance the reliability of evidences produced on EHR data. This consolidation may be reached by opening the code of the analysis pipelines to review, and by developing and testing it collaboratively for instance as part of open source scientific libraries."
   ]
  },
  {
   "cell_type": "markdown",
   "metadata": {},
   "source": [
    "<a id=\"takeaways\"></a>\n",
    "# 4. Takeaways\n",
    "\n",
    "- **Real-World Data verifies the no pain, no gain** principle. Although data may appear simpler to collect than in a randomized controlled trial, reaching meaningful insights requires correcting numerous biases and applying important transformations to raw data.\n",
    "- **Administrative and claim data** comprises important information for research although its has not been collected for that purpose.\n",
    "- **The analysis pipelines required to analyse Real-World Data are complex** and rely on numerous transformations that progressively improve data quality and its suitability for research. Sharing the development of analysis pipelines among projects, for instance in scientific libraries, improves the overall efficiency and quality of research."
   ]
  },
  {
   "cell_type": "markdown",
   "metadata": {},
   "source": [
    "<a id=\"references\"></a>\n",
    "# 5. References\n",
    "\n",
    "- Kohane, Isaac S, Bruce J Aronow, Paul Avillach, Brett K Beaulieu-Jones, Riccardo Bellazzi, Robert L Bradford, Gabriel A Brat, et al. « What Every Reader Should Know About Studies Using Electronic Health Record Data but May Be Afraid to Ask ». Journal of Medical Internet Research 23, nᵒ 3 (2 mars 2021): e22219. https://doi.org/10.2196/22219.\n",
    "- Kaplan, E. L., et Paul Meier. « Nonparametric Estimation from Incomplete Observations ». Journal of the American Statistical Association 53, nᵒ 282 (1958): 457‑81. https://doi.org/10.2307/2281868.\n",
    "- Davidson-Pilon, Cameron. lifelines, survival analysis in Python. Zenodo, 2021. https://doi.org/10.5281/zenodo.5745573.\n",
    "- McCoy, Allison B, Adam Wright, Michael G Kahn, Jason S Shapiro, Elmer Victor Bernstam, et Dean F Sittig. « Matching Identifiers in Electronic Health Records: Implications for Duplicate Records and Patient Safety ». BMJ Quality & Safety 22, nᵒ 3 (mars 2013): 219‑24. https://doi.org/10.1136/bmjqs-2012-001419.\n",
    "- Wilson, Greg, D. A. Aruliah, C. Titus Brown, Neil P. Chue Hong, Matt Davis, Richard T. Guy, Steven H. D. Haddock, et al. « Best Practices for Scientific Computing ». Édité par Jonathan A. Eisen. PLoS Biology 12, nᵒ 1 (7 janvier 2014): e1001745. https://doi.org/10.1371/journal.pbio.1001745."
   ]
  }
 ],
 "metadata": {
  "kernelspec": {
   "display_name": "eds-tuto",
   "language": "python",
   "name": "eds-tuto"
  },
  "language_info": {
   "codemirror_mode": {
    "name": "ipython",
    "version": 3
   },
   "file_extension": ".py",
   "mimetype": "text/x-python",
   "name": "python",
   "nbconvert_exporter": "python",
   "pygments_lexer": "ipython3",
   "version": "3.7.16"
  },
  "vscode": {
   "interpreter": {
    "hash": "2ffb0fb47ea8f733c001ba519ad88900dd17f4bfc9ebfd0d356a457e5cc19a15"
   }
  }
 },
 "nbformat": 4,
 "nbformat_minor": 4
}
